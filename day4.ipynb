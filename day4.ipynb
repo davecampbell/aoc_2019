{
 "cells": [
  {
   "cell_type": "code",
   "execution_count": 33,
   "metadata": {},
   "outputs": [],
   "source": [
    "# Day 4 - AOC\n",
    "# https://adventofcode.com/2019/day/4"
   ]
  },
  {
   "cell_type": "code",
   "execution_count": 34,
   "metadata": {},
   "outputs": [],
   "source": [
    "input_string = \"240298-784956\"\n",
    "# split the range string into two integers\n",
    "input_range = input_string.split('-')"
   ]
  },
  {
   "cell_type": "code",
   "execution_count": 44,
   "metadata": {},
   "outputs": [],
   "source": [
    "# check for the two cases of validity\n",
    "def test_it(in_string):\n",
    "    # set the default states\n",
    "    pass_no_decrease = True\n",
    "    pass_double = False\n",
    "    # go through each successive pair of digits (ith and (i+1)th)\n",
    "    for i in range(len(in_string)-1):\n",
    "        # check if a smalller number follows\n",
    "        if(int(in_string[i+1]) < int(in_string[i])):\n",
    "            pass_no_decrease = False\n",
    "        # check if the two are the same\n",
    "        if(in_string[i] == in_string[i+1]):\n",
    "            pass_double = True\n",
    "    # return the anded states (one of both False makes it False - both have to be True)\n",
    "    return(pass_double and pass_no_decrease)"
   ]
  },
  {
   "cell_type": "code",
   "execution_count": 48,
   "metadata": {},
   "outputs": [],
   "source": [
    "total = 0\n",
    "# go through every number in the range\n",
    "for i in range(int(input_range[0]), int(input_range[1])):\n",
    "    # if the test passes, increment total\n",
    "    if(test_it(str(i))):\n",
    "        total += 1"
   ]
  },
  {
   "cell_type": "code",
   "execution_count": 49,
   "metadata": {},
   "outputs": [
    {
     "name": "stdout",
     "output_type": "stream",
     "text": [
      "There are 1150 total number of digits that qualify as a password.\n"
     ]
    }
   ],
   "source": [
    "print(\"There are {} total number of digits that qualify as a password.\".format(total))"
   ]
  },
  {
   "cell_type": "code",
   "execution_count": null,
   "metadata": {},
   "outputs": [],
   "source": []
  }
 ],
 "metadata": {
  "kernelspec": {
   "display_name": "Python 3",
   "language": "python",
   "name": "python3"
  },
  "language_info": {
   "codemirror_mode": {
    "name": "ipython",
    "version": 3
   },
   "file_extension": ".py",
   "mimetype": "text/x-python",
   "name": "python",
   "nbconvert_exporter": "python",
   "pygments_lexer": "ipython3",
   "version": "3.6.4"
  }
 },
 "nbformat": 4,
 "nbformat_minor": 2
}
