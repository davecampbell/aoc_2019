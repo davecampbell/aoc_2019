{
 "cells": [
  {
   "cell_type": "code",
   "execution_count": 1,
   "metadata": {},
   "outputs": [],
   "source": [
    "# Day 7 - part2 challenge for AOC2019\n",
    "# https://adventofcode.com/2019/day/7"
   ]
  },
  {
   "cell_type": "code",
   "execution_count": 2,
   "metadata": {},
   "outputs": [],
   "source": [
    "# this object is where the Intcode program lives and some useful methods\n",
    "# to fill it, clear it, read from it, write to it\n",
    "class Computer:\n",
    "    global set_trace\n",
    "    global inputs\n",
    "    \n",
    "    def __init__(self, size, stage):\n",
    "        self.size = size  # must specify the memory size\n",
    "        self.stage = stage\n",
    "        self.storage = [None] * size  # initialize with None\n",
    "     \n",
    "    # dump out the contents between 2 positions (defaults all the memory)\n",
    "    def dump(self,start=0,end=-1):\n",
    "        if(end == -1):\n",
    "            end = self.size\n",
    "        for i in range(start, end):\n",
    "            print(\"{}: {}\".format(i,self.storage[i]))\n",
    "\n",
    "    # fill the memory with a sequence, starting at a certain position - which defaults to 0\n",
    "    def fill(self, codelist, start_pos = 0):\n",
    "        i = start_pos\n",
    "        for j in codelist:\n",
    "            self.storage[i] = j\n",
    "            i+=1\n",
    "    \n",
    "    # fill (write to) memory with a sequence, allowing direct or reference starting location\n",
    "    def mode_fill(self, s, mem_location, mode):\n",
    "        # mem_location: where to begin fill or to reference to begin\n",
    "        # mode (0 - position, 1 - immediate)\n",
    "        if(set_trace): import pdb; pdb.set_trace()\n",
    "        if(mode == '0'):\n",
    "            i = self.storage[mem_location]\n",
    "            for j in s:\n",
    "                self.storage[i] = j\n",
    "                i+=1\n",
    "        elif(mode == '1'):\n",
    "            i = mem_location\n",
    "            for j in s:\n",
    "                self.storage[i] = j\n",
    "                i+=1\n",
    "                \n",
    "    # get data from input_buffer for this stage\n",
    "    # if it has 2 values, then it hasn't read in the amp_setting\n",
    "    # that state will return the last value and remove it\n",
    "    def getfrominput(self):\n",
    "        if(len(inputs[self.stage].contents) > 1):\n",
    "            # pop a value off and return it\n",
    "            return(inputs[self.stage].contents.pop())\n",
    "        else:\n",
    "            # return just that last value but leave it\n",
    "            return(inputs[self.stage].contents[0])\n",
    "\n",
    "    # put data to output_buffer for this stage (which is next stage's input)\n",
    "    # put this output value into position [0] of that buffer (position [1] will have possible amp_setting)\n",
    "    def puttooutput(self, val):\n",
    "        inputs[next_stage(self.stage,5)].contents[0] = val\n",
    "        return\n",
    "\n",
    "    # read the contents from just one position\n",
    "    def read(self, pos):\n",
    "        return self.storage[pos]\n",
    "   \n",
    "    # return the value based on parameter mode (position or immediate)\n",
    "    def mode_read(self, pos, mode):\n",
    "        if(set_trace): import pdb; pdb.set_trace()\n",
    "        # mode: 0 - position, 1 - immediate\n",
    "        if(mode == '0'):\n",
    "            return int(self.storage[self.storage[pos]])\n",
    "        elif(mode == '1'):\n",
    "            return int(self.storage[pos])\n",
    "\n",
    "    # clear the memory\n",
    "    def clear(self):\n",
    "        self.storage = [None] * self.size\n",
    "\n",
    "    # this function will execute a single sequence (operator + subsequent operands and output location)\n",
    "    def exec_seq(self, ctr):\n",
    "        global set_trace\n",
    "        # ctr - where to start\n",
    "        # m - the memory object to work from\n",
    "        # the first in the sequence is the 'enhnanced opcode' (includes 3 parameter modes in most significant position)\n",
    "        # zero-pad to 5 - most significant 0 is implied\n",
    "        enhanced_opcode = str(self.read(ctr)).zfill(5)\n",
    "        # first 3 characters are the parameter modes\n",
    "        pmodes = enhanced_opcode[:3]\n",
    "        # last 2 characters are the opcode\n",
    "        opcode = enhanced_opcode[3:]\n",
    "        if(set_trace): import pdb; pdb.set_trace()\n",
    "        # if it is 99, we're done\n",
    "        if(opcode == '99'):\n",
    "            prog_status[self.stage] = \"STOP\"\n",
    "            return(\"STOP\")\n",
    "        # this is the \"add\" operator\n",
    "        elif(opcode == \"01\"):\n",
    "            if(set_trace): import pdb; pdb.set_trace()\n",
    "            operand1 = self.mode_read(ctr+1, pmodes[2])\n",
    "            operand2 = self.mode_read(ctr+2, pmodes[1])\n",
    "            if(set_trace): import pdb; pdb.set_trace()\n",
    "            calcval = operand1 + operand2\n",
    "        # this is the \"multiply\" operator\n",
    "        elif(opcode == \"02\"):\n",
    "            if(set_trace): import pdb; pdb.set_trace()\n",
    "            operand1 = self.mode_read(ctr+1, pmodes[2])\n",
    "            operand2 = self.mode_read(ctr+2, pmodes[1])\n",
    "            calcval = operand1 * operand2\n",
    "        # this is the 'store from input' operator\n",
    "        elif(opcode == \"03\"):\n",
    "            if(set_trace): import pdb; pdb.set_trace()\n",
    "            # get the input\n",
    "            # val = getfrominput()\n",
    "            # the input buffer is the one for this amp stage\n",
    "            val = self.getfrominput()\n",
    "            # store it in address provided by next code\n",
    "            self.mode_fill([val], ctr+1, pmodes[2])\n",
    "            # return next prog counter\n",
    "            return(ctr+2)\n",
    "        # this is the 'send to output' operator\n",
    "        elif(opcode == \"04\"):\n",
    "            if(set_trace): import pdb; pdb.set_trace()\n",
    "            # read the val (based on mode) specified from next code and send to output\n",
    "            self.puttooutput(self.mode_read(ctr+1, pmodes[2]))\n",
    "            prog_status[self.stage] = \"OUTPUT\"\n",
    "            return(ctr+2)\n",
    "        # this is 'jump if true'\n",
    "        elif(opcode == \"05\"):\n",
    "            if(self.mode_read(ctr+1, pmodes[2])):\n",
    "                return(self.mode_read(ctr+2, pmodes[1]))\n",
    "            else:\n",
    "                return(ctr+3)\n",
    "        # this is 'jump if false'\n",
    "        elif(opcode == \"06\"):\n",
    "            if(self.mode_read(ctr+1, pmodes[2])):\n",
    "                return(ctr+3)\n",
    "            else:\n",
    "                return(self.mode_read(ctr+2, pmodes[1]))\n",
    "        # this is 'less than' operator\n",
    "        elif(opcode == \"07\"):\n",
    "            operand1 = self.mode_read(ctr+1, pmodes[2])\n",
    "            operand2 = self.mode_read(ctr+2, pmodes[1])\n",
    "            if(operand1 < operand2):\n",
    "                storeval = 1\n",
    "            else:\n",
    "                storeval = 0\n",
    "            self.mode_fill([storeval], ctr+3, pmodes[0])\n",
    "            return(ctr+4)\n",
    "        # this is the 'eqals to' operator\n",
    "        elif(opcode == \"08\"):\n",
    "            operand1 = self.mode_read(ctr+1, pmodes[2])\n",
    "            operand2 = self.mode_read(ctr+2, pmodes[1])\n",
    "            if(operand1 == operand2):\n",
    "                storeval = 1\n",
    "            else:\n",
    "                storeval = 0\n",
    "            self.mode_fill([storeval], ctr+3, pmodes[0])\n",
    "            return(ctr+4)        \n",
    "        # if here, then the opcode is not known\n",
    "        else:\n",
    "            return(\"BADOPCODE\")\n",
    "        # fill the output destination with value depending on mode\n",
    "        if(set_trace): import pdb; pdb.set_trace()\n",
    "        self.mode_fill([calcval], ctr+3, pmodes[0])\n",
    "        # and return the next postion in the memory\n",
    "        return(ctr+4)"
   ]
  },
  {
   "cell_type": "code",
   "execution_count": 3,
   "metadata": {},
   "outputs": [],
   "source": [
    "# this returns the next stage #, and 0 if it would be max (feedback thing)\n",
    "def next_stage(i, max):\n",
    "    n = i+1\n",
    "    if(n == max):\n",
    "        return(0)\n",
    "    else:\n",
    "        return(n)"
   ]
  },
  {
   "cell_type": "code",
   "execution_count": 4,
   "metadata": {},
   "outputs": [],
   "source": [
    "# this will turn on debugging and set breakpoints\n",
    "set_trace = False"
   ]
  },
  {
   "cell_type": "code",
   "execution_count": 5,
   "metadata": {},
   "outputs": [],
   "source": [
    "class Amplifier:\n",
    "    def __init__(self, size, stage=0):\n",
    "        self.phase_setting = None\n",
    "        self.stage = stage\n",
    "        self.computer = Computer(size, stage=stage)"
   ]
  },
  {
   "cell_type": "code",
   "execution_count": 6,
   "metadata": {},
   "outputs": [],
   "source": [
    "class Input_buffer:\n",
    "    def __init__(self):\n",
    "        self.contents = [None, None]"
   ]
  },
  {
   "cell_type": "code",
   "execution_count": 7,
   "metadata": {},
   "outputs": [],
   "source": [
    "# this function returns a list that contains only the unique elements of the input list\n",
    "def uniquify(seq):\n",
    "   # Not order preserving    \n",
    "   retset = set(seq)\n",
    "   return list(retset)"
   ]
  },
  {
   "cell_type": "code",
   "execution_count": 8,
   "metadata": {},
   "outputs": [],
   "source": [
    "# this function fills the amp_settings array with only unique elements from the input list\n",
    "def fill_amp_settings(obj_list):\n",
    "    global amp_settings\n",
    "    amp_settings = []\n",
    "    for i in obj_list:\n",
    "        for j in obj_list:\n",
    "            for k in obj_list:\n",
    "                for l in obj_list:\n",
    "                    for m in obj_list:\n",
    "                        pot_list = [i,j,k,l,m]\n",
    "                        if(len(uniquify(pot_list)) == len(obj_list)):\n",
    "                            amp_settings.append(pot_list)"
   ]
  },
  {
   "cell_type": "code",
   "execution_count": 9,
   "metadata": {},
   "outputs": [],
   "source": [
    "# input buffers - read from by each amp stage\n",
    "inputs = [Input_buffer() for _ in range(5)]"
   ]
  },
  {
   "cell_type": "code",
   "execution_count": 10,
   "metadata": {},
   "outputs": [],
   "source": [
    "# this is the initial input (read into the input buffer before execution)\n",
    "inputs[0].contents[0] = 0\n",
    "\n",
    "# the amp 'program'\n",
    "seq = [3,26,1001,26,-4,26,3,27,1002,27,2,27,1,27,26,27,4,27,1001,28,-1,28,1005,28,6,99,0,0,5]\n",
    "# seq = [3,8,1001,8,10,8,105,1,0,0,21,42,67,84,109,126,207,288,369,450,99999,3,9,102,4,9,9,1001,9,4,9,102,2,9,9,101,2,9,9,4,9,99,3,9,1001,9,5,9,1002,9,5,9,1001,9,5,9,1002,9,5,9,101,5,9,9,4,9,99,3,9,101,5,9,9,1002,9,3,9,1001,9,2,9,4,9,99,3,9,1001,9,2,9,102,4,9,9,101,2,9,9,102,4,9,9,1001,9,2,9,4,9,99,3,9,102,2,9,9,101,5,9,9,1002,9,2,9,4,9,99,3,9,1002,9,2,9,4,9,3,9,1002,9,2,9,4,9,3,9,1002,9,2,9,4,9,3,9,101,2,9,9,4,9,3,9,101,2,9,9,4,9,3,9,1001,9,2,9,4,9,3,9,101,2,9,9,4,9,3,9,1001,9,2,9,4,9,3,9,1002,9,2,9,4,9,3,9,1001,9,1,9,4,9,99,3,9,1001,9,2,9,4,9,3,9,1002,9,2,9,4,9,3,9,1002,9,2,9,4,9,3,9,1001,9,2,9,4,9,3,9,102,2,9,9,4,9,3,9,102,2,9,9,4,9,3,9,1001,9,2,9,4,9,3,9,102,2,9,9,4,9,3,9,1002,9,2,9,4,9,3,9,102,2,9,9,4,9,99,3,9,102,2,9,9,4,9,3,9,1001,9,1,9,4,9,3,9,101,1,9,9,4,9,3,9,101,1,9,9,4,9,3,9,1002,9,2,9,4,9,3,9,102,2,9,9,4,9,3,9,101,2,9,9,4,9,3,9,101,1,9,9,4,9,3,9,101,1,9,9,4,9,3,9,101,2,9,9,4,9,99,3,9,1001,9,2,9,4,9,3,9,101,1,9,9,4,9,3,9,101,2,9,9,4,9,3,9,1001,9,1,9,4,9,3,9,1001,9,2,9,4,9,3,9,1001,9,1,9,4,9,3,9,101,1,9,9,4,9,3,9,102,2,9,9,4,9,3,9,102,2,9,9,4,9,3,9,101,1,9,9,4,9,99,3,9,102,2,9,9,4,9,3,9,1001,9,1,9,4,9,3,9,101,2,9,9,4,9,3,9,1002,9,2,9,4,9,3,9,102,2,9,9,4,9,3,9,1001,9,1,9,4,9,3,9,1002,9,2,9,4,9,3,9,101,1,9,9,4,9,3,9,102,2,9,9,4,9,3,9,1001,9,2,9,4,9,99]"
   ]
  },
  {
   "cell_type": "code",
   "execution_count": 11,
   "metadata": {},
   "outputs": [],
   "source": [
    "# fill the amp_settings array with unique combinations of the following symbols\n",
    "fill_amp_settings(['0','1','2','3','4'])"
   ]
  },
  {
   "cell_type": "code",
   "execution_count": 12,
   "metadata": {},
   "outputs": [],
   "source": [
    "# a single sequence of amp settings (for testing)\n",
    "amp_settings = []\n",
    "amp_settings.append([9,8,7,6,5])"
   ]
  },
  {
   "cell_type": "code",
   "execution_count": 14,
   "metadata": {},
   "outputs": [],
   "source": [
    "# initialize the input buffers with the amp_settings\n",
    "for idx,s in enumerate(amp_settings[0]):\n",
    "    inputs[idx].contents[1] = s\n",
    "    # print(inputs[idx].contents)"
   ]
  },
  {
   "cell_type": "code",
   "execution_count": 15,
   "metadata": {},
   "outputs": [],
   "source": [
    "prog_status = [None] * 5\n",
    "prog_ctr = [None] * 5\n",
    "amps = [Amplifier(len(seq), stage=i) for i in range(5)]"
   ]
  },
  {
   "cell_type": "code",
   "execution_count": 23,
   "metadata": {},
   "outputs": [
    {
     "name": "stdout",
     "output_type": "stream",
     "text": [
      "IDLE\n",
      "STOP\n"
     ]
    }
   ],
   "source": [
    "# initialize each stage\n",
    "for i in range(5):\n",
    "    amps[i].computer.fill(seq)\n",
    "    # prog_ctr[i] = 0\n",
    "    prog_status[i] = \"IDLE\"\n",
    "print(prog_status[0])\n",
    "print(prog_ctr[0])"
   ]
  },
  {
   "cell_type": "code",
   "execution_count": 22,
   "metadata": {},
   "outputs": [
    {
     "name": "stdout",
     "output_type": "stream",
     "text": [
      "prog_ctr[0]=STOP\n"
     ]
    },
    {
     "ename": "TypeError",
     "evalue": "list indices must be integers or slices, not str",
     "output_type": "error",
     "traceback": [
      "\u001b[0;31m---------------------------------------------------------------------------\u001b[0m",
      "\u001b[0;31mTypeError\u001b[0m                                 Traceback (most recent call last)",
      "\u001b[0;32m<ipython-input-22-68babd1d3304>\u001b[0m in \u001b[0;36m<module>\u001b[0;34m()\u001b[0m\n\u001b[1;32m      3\u001b[0m         \u001b[0mprog_status\u001b[0m\u001b[0;34m[\u001b[0m\u001b[0mi\u001b[0m\u001b[0;34m]\u001b[0m \u001b[0;34m=\u001b[0m \u001b[0;34m\"RUNNING\"\u001b[0m\u001b[0;34m\u001b[0m\u001b[0m\n\u001b[1;32m      4\u001b[0m         \u001b[0mprint\u001b[0m\u001b[0;34m(\u001b[0m\u001b[0;34m\"prog_ctr[{}]={}\"\u001b[0m\u001b[0;34m.\u001b[0m\u001b[0mformat\u001b[0m\u001b[0;34m(\u001b[0m\u001b[0mi\u001b[0m\u001b[0;34m,\u001b[0m \u001b[0mprog_ctr\u001b[0m\u001b[0;34m[\u001b[0m\u001b[0mi\u001b[0m\u001b[0;34m]\u001b[0m\u001b[0;34m)\u001b[0m\u001b[0;34m)\u001b[0m\u001b[0;34m\u001b[0m\u001b[0m\n\u001b[0;32m----> 5\u001b[0;31m         \u001b[0mprog_ctr\u001b[0m\u001b[0;34m[\u001b[0m\u001b[0mi\u001b[0m\u001b[0;34m]\u001b[0m \u001b[0;34m=\u001b[0m \u001b[0mamps\u001b[0m\u001b[0;34m[\u001b[0m\u001b[0mi\u001b[0m\u001b[0;34m]\u001b[0m\u001b[0;34m.\u001b[0m\u001b[0mcomputer\u001b[0m\u001b[0;34m.\u001b[0m\u001b[0mexec_seq\u001b[0m\u001b[0;34m(\u001b[0m\u001b[0mprog_ctr\u001b[0m\u001b[0;34m[\u001b[0m\u001b[0mi\u001b[0m\u001b[0;34m]\u001b[0m\u001b[0;34m)\u001b[0m\u001b[0;34m\u001b[0m\u001b[0m\n\u001b[0m\u001b[1;32m      6\u001b[0m         \u001b[0;32mwhile\u001b[0m\u001b[0;34m(\u001b[0m\u001b[0mprog_status\u001b[0m\u001b[0;34m[\u001b[0m\u001b[0mi\u001b[0m\u001b[0;34m]\u001b[0m \u001b[0;34m!=\u001b[0m \u001b[0;34m\"OUTPUT\"\u001b[0m \u001b[0;32mand\u001b[0m \u001b[0mprog_status\u001b[0m\u001b[0;34m[\u001b[0m\u001b[0mi\u001b[0m\u001b[0;34m]\u001b[0m \u001b[0;34m!=\u001b[0m \u001b[0;34m\"STOP\"\u001b[0m\u001b[0;34m)\u001b[0m\u001b[0;34m:\u001b[0m\u001b[0;34m\u001b[0m\u001b[0m\n\u001b[1;32m      7\u001b[0m             \u001b[0mprog_ctr\u001b[0m\u001b[0;34m[\u001b[0m\u001b[0mi\u001b[0m\u001b[0;34m]\u001b[0m \u001b[0;34m=\u001b[0m \u001b[0mamps\u001b[0m\u001b[0;34m[\u001b[0m\u001b[0mi\u001b[0m\u001b[0;34m]\u001b[0m\u001b[0;34m.\u001b[0m\u001b[0mcomputer\u001b[0m\u001b[0;34m.\u001b[0m\u001b[0mexec_seq\u001b[0m\u001b[0;34m(\u001b[0m\u001b[0mprog_ctr\u001b[0m\u001b[0;34m[\u001b[0m\u001b[0mi\u001b[0m\u001b[0;34m]\u001b[0m\u001b[0;34m)\u001b[0m\u001b[0;34m\u001b[0m\u001b[0m\n",
      "\u001b[0;32m<ipython-input-2-705770d580c3>\u001b[0m in \u001b[0;36mexec_seq\u001b[0;34m(self, ctr)\u001b[0m\n\u001b[1;32m     81\u001b[0m         \u001b[0;31m# the first in the sequence is the 'enhnanced opcode' (includes 3 parameter modes in most significant position)\u001b[0m\u001b[0;34m\u001b[0m\u001b[0;34m\u001b[0m\u001b[0m\n\u001b[1;32m     82\u001b[0m         \u001b[0;31m# zero-pad to 5 - most significant 0 is implied\u001b[0m\u001b[0;34m\u001b[0m\u001b[0;34m\u001b[0m\u001b[0m\n\u001b[0;32m---> 83\u001b[0;31m         \u001b[0menhanced_opcode\u001b[0m \u001b[0;34m=\u001b[0m \u001b[0mstr\u001b[0m\u001b[0;34m(\u001b[0m\u001b[0mself\u001b[0m\u001b[0;34m.\u001b[0m\u001b[0mread\u001b[0m\u001b[0;34m(\u001b[0m\u001b[0mctr\u001b[0m\u001b[0;34m)\u001b[0m\u001b[0;34m)\u001b[0m\u001b[0;34m.\u001b[0m\u001b[0mzfill\u001b[0m\u001b[0;34m(\u001b[0m\u001b[0;36m5\u001b[0m\u001b[0;34m)\u001b[0m\u001b[0;34m\u001b[0m\u001b[0m\n\u001b[0m\u001b[1;32m     84\u001b[0m         \u001b[0;31m# first 3 characters are the parameter modes\u001b[0m\u001b[0;34m\u001b[0m\u001b[0;34m\u001b[0m\u001b[0m\n\u001b[1;32m     85\u001b[0m         \u001b[0mpmodes\u001b[0m \u001b[0;34m=\u001b[0m \u001b[0menhanced_opcode\u001b[0m\u001b[0;34m[\u001b[0m\u001b[0;34m:\u001b[0m\u001b[0;36m3\u001b[0m\u001b[0;34m]\u001b[0m\u001b[0;34m\u001b[0m\u001b[0m\n",
      "\u001b[0;32m<ipython-input-2-705770d580c3>\u001b[0m in \u001b[0;36mread\u001b[0;34m(self, pos)\u001b[0m\n\u001b[1;32m     59\u001b[0m     \u001b[0;31m# read the contents from just one position\u001b[0m\u001b[0;34m\u001b[0m\u001b[0;34m\u001b[0m\u001b[0m\n\u001b[1;32m     60\u001b[0m     \u001b[0;32mdef\u001b[0m \u001b[0mread\u001b[0m\u001b[0;34m(\u001b[0m\u001b[0mself\u001b[0m\u001b[0;34m,\u001b[0m \u001b[0mpos\u001b[0m\u001b[0;34m)\u001b[0m\u001b[0;34m:\u001b[0m\u001b[0;34m\u001b[0m\u001b[0m\n\u001b[0;32m---> 61\u001b[0;31m         \u001b[0;32mreturn\u001b[0m \u001b[0mself\u001b[0m\u001b[0;34m.\u001b[0m\u001b[0mstorage\u001b[0m\u001b[0;34m[\u001b[0m\u001b[0mpos\u001b[0m\u001b[0;34m]\u001b[0m\u001b[0;34m\u001b[0m\u001b[0m\n\u001b[0m\u001b[1;32m     62\u001b[0m \u001b[0;34m\u001b[0m\u001b[0m\n\u001b[1;32m     63\u001b[0m     \u001b[0;31m# return the value based on parameter mode (position or immediate)\u001b[0m\u001b[0;34m\u001b[0m\u001b[0;34m\u001b[0m\u001b[0m\n",
      "\u001b[0;31mTypeError\u001b[0m: list indices must be integers or slices, not str"
     ]
    }
   ],
   "source": [
    "while(prog_status[4] != \"STOP\"):\n",
    "    for i in range(5):\n",
    "        prog_status[i] = \"RUNNING\"\n",
    "        print(\"prog_ctr[{}]={}\".format(i, prog_ctr[i]))\n",
    "        prog_ctr[i] = amps[i].computer.exec_seq(prog_ctr[i])\n",
    "        while(prog_status[i] != \"OUTPUT\" and prog_status[i] != \"STOP\"):\n",
    "            prog_ctr[i] = amps[i].computer.exec_seq(prog_ctr[i])\n",
    "        prog_status[i] = \"IDLE\"\n",
    "\n",
    "print(inputs[0].contents[0])"
   ]
  },
  {
   "cell_type": "code",
   "execution_count": null,
   "metadata": {},
   "outputs": [],
   "source": [
    "# initialize the max\n",
    "max = 0\n",
    "# initialize the input to the whole system\n",
    "prog_inputs = []\n",
    "outputstring = '0'\n",
    "\n",
    "for j in range(0,4):\n",
    "    for a in amp_settings:\n",
    "\n",
    "        # go through as many stages are as there are settings\n",
    "        for i in range(0,len(a)):\n",
    "            # instantiate the amp\n",
    "            amp = Amplifier(len(seq))\n",
    "            # load the program\n",
    "            amp.computer.fill(seq)\n",
    "            # set the the inputs\n",
    "            # the input to this stage is the output from the last stage (persisted in outputstring)\n",
    "            prog_inputs.append(outputstring)\n",
    "            outputstring = None\n",
    "            # put this stage's setting onto the input buffer\n",
    "            prog_inputs.append(a[i])\n",
    "            # run the program\n",
    "            # execute the program\n",
    "            # print(prog_inputs)\n",
    "            prog_ctr = 0\n",
    "            prog_status = \"RUNNING\"\n",
    "            ret = amp.computer.exec_seq(prog_ctr)\n",
    "            while(ret != \"STOP\" and ret != \"BADOPCODE\"):\n",
    "                # print(ret)\n",
    "                prog_ctr = ret\n",
    "                ret = amp.computer.exec_seq(ret)\n",
    "            prog_status = ret\n",
    "            print(\"PROG STATE AFTER CYCLE: {}, AMP#{}: {}\".format(j,i,prog_status))\n",
    "            if(set_trace): import pdb; pdb.set_trace()\n",
    "            \n",
    "            prog_inputs = []\n",
    "\n",
    "        # print(\"final output: {}\".format(outputstring))\n",
    "        outnum = int(outputstring)\n",
    "    if(outnum > max):\n",
    "        max = outnum\n",
    "        s = a"
   ]
  },
  {
   "cell_type": "code",
   "execution_count": null,
   "metadata": {},
   "outputs": [],
   "source": [
    "print(\"settings: {} produces a max thruster output of: {}\".format(s,max))"
   ]
  },
  {
   "cell_type": "code",
   "execution_count": null,
   "metadata": {},
   "outputs": [],
   "source": []
  },
  {
   "cell_type": "code",
   "execution_count": null,
   "metadata": {},
   "outputs": [],
   "source": []
  }
 ],
 "metadata": {
  "kernelspec": {
   "display_name": "Python 3",
   "language": "python",
   "name": "python3"
  },
  "language_info": {
   "codemirror_mode": {
    "name": "ipython",
    "version": 3
   },
   "file_extension": ".py",
   "mimetype": "text/x-python",
   "name": "python",
   "nbconvert_exporter": "python",
   "pygments_lexer": "ipython3",
   "version": "3.6.4"
  }
 },
 "nbformat": 4,
 "nbformat_minor": 2
}
