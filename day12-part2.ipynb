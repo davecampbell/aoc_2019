{
 "cells": [
  {
   "cell_type": "code",
   "execution_count": 1,
   "metadata": {},
   "outputs": [],
   "source": [
    "# AOC Day 12 - https://adventofcode.com/2019/day/12"
   ]
  },
  {
   "cell_type": "code",
   "execution_count": 2,
   "metadata": {},
   "outputs": [],
   "source": [
    "class Moon:\n",
    "    def __init__(self, x, y, z, vx=0, vy=0, vz=0, name=None):\n",
    "        self.pos = [x, y, z]\n",
    "        self.vel = [vx, vy, vz]\n",
    "        self.name = name\n",
    "        self.velprime = [0,0,0]\n",
    "        return"
   ]
  },
  {
   "cell_type": "code",
   "execution_count": 3,
   "metadata": {},
   "outputs": [],
   "source": [
    "# this is a function that isn't built-in to python anymore\n",
    "# returns -1, 0, or 1 depending on relative value of a,b\n",
    "def cmp(a, b):\n",
    "    return (a > b) - (a < b)"
   ]
  },
  {
   "cell_type": "code",
   "execution_count": 4,
   "metadata": {},
   "outputs": [],
   "source": [
    "class MoonSystem:\n",
    "    def __init__(self):\n",
    "        self.moons = []\n",
    "        self.energy = 0\n",
    "        return\n",
    "    def add_moon(self,x,y,z,vx,vy,vz,name):\n",
    "        self.moons.append(Moon(x,y,z,vx,vy,vz,name))\n",
    "        return\n",
    "    def step(self):\n",
    "        import itertools\n",
    "        # update the velocity from the current positions\n",
    "        for m,n in itertools.combinations(self.moons, 2):\n",
    "            m.vel[0] += cmp(n.pos[0] - m.pos[0], 0)\n",
    "            n.vel[0] += cmp(m.pos[0] - n.pos[0], 0)\n",
    "            m.vel[1] += cmp(n.pos[1] - m.pos[1], 0)\n",
    "            n.vel[1] += cmp(m.pos[1] - n.pos[1], 0)\n",
    "            m.vel[2] += cmp(n.pos[2] - m.pos[2], 0)\n",
    "            n.vel[2] += cmp(m.pos[2] - n.pos[2], 0)\n",
    "        # now update the positions from the updated velocities\n",
    "        for m in self.moons:\n",
    "            m.pos[0] += m.vel[0]\n",
    "            m.pos[1] += m.vel[1]\n",
    "            m.pos[2] += m.vel[2]\n",
    "        return\n",
    "    def show(self):\n",
    "        # print(\"{} moons.\".format(len(self.moons)))\n",
    "        for m in self.moons:\n",
    "            print(\"{}: p: {}  v: {}\".format(m.name, m.pos, m.vel))\n",
    "        return\n",
    "    def calc_energy(self):\n",
    "        e = 0\n",
    "        for m in self.moons:\n",
    "            e += sum([abs(x) for x in m.pos]) * sum([abs(x) for x in m.vel])\n",
    "        self.energy = e\n",
    "        return(e)\n",
    "    def hash_state(self):\n",
    "        # make a hash from the pos and vel states, represented as strings with # as delimiter\n",
    "        statestrings = []\n",
    "        # add all the parts to an array, for each moon\n",
    "        for m in self.moons:\n",
    "            statestrings.append(str(m.pos[0]))\n",
    "            statestrings.append(str(m.pos[1]))\n",
    "            statestrings.append(str(m.pos[2]))\n",
    "            statestrings.append(str(m.vel[0]))\n",
    "            statestrings.append(str(m.vel[1]))\n",
    "            statestrings.append(str(m.vel[2]))\n",
    "        # turn those parts into one string\n",
    "        statestring = '#'.join(statestrings)\n",
    "        # return the hash of that string\n",
    "        return(hash(statestring))"
   ]
  },
  {
   "cell_type": "code",
   "execution_count": 5,
   "metadata": {},
   "outputs": [],
   "source": [
    "# this is the whole system of moons\n",
    "ms = MoonSystem()"
   ]
  },
  {
   "cell_type": "code",
   "execution_count": 6,
   "metadata": {},
   "outputs": [],
   "source": [
    "# my input\n",
    "# add each moon with initial positions, initial velocity, and a name\n",
    "ms.add_moon(x=-0, y=6, z=1, vx=0, vy=0, vz=0, name='io')\n",
    "ms.add_moon(x=4, y=4, z=19, vx=0, vy=0, vz=0, name='europa')\n",
    "ms.add_moon(x=-11, y=1, z=8, vx=0, vy=0, vz=0, name='ganymede')\n",
    "ms.add_moon(x=2, y=19, z=15, vx=0, vy=0, vz=0, name='callisto')\n",
    "# test input\n",
    "# <x=-1, y=0, z=2>\n",
    "# <x=2, y=-10, z=-7>\n",
    "# <x=4, y=-8, z=8>\n",
    "# <x=3, y=5, z=-1>\n",
    "# ms.add_moon(x=-1, y=0, z=2, vx=0, vy=0, vz=0, name='io')\n",
    "# ms.add_moon(x=2, y=-10, z=-7, vx=0, vy=0, vz=0, name='europa')\n",
    "# ms.add_moon(x=4, y=-8, z=8, vx=0, vy=0, vz=0, name='ganymede')\n",
    "# ms.add_moon(x=3, y=5, z=-1, vx=0, vy=0, vz=0, name='callisto')"
   ]
  },
  {
   "cell_type": "code",
   "execution_count": 7,
   "metadata": {},
   "outputs": [
    {
     "name": "stdout",
     "output_type": "stream",
     "text": [
      "step: 0\n",
      "total elapsed: 0.0008360909996554255, inc time: 0.0008360909996554255\n",
      "step: 1000000\n",
      "total elapsed: 29.08256829500897, inc time: 29.081732204009313\n",
      "step: 2000000\n",
      "total elapsed: 57.8852402420016, inc time: 28.802671946992632\n",
      "step: 3000000\n",
      "total elapsed: 86.81464428099571, inc time: 28.929404038994107\n",
      "step: 4000000\n",
      "total elapsed: 115.9136117809685, inc time: 29.098967499972787\n",
      "step: 5000000\n",
      "total elapsed: 144.5353546270053, inc time: 28.621742846036796\n",
      "step: 6000000\n",
      "total elapsed: 173.38986876001582, inc time: 28.854514133010525\n",
      "step: 7000000\n",
      "total elapsed: 205.19107257196447, inc time: 31.801203811948653\n",
      "step: 8000000\n",
      "total elapsed: 233.53734319796786, inc time: 28.34627062600339\n",
      "step: 9000000\n",
      "total elapsed: 262.39608080801554, inc time: 28.858737610047683\n",
      "steps: 10000000\n",
      "final state:\n",
      "io: p: [-88, -584, 73]  v: [9, -58, -11]\n",
      "europa: p: [162, 66, -9]  v: [-62, 50, -6]\n",
      "ganymede: p: [47, 243, -56]  v: [56, 18, 8]\n",
      "callisto: p: [-126, 305, 35]  v: [-3, -10, 9]\n"
     ]
    }
   ],
   "source": [
    "import time\n",
    "starttime = time.perf_counter()\n",
    "lasttime = starttime\n",
    "# maximum # of steps to move the system forward\n",
    "max_steps = 100000000\n",
    "# this is the set of hashes to store the states\n",
    "statehashes = set()\n",
    "\n",
    "i = 0\n",
    "# initial hash_state\n",
    "sh = ms.hash_state()\n",
    "# loop while the hash_state is not repeated and below the max_steps\n",
    "while(sh not in statehashes and i < max_steps ):\n",
    "    # every 1/10 of the max, print the step and the timer stuff\n",
    "    if(not i%(max_steps/10)):\n",
    "        print(\"step: {}\".format(i))\n",
    "        thistime = time.perf_counter()\n",
    "        print(\"total elapsed: {}, inc time: {}\".format(thistime - starttime, thistime - lasttime))\n",
    "        lasttime = thistime\n",
    "    # add the current state to the hash_state set\n",
    "    statehashes.add(sh)\n",
    "    # step the system forward\n",
    "    ms.step()\n",
    "    # e = ms.calc_energy()\n",
    "    # ms.show()\n",
    "    # get the hash_state of the current system\n",
    "    sh = ms.hash_state()\n",
    "    # increment the step counter\n",
    "    i += 1\n",
    "\n",
    "print(\"steps: {}\".format(i))\n",
    "print(\"final state:\")\n",
    "ms.show()\n",
    "# print(\"energy in final state: {}\".format(e))"
   ]
  },
  {
   "cell_type": "code",
   "execution_count": null,
   "metadata": {},
   "outputs": [],
   "source": []
  }
 ],
 "metadata": {
  "kernelspec": {
   "display_name": "Python 3",
   "language": "python",
   "name": "python3"
  },
  "language_info": {
   "codemirror_mode": {
    "name": "ipython",
    "version": 3
   },
   "file_extension": ".py",
   "mimetype": "text/x-python",
   "name": "python",
   "nbconvert_exporter": "python",
   "pygments_lexer": "ipython3",
   "version": "3.6.4"
  }
 },
 "nbformat": 4,
 "nbformat_minor": 2
}
