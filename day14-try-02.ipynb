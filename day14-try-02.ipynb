{
 "cells": [
  {
   "cell_type": "code",
   "execution_count": 1,
   "metadata": {},
   "outputs": [],
   "source": [
    "# AOC - Day14 - Part 1 attempt: 1\n",
    "# this attempt 'worked' but calculated more ORE than necessary\n",
    "# it works backwards from FUEL, doing successive cycles of 'replace, combine, cull the ORE'\n",
    "# at that cycle only\n",
    "# that 'cycle' approach wasn't a constraint"
   ]
  },
  {
   "cell_type": "code",
   "execution_count": 2,
   "metadata": {},
   "outputs": [],
   "source": [
    "# example input:\n",
    "# 165 ORE => 6 DCFZ\n",
    "# 44 XJWVT, 5 KHKGT, 1 QDVJ, 29 NZVS, 9 GPVTF, 48 HKGWZ => 1 FUEL"
   ]
  },
  {
   "cell_type": "code",
   "execution_count": 3,
   "metadata": {},
   "outputs": [],
   "source": [
    "import math"
   ]
  },
  {
   "cell_type": "code",
   "execution_count": 4,
   "metadata": {},
   "outputs": [],
   "source": [
    "# function to multiply the qty of an inventory item by a factor\n",
    "def mult_inv(i, f):\n",
    "    # i - inventory item in the form: {\"CHEM_SYM\": qty}\n",
    "    # f - factor\n",
    "    # this retrieves the first key, value pair (we only use one)\n",
    "    k,v = list(i.items())[0]\n",
    "    # replace the value with the multiplied value for that key\n",
    "    i[k] = int(f * v)\n",
    "    return(i)"
   ]
  },
  {
   "cell_type": "code",
   "execution_count": 5,
   "metadata": {},
   "outputs": [],
   "source": [
    "class Chemical:\n",
    "    def __init__(self, name, qty, rqty, reactants):\n",
    "        self.name = name\n",
    "        self.qty = qty\n",
    "        self.rqty = rqty\n",
    "        self.reactants = reactants\n",
    "        return\n",
    "    def make"
   ]
  },
  {
   "cell_type": "code",
   "execution_count": 6,
   "metadata": {},
   "outputs": [],
   "source": [
    "class Reactant:\n",
    "    def _init__(self, chem, qty):\n",
    "        self.chem = chem\n",
    "        self.qty = qty\n",
    "        return\n",
    "\n",
    "class Reaction:\n",
    "    def __init__(self, reaction_tup):\n",
    "        self.reactant_list = reaction_tup[0]\n",
    "        self.product = reaction_tup[1]\n",
    "        return\n",
    "\n",
    "class Reaction_Factory:\n",
    "    def __init__(self):\n",
    "        self.reactions = []\n",
    "        return\n",
    "    def add_reaction(self, r):\n",
    "        reactions.append(r)\n",
    "        return\n",
    "    def add_reaction_from_input(self, s):\n",
    "        self.reactions.append(Reaction(parse_reaction(s)))\n",
    "        return\n",
    "    def get_scaled_reactants(self, p):\n",
    "        # p is the product in format: {\"CHEM_SYM\": qty_int}\n",
    "        # qty_int is the qty of the input product\n",
    "        # find the reaction in the reactions list by the product name\n",
    "        # this returns a list with 1 item\n",
    "        p_r = [r for r in self.reactions if symnum(p)[0] == symnum(r.product)[0]]\n",
    "        # this is the unit of product in the matched reaction\n",
    "        u_p = int(symnum(p_r[0].product)[1])\n",
    "        # reaction can only happen in integer multiples of u_p\n",
    "        # use math.ceil(qty_int / u_p)\n",
    "        factor = int(math.ceil(int(symnum(p)[1]) / u_p))\n",
    "        # multiply all the reactant qtys by factor\n",
    "        rr = list(map(lambda x: mult_inv(x,factor), p_r[0].reactant_list))\n",
    "        return(rr)"
   ]
  },
  {
   "cell_type": "code",
   "execution_count": 7,
   "metadata": {},
   "outputs": [],
   "source": [
    "def parse_reaction(r_txt):\n",
    "    # r_txt comes in like: \"44 XJWVT, 5 KHKGT, 1 QDVJ, 29 NZVS, 9 GPVTF, 48 HKGWZ => 1 FUEL\"\n",
    "    # parse this out and return a reactant list (r_list) and product (p)\n",
    "    # each looks like  {'CHEM_SYMBOL': NUMBER}\n",
    "    r_list = []\n",
    "    p = {}\n",
    "    left, right = r_txt.split(\" => \")\n",
    "    p_num, p_chem = right.split()\n",
    "    p[p_chem] = int(p_num)\n",
    "    for l in left.split(\", \"):\n",
    "        reactant = {}\n",
    "        reactant[l.split()[1]] = int(l.split()[0])\n",
    "        r_list.append(reactant)\n",
    "    return(r_list, p)"
   ]
  },
  {
   "cell_type": "code",
   "execution_count": 8,
   "metadata": {},
   "outputs": [],
   "source": [
    "# this function returns the first key, value of a dictionary as a tuple\n",
    "def symnum(r):\n",
    "    sym = list(r.keys())[0]\n",
    "    num = list(r.values())[0]\n",
    "    return((sym, num))"
   ]
  },
  {
   "cell_type": "code",
   "execution_count": 9,
   "metadata": {},
   "outputs": [],
   "source": [
    "rf = Reaction_Factory()"
   ]
  },
  {
   "cell_type": "code",
   "execution_count": 10,
   "metadata": {},
   "outputs": [],
   "source": [
    "# read the reactions list from the input file\n",
    "ifn = \"day14-input-test-01.txt\"\n",
    "# parse each line and store in reactions list\n",
    "with open(ifn) as f:\n",
    "    for line in f:\n",
    "        # reactions.append(Reaction(parse_reaction(line)))\n",
    "        rf.add_reaction_from_input(line)"
   ]
  },
  {
   "cell_type": "code",
   "execution_count": 11,
   "metadata": {},
   "outputs": [],
   "source": [
    "# these are the strings used for the chemical symbols for Fuel and Ore\n",
    "f_str = \"FUEL\"\n",
    "o_str = \"ORE\""
   ]
  },
  {
   "cell_type": "code",
   "execution_count": 12,
   "metadata": {},
   "outputs": [],
   "source": [
    "# the list of stuff\n",
    "# seed the list with a 'product' that matches the 'fuel string' from the input reactions\n",
    "chems = [r.product for r in rf.reactions if list(r.product.keys())[0] == f_str]\n",
    "\n",
    "# chems.extend(rf.get_scaled_reactants(p_f[0]))"
   ]
  },
  {
   "cell_type": "code",
   "execution_count": 13,
   "metadata": {},
   "outputs": [],
   "source": [
    "# replace each one with its reactants, then combine, then test\n",
    "# can combining happen before all the replacements are made"
   ]
  },
  {
   "cell_type": "code",
   "execution_count": 14,
   "metadata": {},
   "outputs": [
    {
     "name": "stdout",
     "output_type": "stream",
     "text": [
      "loop_count: 0, chems: [{'XJWVT': 44}, {'GPVTF': 9}, {'HKGWZ': 48}, {'NZVS': 29}, {'KHKGT': 5}, {'QDVJ': 1}], ore_qty: 0\n",
      "loop_count: 1, chems: [{'PSHF': 172}, {'GPVTF': 1}, {'DCFZ': 157}, {'HKGWZ': 17}, {'NZVS': 7}], ore_qty: 3537\n",
      "loop_count: 2, chems: [], ore_qty: 22256\n"
     ]
    }
   ],
   "source": [
    "loop_count = 0\n",
    "ore_qty = 0\n",
    "# chems list will be reduced to zero elements as ORE is removed\n",
    "while(len(chems) > 0):\n",
    "    # replace each element with its reactants (properly scaled)\n",
    "    # loop using len() since we'll be messing with the list\n",
    "    # maybe we call this a 'cycle'\n",
    "    l = len(chems)\n",
    "    for i in range(l):\n",
    "        # this pops off the first one\n",
    "        d = chems.pop(0)\n",
    "        # add the reactants of that one to the end\n",
    "        chems.extend(rf.get_scaled_reactants(d))\n",
    "    # now we have to combine\n",
    "    # start with the unique set of reactants in this cycle\n",
    "    chem_syms_set = set([list(c.keys())[0] for c in chems])\n",
    "    # go through this set and accumulate the quantities\n",
    "    for c in chem_syms_set:\n",
    "        # this returns a list of the quantities from the reactants that match each one\n",
    "        qtys = [symnum(q)[1] for q in chems if symnum(q)[0] == c ]\n",
    "        # and this is the list of actual reactant entries that match - these are removed from list later\n",
    "        elems = [chems[i] for i in range(len(chems)) if symnum(chems[i])[0] == c]\n",
    "        # remove those elements from chems since they are being combined\n",
    "        for e in elems:\n",
    "            chems.remove(e)\n",
    "        # now add back that chemical with the combined quantity\n",
    "        ch = {}\n",
    "        ch[c] = sum(qtys)\n",
    "        chems.append(ch)\n",
    "    # remove ORE from the list, but add the qty to an accumulator\n",
    "    # get the exact 'ORE' element in list\n",
    "    ore_elem = [o for o in chems if symnum(o)[0] == o_str]\n",
    "    # remove it if there\n",
    "    if(len(ore_elem) > 0):\n",
    "        chems.remove(ore_elem[0])\n",
    "        ore_qty += symnum(ore_elem[0])[1]\n",
    "    print(\"loop_count: {}, chems: {}, ore_qty: {}\".format(loop_count, chems, ore_qty))\n",
    "    loop_count += 1"
   ]
  },
  {
   "cell_type": "code",
   "execution_count": 15,
   "metadata": {},
   "outputs": [
    {
     "name": "stdout",
     "output_type": "stream",
     "text": [
      "chems: [], ore_qty: 22256\n"
     ]
    }
   ],
   "source": [
    "print(\"chems: {}, ore_qty: {}\".format(chems, ore_qty))"
   ]
  },
  {
   "cell_type": "code",
   "execution_count": null,
   "metadata": {},
   "outputs": [],
   "source": []
  }
 ],
 "metadata": {
  "kernelspec": {
   "display_name": "Python 3",
   "language": "python",
   "name": "python3"
  },
  "language_info": {
   "codemirror_mode": {
    "name": "ipython",
    "version": 3
   },
   "file_extension": ".py",
   "mimetype": "text/x-python",
   "name": "python",
   "nbconvert_exporter": "python",
   "pygments_lexer": "ipython3",
   "version": "3.6.4"
  }
 },
 "nbformat": 4,
 "nbformat_minor": 2
}
