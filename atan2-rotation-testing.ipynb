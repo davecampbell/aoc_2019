{
 "cells": [
  {
   "cell_type": "code",
   "execution_count": 8,
   "metadata": {},
   "outputs": [],
   "source": [
    "import math\n",
    "a = [(0,5), (1,4), (4,1), (5,0), (3,-2), (1, -5), (0, -7), (-4,-4), (-5, -1), (-99,-1), (-6,0), (-4, 2), (-1, 5), (0,5)]"
   ]
  },
  {
   "cell_type": "code",
   "execution_count": 32,
   "metadata": {},
   "outputs": [
    {
     "name": "stdout",
     "output_type": "stream",
     "text": [
      "j: (0, 5), b: 180.0, ab: None - rotated by: 180 = 0.0: \n",
      "j: (1, 4), b: 165.96375653207352, ab: None - rotated by: 180 = 345.9637565320735: \n",
      "j: (4, 1), b: 104.03624346792648, ab: None - rotated by: 180 = 284.0362434679265: \n",
      "j: (5, 0), b: 90.0, ab: None - rotated by: 180 = 270.0: \n",
      "j: (3, -2), b: 56.309932474020215, ab: None - rotated by: 180 = 236.30993247402023: \n",
      "j: (1, -5), b: 11.309932474020213, ab: None - rotated by: 180 = 191.3099324740202: \n",
      "j: (0, -7), b: 0.0, ab: None - rotated by: 180 = 180.0: \n",
      "j: (-4, -4), b: 315.0, ab: None - rotated by: 180 = 135.0: \n",
      "j: (-5, -1), b: 281.30993247402023, ab: None - rotated by: 180 = 101.30993247402023: \n",
      "j: (-99, -1), b: 270.5787255656078, ab: None - rotated by: 180 = 90.57872556560778: \n",
      "j: (-6, 0), b: 270.0, ab: None - rotated by: 180 = 90.0: \n",
      "j: (-4, 2), b: 243.43494882292202, ab: None - rotated by: 180 = 63.434948822922024: \n",
      "j: (-1, 5), b: 191.3099324740202, ab: None - rotated by: 180 = 11.30993247402023: \n",
      "j: (0, 5), b: 180.0, ab: None - rotated by: 180 = 0.0: \n"
     ]
    }
   ],
   "source": [
    "def rotate(x, d, m):\n",
    "    n = x + d\n",
    "    if(n >= m):\n",
    "        n = n - m\n",
    "    if(n < 0):\n",
    "        n = n + m\n",
    "    return(n)\n",
    "    \n",
    "for j in a:\n",
    "    b = math.atan2(j[0], j[1] * -1) * (180 / math.pi)\n",
    "    ab = None\n",
    "    if(b < 0):\n",
    "        # ab = b + 360\n",
    "        b += 360\n",
    "    # else:\n",
    "    #     ab = b\n",
    "    angle = 180\n",
    "    print(\"j: {}, b: {}, ab: {} - rotated by: {} = {}: \".format(j, b, ab, angle, rotate(b, angle, 360)))"
   ]
  },
  {
   "cell_type": "code",
   "execution_count": null,
   "metadata": {},
   "outputs": [],
   "source": []
  }
 ],
 "metadata": {
  "kernelspec": {
   "display_name": "Python 3",
   "language": "python",
   "name": "python3"
  },
  "language_info": {
   "codemirror_mode": {
    "name": "ipython",
    "version": 3
   },
   "file_extension": ".py",
   "mimetype": "text/x-python",
   "name": "python",
   "nbconvert_exporter": "python",
   "pygments_lexer": "ipython3",
   "version": "3.6.4"
  }
 },
 "nbformat": 4,
 "nbformat_minor": 2
}
