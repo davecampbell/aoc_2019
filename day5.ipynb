{
 "cells": [
  {
   "cell_type": "code",
   "execution_count": 110,
   "metadata": {},
   "outputs": [],
   "source": [
    "# Day 5 challenge for AOC2019\n",
    "# https://adventofcode.com/2019/day/5"
   ]
  },
  {
   "cell_type": "code",
   "execution_count": 123,
   "metadata": {},
   "outputs": [],
   "source": [
    "# this object is where the Intcode program lives and some useful methods\n",
    "# to fill it, clear it, read from it, write to it\n",
    "class Memory:\n",
    "    global debug\n",
    "    def __init__(self, size):\n",
    "        self.size = size  # must specify the memory size\n",
    "        self.storage = [None] * size  # initialize with None\n",
    "     \n",
    "    # dump out the contents between 2 positions (defaults all the memory)\n",
    "    def dump(self,start=0,end=-1):\n",
    "        if(end == -1):\n",
    "            end = self.size\n",
    "        for i in range(start, end):\n",
    "            print(\"{}: {}\".format(i,self.storage[i]))\n",
    "\n",
    "    # fill the memory with a sequence, starting at a certain position - which defaults to 0\n",
    "    def fill(self, codelist, start_pos = 0):\n",
    "        i = start_pos\n",
    "        for j in codelist:\n",
    "            self.storage[i] = j\n",
    "            i+=1\n",
    "    \n",
    "    # fill (write to) memory with a sequence, allowing direct or reference starting location\n",
    "    def mode_fill(self, s, mem_location, mode):\n",
    "        # mem_location: where to begin fill or to reference to begin\n",
    "        # mode (0 - position, 1 - immediate)\n",
    "        if(debug):\n",
    "            print(\".mode_fill(s: {}, mem_location: {}, mode: {})\".format(s, mem_location, mode))\n",
    "        if(mode == '0'):\n",
    "            i = self.storage[mem_location]\n",
    "            for j in s:\n",
    "                if(debug):\n",
    "                    print(\"..filling \\{}\\ into pos:{}\".format(j, i))\n",
    "                self.storage[i] = j\n",
    "                i+=1\n",
    "        elif(mode == '1'):\n",
    "            i = mem_location\n",
    "            for j in s:\n",
    "                self.storage[i] = j\n",
    "                i+=1\n",
    "\n",
    "    # read the contents from just one position\n",
    "    def read(self, pos):\n",
    "        return self.storage[pos]\n",
    "   \n",
    "    # return the value based on parameter mode (position or immediate)\n",
    "    def mode_read(self, pos, mode):\n",
    "        # mode: 0 - position, 1 - immediate\n",
    "        if(debug):\n",
    "            print(\"mode_read(pos:{}, mode:{})\".format(pos, mode))\n",
    "        if(mode == 0):\n",
    "            return self.storage[self.storage[pos]]\n",
    "        elif(mode == 1):\n",
    "            return self.storage[pos]\n",
    "\n",
    "    # clear the memory\n",
    "    def clear(self):\n",
    "        self.storage = [None] * self.size"
   ]
  },
  {
   "cell_type": "code",
   "execution_count": 124,
   "metadata": {},
   "outputs": [],
   "source": [
    "# this function will execute a single sequence (operator + subsequent operands and output location)\n",
    "def exec_seq(ctr, m):\n",
    "    global debug\n",
    "    if(debug):\n",
    "        print(\"executing sequence, ctr: {}\".format(ctr))\n",
    "    # ctr - where to start\n",
    "    # m - the memory object to work from\n",
    "    # the first in the sequence is the 'enhnanced opcode' (includes 3 parameter modes in most significant position)\n",
    "    # zero-pad to 5 - most significant 0 is implied\n",
    "    enhanced_opcode = str(m.read(ctr)).zfill(5)\n",
    "    # first 3 characters are the parameter modes\n",
    "    pmodes = enhanced_opcode[:3]\n",
    "    # last 2 characters are the opcode\n",
    "    opcode = enhanced_opcode[3:]\n",
    "    # if it is 99, we're done\n",
    "    if(debug):\n",
    "        print(\"opcode: {}\".format(opcode))\n",
    "        print(\"pmodes: {}\".format(pmodes))\n",
    "    if(opcode == 99):\n",
    "        return(\"STOP\")\n",
    "    # this is the \"add\" operator\n",
    "    elif(opcode == \"01\"):\n",
    "        operand1 = m.mode_read(ctr+1, pmodes[2])\n",
    "        operand2 = m.mode_read(ctr+2, pmodes[1])\n",
    "        calcval = operand1 + operand2\n",
    "    # this is the \"multiply\" operator\n",
    "    elif(opcode == \"02\"):\n",
    "        operand1 = m.mode_read(ctr+1, pmodes[2])\n",
    "        operand2 = m.mode_read(ctr+2, pmodes[1])\n",
    "        calcval = operand1 * operand2\n",
    "    # this is the 'store from input' operator\n",
    "    elif(opcode == \"03\"):\n",
    "        # get the input\n",
    "        val = getfrominput()\n",
    "        if(debug):\n",
    "            print(\"opcode: {}, val: {}\".format(opcode, val))\n",
    "        # store it in address provided by next code\n",
    "        m.mode_fill(val, ctr+1, pmodes[2])\n",
    "        # return next prog counter\n",
    "        return(ctr+2)\n",
    "    # this is the 'send to output' operator\n",
    "    elif(opcode == \"04\"):\n",
    "        # read the val (based on mode) specified from next code and send to output\n",
    "        sendtooutput(m.mode_read(ctr+1, pmodes[2]))\n",
    "        return(ctr+2)\n",
    "    # if here, then the opcode is not known\n",
    "    else:\n",
    "        return(\"BADOPCODE\")\n",
    "    # fill the output destination with value depending on mode\n",
    "    print(\"doing a calc write...{} to {}, pmode: {}\".format([calcval], ctr+3, pmodes[0]))\n",
    "    m.mode_fill([calcval], ctr+3, pmodes[0])\n",
    "    # and return the next postion in the memory\n",
    "    return(ctr+4)"
   ]
  },
  {
   "cell_type": "code",
   "execution_count": 125,
   "metadata": {},
   "outputs": [],
   "source": [
    "def sendtooutput(s):\n",
    "    print(\"OUTPUT: {}\".format(s))"
   ]
  },
  {
   "cell_type": "code",
   "execution_count": 126,
   "metadata": {},
   "outputs": [],
   "source": [
    "def getfrominput():\n",
    "    global inputstring\n",
    "    return(inputstring)"
   ]
  },
  {
   "cell_type": "code",
   "execution_count": 127,
   "metadata": {},
   "outputs": [],
   "source": [
    "debug = True\n",
    "# the input provided:\n",
    "inputstring = \"1\"\n",
    "\n",
    "# get the full programming sequence (the program)\n",
    "seq = [3,225,1,225,6,6,1100,1,238,225,104,0,1102,57,23,224,101,-1311,224,224,4,224,1002,223,8,223,101,6,224,224,1,223,224,223,1102,57,67,225,102,67,150,224,1001,224,-2613,224,4,224,1002,223,8,223,101,5,224,224,1,224,223,223,2,179,213,224,1001,224,-469,224,4,224,102,8,223,223,101,7,224,224,1,223,224,223,1001,188,27,224,101,-119,224,224,4,224,1002,223,8,223,1001,224,7,224,1,223,224,223,1,184,218,224,1001,224,-155,224,4,224,1002,223,8,223,1001,224,7,224,1,224,223,223,1101,21,80,224,1001,224,-101,224,4,224,102,8,223,223,1001,224,1,224,1,224,223,223,1101,67,39,225,1101,89,68,225,101,69,35,224,1001,224,-126,224,4,224,1002,223,8,223,1001,224,1,224,1,224,223,223,1102,7,52,225,1102,18,90,225,1101,65,92,225,1002,153,78,224,101,-6942,224,224,4,224,102,8,223,223,101,6,224,224,1,223,224,223,1101,67,83,225,1102,31,65,225,4,223,99,0,0,0,677,0,0,0,0,0,0,0,0,0,0,0,1105,0,99999,1105,227,247,1105,1,99999,1005,227,99999,1005,0,256,1105,1,99999,1106,227,99999,1106,0,265,1105,1,99999,1006,0,99999,1006,227,274,1105,1,99999,1105,1,280,1105,1,99999,1,225,225,225,1101,294,0,0,105,1,0,1105,1,99999,1106,0,300,1105,1,99999,1,225,225,225,1101,314,0,0,106,0,0,1105,1,99999,1007,226,226,224,102,2,223,223,1005,224,329,1001,223,1,223,108,677,226,224,1002,223,2,223,1005,224,344,1001,223,1,223,1007,677,677,224,1002,223,2,223,1005,224,359,1001,223,1,223,1107,677,226,224,102,2,223,223,1006,224,374,1001,223,1,223,8,226,677,224,1002,223,2,223,1006,224,389,101,1,223,223,8,677,677,224,102,2,223,223,1006,224,404,1001,223,1,223,1008,226,226,224,102,2,223,223,1006,224,419,1001,223,1,223,107,677,226,224,102,2,223,223,1006,224,434,101,1,223,223,7,226,226,224,1002,223,2,223,1005,224,449,1001,223,1,223,1107,226,226,224,1002,223,2,223,1006,224,464,1001,223,1,223,1107,226,677,224,1002,223,2,223,1005,224,479,1001,223,1,223,8,677,226,224,1002,223,2,223,1006,224,494,1001,223,1,223,1108,226,677,224,1002,223,2,223,1006,224,509,101,1,223,223,1008,677,677,224,1002,223,2,223,1006,224,524,1001,223,1,223,1008,677,226,224,102,2,223,223,1006,224,539,1001,223,1,223,1108,677,677,224,102,2,223,223,1005,224,554,101,1,223,223,108,677,677,224,102,2,223,223,1006,224,569,101,1,223,223,1108,677,226,224,102,2,223,223,1005,224,584,1001,223,1,223,108,226,226,224,1002,223,2,223,1005,224,599,1001,223,1,223,1007,226,677,224,102,2,223,223,1005,224,614,1001,223,1,223,7,226,677,224,102,2,223,223,1006,224,629,1001,223,1,223,107,226,226,224,102,2,223,223,1005,224,644,101,1,223,223,7,677,226,224,102,2,223,223,1005,224,659,101,1,223,223,107,677,677,224,1002,223,2,223,1005,224,674,1001,223,1,223,4,223,99,226]\n",
    "# create a computer object with twice the memory of that sequence\n",
    "mycomp = Memory(len(seq) * 2)\n",
    "# load the program\n",
    "mycomp.fill(seq)\n"
   ]
  },
  {
   "cell_type": "code",
   "execution_count": 128,
   "metadata": {},
   "outputs": [
    {
     "name": "stdout",
     "output_type": "stream",
     "text": [
      "executing sequence, ctr: 0\n",
      "opcode: 03\n",
      "pmodes: 000\n",
      "opcode: 03, val: 1\n",
      ".mode_fill(s: 1, mem_location: 1, mode: 0)\n",
      "..filling \\1\\ into pos:225\n",
      "executing sequence, ctr: 2\n",
      "opcode: 01\n",
      "pmodes: 000\n",
      "mode_read(pos:3, mode:0)\n",
      "mode_read(pos:4, mode:0)\n"
     ]
    },
    {
     "ename": "TypeError",
     "evalue": "unsupported operand type(s) for +: 'NoneType' and 'NoneType'",
     "output_type": "error",
     "traceback": [
      "\u001b[0;31m---------------------------------------------------------------------------\u001b[0m",
      "\u001b[0;31mTypeError\u001b[0m                                 Traceback (most recent call last)",
      "\u001b[0;32m<ipython-input-128-a33c7c04be41>\u001b[0m in \u001b[0;36m<module>\u001b[0;34m()\u001b[0m\n\u001b[1;32m      3\u001b[0m \u001b[0mret\u001b[0m \u001b[0;34m=\u001b[0m \u001b[0mexec_seq\u001b[0m\u001b[0;34m(\u001b[0m\u001b[0mctr\u001b[0m\u001b[0;34m,\u001b[0m \u001b[0mmycomp\u001b[0m\u001b[0;34m)\u001b[0m\u001b[0;34m\u001b[0m\u001b[0m\n\u001b[1;32m      4\u001b[0m \u001b[0;32mwhile\u001b[0m\u001b[0;34m(\u001b[0m\u001b[0mret\u001b[0m \u001b[0;34m!=\u001b[0m \u001b[0;34m\"STOP\"\u001b[0m\u001b[0;34m)\u001b[0m\u001b[0;34m:\u001b[0m\u001b[0;34m\u001b[0m\u001b[0m\n\u001b[0;32m----> 5\u001b[0;31m     \u001b[0mret\u001b[0m \u001b[0;34m=\u001b[0m \u001b[0mexec_seq\u001b[0m\u001b[0;34m(\u001b[0m\u001b[0mret\u001b[0m\u001b[0;34m,\u001b[0m \u001b[0mmycomp\u001b[0m\u001b[0;34m)\u001b[0m\u001b[0;34m\u001b[0m\u001b[0m\n\u001b[0m\u001b[1;32m      6\u001b[0m \u001b[0mprint\u001b[0m\u001b[0;34m(\u001b[0m\u001b[0;34m\"FINAL STATE: {}\"\u001b[0m\u001b[0;34m.\u001b[0m\u001b[0mformat\u001b[0m\u001b[0;34m(\u001b[0m\u001b[0mret\u001b[0m\u001b[0;34m)\u001b[0m\u001b[0;34m)\u001b[0m\u001b[0;34m\u001b[0m\u001b[0m\n",
      "\u001b[0;32m<ipython-input-124-521ff57a4f9f>\u001b[0m in \u001b[0;36mexec_seq\u001b[0;34m(ctr, m)\u001b[0m\n\u001b[1;32m     23\u001b[0m         \u001b[0moperand1\u001b[0m \u001b[0;34m=\u001b[0m \u001b[0mm\u001b[0m\u001b[0;34m.\u001b[0m\u001b[0mmode_read\u001b[0m\u001b[0;34m(\u001b[0m\u001b[0mctr\u001b[0m\u001b[0;34m+\u001b[0m\u001b[0;36m1\u001b[0m\u001b[0;34m,\u001b[0m \u001b[0mpmodes\u001b[0m\u001b[0;34m[\u001b[0m\u001b[0;36m2\u001b[0m\u001b[0;34m]\u001b[0m\u001b[0;34m)\u001b[0m\u001b[0;34m\u001b[0m\u001b[0m\n\u001b[1;32m     24\u001b[0m         \u001b[0moperand2\u001b[0m \u001b[0;34m=\u001b[0m \u001b[0mm\u001b[0m\u001b[0;34m.\u001b[0m\u001b[0mmode_read\u001b[0m\u001b[0;34m(\u001b[0m\u001b[0mctr\u001b[0m\u001b[0;34m+\u001b[0m\u001b[0;36m2\u001b[0m\u001b[0;34m,\u001b[0m \u001b[0mpmodes\u001b[0m\u001b[0;34m[\u001b[0m\u001b[0;36m1\u001b[0m\u001b[0;34m]\u001b[0m\u001b[0;34m)\u001b[0m\u001b[0;34m\u001b[0m\u001b[0m\n\u001b[0;32m---> 25\u001b[0;31m         \u001b[0mcalcval\u001b[0m \u001b[0;34m=\u001b[0m \u001b[0moperand1\u001b[0m \u001b[0;34m+\u001b[0m \u001b[0moperand2\u001b[0m\u001b[0;34m\u001b[0m\u001b[0m\n\u001b[0m\u001b[1;32m     26\u001b[0m     \u001b[0;31m# this is the \"multiply\" operator\u001b[0m\u001b[0;34m\u001b[0m\u001b[0;34m\u001b[0m\u001b[0m\n\u001b[1;32m     27\u001b[0m     \u001b[0;32melif\u001b[0m\u001b[0;34m(\u001b[0m\u001b[0mopcode\u001b[0m \u001b[0;34m==\u001b[0m \u001b[0;34m\"02\"\u001b[0m\u001b[0;34m)\u001b[0m\u001b[0;34m:\u001b[0m\u001b[0;34m\u001b[0m\u001b[0m\n",
      "\u001b[0;31mTypeError\u001b[0m: unsupported operand type(s) for +: 'NoneType' and 'NoneType'"
     ]
    }
   ],
   "source": [
    "# execute the program\n",
    "ctr = 0\n",
    "ret = exec_seq(ctr, mycomp)\n",
    "while(ret != \"STOP\"):\n",
    "    ret = exec_seq(ret, mycomp)\n",
    "print(\"FINAL STATE: {}\".format(ret))"
   ]
  },
  {
   "cell_type": "code",
   "execution_count": null,
   "metadata": {},
   "outputs": [],
   "source": []
  }
 ],
 "metadata": {
  "kernelspec": {
   "display_name": "Python 3",
   "language": "python",
   "name": "python3"
  },
  "language_info": {
   "codemirror_mode": {
    "name": "ipython",
    "version": 3
   },
   "file_extension": ".py",
   "mimetype": "text/x-python",
   "name": "python",
   "nbconvert_exporter": "python",
   "pygments_lexer": "ipython3",
   "version": "3.6.4"
  }
 },
 "nbformat": 4,
 "nbformat_minor": 2
}
