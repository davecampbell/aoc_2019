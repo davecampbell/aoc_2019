{
 "cells": [
  {
   "cell_type": "code",
   "execution_count": 6,
   "metadata": {},
   "outputs": [],
   "source": [
    "# Day 5 challenge for AOC2019\n",
    "# https://adventofcode.com/2019/day/5"
   ]
  },
  {
   "cell_type": "code",
   "execution_count": 4,
   "metadata": {},
   "outputs": [],
   "source": [
    "# this object is where the Intcode program lives and some useful methods\n",
    "# to fill it, clear it, read from it, write to it\n",
    "class Memory:\n",
    "    def __init__(self, size):\n",
    "        self.size = size  # must specify the memory size\n",
    "        self.storage = [None] * size  # initialize with None\n",
    "            \n",
    "    # dump out the contents between 2 positions (defaults all the memory)\n",
    "    def dump(self,start=0,end=-1):\n",
    "        if(end == -1):\n",
    "            end = self.size\n",
    "        for i in range(start, end):\n",
    "            print(\"{}: {}\".format(i,self.storage[i]))\n",
    "\n",
    "    # fill the memory with a sequence, starting at a certain position - which defaults to 0\n",
    "    def fill(self, codelist, start_pos = 0):\n",
    "        i = start_pos\n",
    "        for j in codelist:\n",
    "            self.storage[i] = j\n",
    "            i+=1\n",
    "    \n",
    "    # fill (write to) memory with a sequence, allowing direct or reference starting location\n",
    "    def mode_fill(self, s, mem_location, mode):\n",
    "        # mem_location: where to begin fill or to reference to begin\n",
    "        # mode (0 - position, 1 - immediate)\n",
    "        if(mode == 0):\n",
    "            i = self.storage[mem_location]\n",
    "            for j in codelist:\n",
    "                self.storage[i] = j\n",
    "                i+=1\n",
    "        elif(mode == 1):\n",
    "            i = mem_location\n",
    "            for j in codelist:\n",
    "                self.storage[i] = j\n",
    "                i+=1\n",
    "\n",
    "    # read the contents from just one position\n",
    "    def read(self, pos):\n",
    "        return self.storage[pos]\n",
    "   \n",
    "    # return the value based on parameter mode (position or immediate)\n",
    "    def mode_read(self, pos, mode):\n",
    "        # mode: 0 - position, 1 - immediate\n",
    "        if(mode == 0):\n",
    "            return self.storage[self.storage[pos]]\n",
    "        elif(mode == 1):\n",
    "            return self.storage[pos]\n",
    "\n",
    "    # clear the memory\n",
    "    def clear(self):\n",
    "        self.storage = [None] * self.size"
   ]
  },
  {
   "cell_type": "code",
   "execution_count": 3,
   "metadata": {},
   "outputs": [],
   "source": [
    "# this function will execute a single sequence (operator + subsequent operands and output location)\n",
    "def exec_seq(ctr, m):\n",
    "    # ctr - where to start\n",
    "    # m - the memory object to work from\n",
    "    # the first in the sequence is the 'enhnanced opcode' (includes 3 parameter modes in most significant position)\n",
    "    # zero-pad to 5 - most significant 0 is implied\n",
    "    enhanced_opcode = m.read(ctr).zfill(5)\n",
    "    # first 3 characters are the parameter modes\n",
    "    pmodes = enhanced_opcode[:2]\n",
    "    # last 2 characters are the opcode\n",
    "    opcode = enhanced_opcode[3:]\n",
    "    # if it is 99, we're done\n",
    "    if(opcode == 99):\n",
    "        return(\"STOP\")\n",
    "    # this is the \"add\" operator\n",
    "    elif(opcode == 1):\n",
    "        operand1 = mode_read(ctr+1, pmodes[2])\n",
    "        operand2 = mode_read(ctr+2, pmodes[1])\n",
    "        calcval = operand1 + operand2\n",
    "    # this is the \"multiply\" operator\n",
    "    elif(opcode == 2):\n",
    "        operand1 = mode_read(ctr+1, pmodes[2])\n",
    "        operand2 = mode_read(ctr+2, pmodes[1])\n",
    "        calcval = operand1 * operand2\n",
    "    # this is the 'store from input' operator\n",
    "    elif(opcode == 3):\n",
    "        # get the input\n",
    "        val = getfrominput()\n",
    "        # store it in address provided by next code\n",
    "        m.fill(val, m.read(ctr+1))\n",
    "        # return next prog counter\n",
    "        return(ctr+2)\n",
    "    # this is the 'send to output' operator\n",
    "    elif(opcode == 4):\n",
    "        # read the val from location specified from nexy code and send to output\n",
    "        sendtooutput(m.read(ctr+1))\n",
    "        return(ctr+2)\n",
    "    # if here, then the opcode is not known\n",
    "    else:\n",
    "        return(\"BADOPCODE\")\n",
    "    # fill the output destination with value depending on mode\n",
    "    m.mode_fill([calcval], ctr+3, pmodes[0])\n",
    "    # and return the next postion in the memory\n",
    "    return(ctr+4)"
   ]
  },
  {
   "cell_type": "code",
   "execution_count": 9,
   "metadata": {},
   "outputs": [],
   "source": [
    "# get the programming sequence\n",
    "seq = [1,0,0,3,1,1,2,3,1,3,4,3,1,5,0,3,2,10,1,19,2,19,6,23,2,13,23,27,1,9,27,31,2,31,9,35,1,6,35,39,2,10,39,43,1,5,43,47,1,5,47,51,2,51,6,55,2,10,55,59,1,59,9,63,2,13,63,67,1,10,67,71,1,71,5,75,1,75,6,79,1,10,79,83,1,5,83,87,1,5,87,91,2,91,6,95,2,6,95,99,2,10,99,103,1,103,5,107,1,2,107,111,1,6,111,0,99,2,14,0,0]\n",
    "# create a computer object with twice the memory of that sequence\n",
    "mycomp = Memory(len(seq) * 2)"
   ]
  },
  {
   "cell_type": "code",
   "execution_count": 10,
   "metadata": {},
   "outputs": [],
   "source": [
    "# will replace values at pos 1 (noun) and 2 (verb) with 0..99 until the desired answer is found at pos 0\n",
    "# reload Intcode program between each run\n",
    "answer = 0\n",
    "desired_answer = 19690720 "
   ]
  },
  {
   "cell_type": "code",
   "execution_count": 11,
   "metadata": {},
   "outputs": [],
   "source": [
    "for i in range(0,99):\n",
    "    for j in range(0,99):\n",
    "        # reload the Intcode program\n",
    "        mycomp.fill(seq)\n",
    "        # put in the current noun and verb guesses\n",
    "        mycomp.fill([i], 1)\n",
    "        mycomp.fill([j], 2)\n",
    "\n",
    "# primary loop\n",
    "# start at the beginning...\n",
    "        next_code = 0\n",
    "# and keep going as long as integers keep coming back as the next code location (badness will be a string)\n",
    "        while(isinstance(next_code, int)):\n",
    "            next_code = exec_seq(next_code, mycomp)\n",
    "\n",
    "# get the answer\n",
    "        answer = mycomp.read(0)\n",
    "        # check to see if it is the desired answer. if so, save the noun and verb.\n",
    "        if(answer == desired_answer):\n",
    "            noun = i\n",
    "            verb = j"
   ]
  },
  {
   "cell_type": "code",
   "execution_count": 12,
   "metadata": {},
   "outputs": [
    {
     "name": "stdout",
     "output_type": "stream",
     "text": [
      "noun: 64, verb: 29\n"
     ]
    }
   ],
   "source": [
    "print(\"noun: {}, verb: {}\".format(noun, verb))"
   ]
  },
  {
   "cell_type": "code",
   "execution_count": 13,
   "metadata": {},
   "outputs": [
    {
     "name": "stdout",
     "output_type": "stream",
     "text": [
      "submit_answer: 6429\n"
     ]
    }
   ],
   "source": [
    "# do the little math at the end of the challenge\n",
    "submit_answer = 100 * noun + verb\n",
    "print(\"submit_answer: {}\".format(submit_answer))"
   ]
  },
  {
   "cell_type": "code",
   "execution_count": null,
   "metadata": {},
   "outputs": [],
   "source": []
  }
 ],
 "metadata": {
  "kernelspec": {
   "display_name": "Python 3",
   "language": "python",
   "name": "python3"
  },
  "language_info": {
   "codemirror_mode": {
    "name": "ipython",
    "version": 3
   },
   "file_extension": ".py",
   "mimetype": "text/x-python",
   "name": "python",
   "nbconvert_exporter": "python",
   "pygments_lexer": "ipython3",
   "version": "3.6.4"
  }
 },
 "nbformat": 4,
 "nbformat_minor": 2
}
