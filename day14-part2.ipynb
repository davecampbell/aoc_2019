{
 "cells": [
  {
   "cell_type": "code",
   "execution_count": 1,
   "metadata": {},
   "outputs": [],
   "source": [
    "# AOC - Day14 - Part 2\n",
    "# https://adventofcode.com/2019/day/14#part2"
   ]
  },
  {
   "cell_type": "code",
   "execution_count": 2,
   "metadata": {},
   "outputs": [],
   "source": [
    "import math\n",
    "import time"
   ]
  },
  {
   "cell_type": "code",
   "execution_count": 3,
   "metadata": {},
   "outputs": [],
   "source": [
    "class Chemical:\n",
    "    # need to do something special when this chemical is made\n",
    "    # this is the ore, which gets mined, not made\n",
    "    global o_str\n",
    "    global ch\n",
    "    def __init__(self, name, qty, rqty, reactants):\n",
    "        self.name = name\n",
    "        self.qty = qty\n",
    "        self.rqty = rqty\n",
    "        self.reactants = reactants\n",
    "        return\n",
    "    def make(self, req_qty):\n",
    "        global ore_qty\n",
    "        # if ore is being requested\n",
    "        # print(\"{}.make({})...\".format(self.name, req_qty))\n",
    "        if(self.name == o_str):\n",
    "            # add this amount to accumulator\n",
    "            ore_qty = ore_qty + req_qty\n",
    "            # and return what is requested (instantly mined!)\n",
    "            # print(\"{} ORE mined! total so far: {}\".format(req_qty, ore_qty))\n",
    "            return(req_qty)\n",
    "        # so ore not being requested.\n",
    "        # see what is in inventory, and only kick off the reaction for what inventory can't provide\n",
    "        need_amt = req_qty - self.qty\n",
    "        if(need_amt <= 0):\n",
    "            # have enough on hand.  reduce the inventory and return the requested amount.\n",
    "            # print(\"...enough on hand: {}\".format(self.qty))\n",
    "            self.qty -= req_qty\n",
    "            return(req_qty)\n",
    "        else:\n",
    "            # determine factor required given need_amt and unit_quantity in the make reaction\n",
    "            factor = calc_factor(need_amt, self.rqty)\n",
    "            # now 'do the reaction' - iterate through the reactants\n",
    "            for r in self.reactants:\n",
    "                # get the ch array element for this reactant\n",
    "                c = find_chem_by_name(ch, symnum(r)[0])\n",
    "                req_amt = symnum(r)[1] * factor\n",
    "                # print(\"{} reactant: {} unit: {}, factor: {}, req_amt: {}, qty on-hand before make: {}\".format(self.name, symnum(r)[0], symnum(r)[1], factor, req_amt, c.qty))\n",
    "                made_amt = c.make(req_amt)\n",
    "                # update on-hand leftover (req_amt is consumed in the calling reaction)\n",
    "                c.qty = c.qty + made_amt - req_amt\n",
    "                # print(\"{} reactant: {} made_amt: {}, qty on-hand after make: {}\".format(self.name, symnum(r)[0], made_amt, c.qty))\n",
    "        return(factor*self.rqty)"
   ]
  },
  {
   "cell_type": "code",
   "execution_count": 4,
   "metadata": {},
   "outputs": [],
   "source": [
    "class Reactant:\n",
    "    def _init__(self, chem, qty):\n",
    "        self.chem = chem\n",
    "        self.qty = qty\n",
    "        return\n",
    "\n",
    "class Reaction:\n",
    "    def __init__(self, reaction_tup):\n",
    "        self.reactant_list = reaction_tup[0]\n",
    "        self.product = reaction_tup[1]\n",
    "        return"
   ]
  },
  {
   "cell_type": "code",
   "execution_count": 5,
   "metadata": {},
   "outputs": [],
   "source": [
    "def parse_reaction(r_txt):\n",
    "    # r_txt comes in like: \"44 XJWVT, 5 KHKGT, 1 QDVJ, 29 NZVS, 9 GPVTF, 48 HKGWZ => 1 FUEL\"\n",
    "    # parse this out and return a reactant list (r_list) and product (p)\n",
    "    # each looks like  {'CHEM_SYMBOL': NUMBER}\n",
    "    r_list = []\n",
    "    p = {}\n",
    "    left, right = r_txt.split(\" => \")\n",
    "    p_num, p_chem = right.split()\n",
    "    p[p_chem] = int(p_num)\n",
    "    for l in left.split(\", \"):\n",
    "        reactant = {}\n",
    "        reactant[l.split()[1]] = int(l.split()[0])\n",
    "        r_list.append(reactant)\n",
    "    return(r_list, p)"
   ]
  },
  {
   "cell_type": "code",
   "execution_count": 6,
   "metadata": {},
   "outputs": [],
   "source": [
    "def calc_factor(req, makeunit):\n",
    "    return(int(math.ceil(req / makeunit)))"
   ]
  },
  {
   "cell_type": "code",
   "execution_count": 7,
   "metadata": {},
   "outputs": [],
   "source": [
    "# this function returns the first key, value of a dictionary as a tuple\n",
    "def symnum(r):\n",
    "    sym = list(r.keys())[0]\n",
    "    num = list(r.values())[0]\n",
    "    return((sym, num))"
   ]
  },
  {
   "cell_type": "code",
   "execution_count": 8,
   "metadata": {},
   "outputs": [],
   "source": [
    "def find_chem_by_name(ch, name):\n",
    "    c = [chem for chem in ch if chem.name == name]\n",
    "    return(c[0])"
   ]
  },
  {
   "cell_type": "code",
   "execution_count": 9,
   "metadata": {},
   "outputs": [],
   "source": [
    "# array of chemicals\n",
    "ch = []\n",
    "ore_qty = 0\n",
    "# these are the strings used for the chemical symbols for Fuel and Ore\n",
    "f_str = \"FUEL\"\n",
    "o_str = \"ORE\""
   ]
  },
  {
   "cell_type": "code",
   "execution_count": 10,
   "metadata": {},
   "outputs": [],
   "source": [
    "# read the reactions list from the input file\n",
    "ifn = \"day14-input.txt\"\n",
    "# parse each line\n",
    "# each line defines a chemical and contains the reactancts\n",
    "with open(ifn) as f:\n",
    "    for line in f:\n",
    "        r_list, p = parse_reaction(line)\n",
    "        # create a chemical for the product and add it to the chemical array\n",
    "        # initial quantity is 0, of course\n",
    "        ch.append(Chemical(symnum(p)[0], 0, symnum(p)[1], r_list))\n",
    "# add ore as a reaction (ore => ore)\n",
    "o_reaction_line = \"1 {} => 1 {}\".format(o_str, o_str)\n",
    "r_list, p = parse_reaction(o_reaction_line)\n",
    "ch.append(Chemical(symnum(p)[0], 0, symnum(p)[1], r_list))"
   ]
  },
  {
   "cell_type": "code",
   "execution_count": 11,
   "metadata": {},
   "outputs": [],
   "source": [
    "# this will return the chemical element that is the fuel\n",
    "x = find_chem_by_name(ch, f_str)"
   ]
  },
  {
   "cell_type": "code",
   "execution_count": 12,
   "metadata": {},
   "outputs": [
    {
     "name": "stdout",
     "output_type": "stream",
     "text": [
      "fuel_cnt: 1000, ore_qty: 83074584, laptime: 4.925603044976015, ore_rate (/s): 16865831.783079203, secs left: 59286.54680519081\n",
      "fuel_cnt: 2000, ore_qty: 166134067, laptime: 4.337725924007827, ore_rate (/s): 17934245.649373516, secs left: 55749.981654116935\n",
      "fuel_cnt: 3000, ore_qty: 249192203, laptime: 4.3460021810024045, ore_rate (/s): 18309937.283828974, secs left: 54601.541900417265\n",
      "fuel_cnt: 4000, ore_qty: 332257096, laptime: 4.293464808986755, ore_rate (/s): 18558470.75463098, secs left: 53865.846821163774\n",
      "fuel_cnt: 5000, ore_qty: 415314734, laptime: 4.132635087997187, ore_rate (/s): 18847054.757547084, secs left: 53036.652045897405\n",
      "fuel_cnt: 6000, ore_qty: 498376250, laptime: 4.133265026990557, ore_rate (/s): 19044160.507384002, secs left: 52483.36482789371\n",
      "fuel_cnt: 7000, ore_qty: 581437462, laptime: 4.5248012589872815, ore_rate (/s): 18942710.813899435, secs left: 52760.060181284345\n",
      "fuel_cnt: 8000, ore_qty: 664499559, laptime: 4.147229749010876, ore_rate (/s): 19071840.667080358, secs left: 52398.48202832039\n",
      "fuel_cnt: 9000, ore_qty: 747554460, laptime: 4.160625513002742, ore_rate (/s): 19166739.88089634, secs left: 52134.71105411952\n",
      "fuel_cnt: 10000, ore_qty: 830615898, laptime: 4.4588428100105375, ore_rate (/s): 19111419.16046096, secs left: 52281.276220928245\n",
      "fuel_cnt: 11000, ore_qty: 913677106, laptime: 4.215611902996898, ore_rate (/s): 19163688.868748777, secs left: 52134.342700755384\n",
      "fuel_cnt: 12000, ore_qty: 996737164, laptime: 4.36446121399058, ore_rate (/s): 19152506.839013096, secs left: 52160.444125312075\n"
     ]
    },
    {
     "ename": "KeyboardInterrupt",
     "evalue": "",
     "output_type": "error",
     "traceback": [
      "\u001b[0;31m---------------------------------------------------------------------------\u001b[0m",
      "\u001b[0;31mKeyboardInterrupt\u001b[0m                         Traceback (most recent call last)",
      "\u001b[0;32m<ipython-input-12-d3d96fc82648>\u001b[0m in \u001b[0;36m<module>\u001b[0;34m()\u001b[0m\n\u001b[1;32m     10\u001b[0m \u001b[0mlaptime\u001b[0m \u001b[0;34m=\u001b[0m \u001b[0mtime\u001b[0m\u001b[0;34m.\u001b[0m\u001b[0mperf_counter\u001b[0m\u001b[0;34m(\u001b[0m\u001b[0;34m)\u001b[0m\u001b[0;34m\u001b[0m\u001b[0m\n\u001b[1;32m     11\u001b[0m \u001b[0;32mwhile\u001b[0m\u001b[0;34m(\u001b[0m\u001b[0mleftover_inv\u001b[0m \u001b[0;34m!=\u001b[0m \u001b[0;36m0\u001b[0m \u001b[0;32mand\u001b[0m \u001b[0more_qty\u001b[0m \u001b[0;34m<\u001b[0m \u001b[0more_qty_max\u001b[0m\u001b[0;34m)\u001b[0m\u001b[0;34m:\u001b[0m\u001b[0;34m\u001b[0m\u001b[0m\n\u001b[0;32m---> 12\u001b[0;31m     \u001b[0mfuel_cnt\u001b[0m \u001b[0;34m+=\u001b[0m \u001b[0mx\u001b[0m\u001b[0;34m.\u001b[0m\u001b[0mmake\u001b[0m\u001b[0;34m(\u001b[0m\u001b[0;36m1\u001b[0m\u001b[0;34m)\u001b[0m\u001b[0;34m\u001b[0m\u001b[0m\n\u001b[0m\u001b[1;32m     13\u001b[0m     \u001b[0;32mif\u001b[0m\u001b[0;34m(\u001b[0m\u001b[0;32mnot\u001b[0m \u001b[0;34m(\u001b[0m\u001b[0mfuel_cnt\u001b[0m \u001b[0;34m%\u001b[0m \u001b[0mstep\u001b[0m\u001b[0;34m)\u001b[0m\u001b[0;34m)\u001b[0m\u001b[0;34m:\u001b[0m\u001b[0;34m\u001b[0m\u001b[0m\n\u001b[1;32m     14\u001b[0m         \u001b[0more_rate\u001b[0m \u001b[0;34m=\u001b[0m \u001b[0more_qty\u001b[0m \u001b[0;34m/\u001b[0m \u001b[0;34m(\u001b[0m\u001b[0mtime\u001b[0m\u001b[0;34m.\u001b[0m\u001b[0mperf_counter\u001b[0m\u001b[0;34m(\u001b[0m\u001b[0;34m)\u001b[0m \u001b[0;34m-\u001b[0m \u001b[0mstarttime\u001b[0m\u001b[0;34m)\u001b[0m\u001b[0;34m\u001b[0m\u001b[0m\n",
      "\u001b[0;32m<ipython-input-3-9bbe59b92ac8>\u001b[0m in \u001b[0;36mmake\u001b[0;34m(self, req_qty)\u001b[0m\n\u001b[1;32m     37\u001b[0m                 \u001b[0mreq_amt\u001b[0m \u001b[0;34m=\u001b[0m \u001b[0msymnum\u001b[0m\u001b[0;34m(\u001b[0m\u001b[0mr\u001b[0m\u001b[0;34m)\u001b[0m\u001b[0;34m[\u001b[0m\u001b[0;36m1\u001b[0m\u001b[0;34m]\u001b[0m \u001b[0;34m*\u001b[0m \u001b[0mfactor\u001b[0m\u001b[0;34m\u001b[0m\u001b[0m\n\u001b[1;32m     38\u001b[0m                 \u001b[0;31m# print(\"{} reactant: {} unit: {}, factor: {}, req_amt: {}, qty on-hand before make: {}\".format(self.name, symnum(r)[0], symnum(r)[1], factor, req_amt, c.qty))\u001b[0m\u001b[0;34m\u001b[0m\u001b[0;34m\u001b[0m\u001b[0m\n\u001b[0;32m---> 39\u001b[0;31m                 \u001b[0mmade_amt\u001b[0m \u001b[0;34m=\u001b[0m \u001b[0mc\u001b[0m\u001b[0;34m.\u001b[0m\u001b[0mmake\u001b[0m\u001b[0;34m(\u001b[0m\u001b[0mreq_amt\u001b[0m\u001b[0;34m)\u001b[0m\u001b[0;34m\u001b[0m\u001b[0m\n\u001b[0m\u001b[1;32m     40\u001b[0m                 \u001b[0;31m# update on-hand leftover (req_amt is consumed in the calling reaction)\u001b[0m\u001b[0;34m\u001b[0m\u001b[0;34m\u001b[0m\u001b[0m\n\u001b[1;32m     41\u001b[0m                 \u001b[0mc\u001b[0m\u001b[0;34m.\u001b[0m\u001b[0mqty\u001b[0m \u001b[0;34m=\u001b[0m \u001b[0mc\u001b[0m\u001b[0;34m.\u001b[0m\u001b[0mqty\u001b[0m \u001b[0;34m+\u001b[0m \u001b[0mmade_amt\u001b[0m \u001b[0;34m-\u001b[0m \u001b[0mreq_amt\u001b[0m\u001b[0;34m\u001b[0m\u001b[0m\n",
      "\u001b[0;32m<ipython-input-3-9bbe59b92ac8>\u001b[0m in \u001b[0;36mmake\u001b[0;34m(self, req_qty)\u001b[0m\n\u001b[1;32m     37\u001b[0m                 \u001b[0mreq_amt\u001b[0m \u001b[0;34m=\u001b[0m \u001b[0msymnum\u001b[0m\u001b[0;34m(\u001b[0m\u001b[0mr\u001b[0m\u001b[0;34m)\u001b[0m\u001b[0;34m[\u001b[0m\u001b[0;36m1\u001b[0m\u001b[0;34m]\u001b[0m \u001b[0;34m*\u001b[0m \u001b[0mfactor\u001b[0m\u001b[0;34m\u001b[0m\u001b[0m\n\u001b[1;32m     38\u001b[0m                 \u001b[0;31m# print(\"{} reactant: {} unit: {}, factor: {}, req_amt: {}, qty on-hand before make: {}\".format(self.name, symnum(r)[0], symnum(r)[1], factor, req_amt, c.qty))\u001b[0m\u001b[0;34m\u001b[0m\u001b[0;34m\u001b[0m\u001b[0m\n\u001b[0;32m---> 39\u001b[0;31m                 \u001b[0mmade_amt\u001b[0m \u001b[0;34m=\u001b[0m \u001b[0mc\u001b[0m\u001b[0;34m.\u001b[0m\u001b[0mmake\u001b[0m\u001b[0;34m(\u001b[0m\u001b[0mreq_amt\u001b[0m\u001b[0;34m)\u001b[0m\u001b[0;34m\u001b[0m\u001b[0m\n\u001b[0m\u001b[1;32m     40\u001b[0m                 \u001b[0;31m# update on-hand leftover (req_amt is consumed in the calling reaction)\u001b[0m\u001b[0;34m\u001b[0m\u001b[0;34m\u001b[0m\u001b[0m\n\u001b[1;32m     41\u001b[0m                 \u001b[0mc\u001b[0m\u001b[0;34m.\u001b[0m\u001b[0mqty\u001b[0m \u001b[0;34m=\u001b[0m \u001b[0mc\u001b[0m\u001b[0;34m.\u001b[0m\u001b[0mqty\u001b[0m \u001b[0;34m+\u001b[0m \u001b[0mmade_amt\u001b[0m \u001b[0;34m-\u001b[0m \u001b[0mreq_amt\u001b[0m\u001b[0;34m\u001b[0m\u001b[0m\n",
      "\u001b[0;32m<ipython-input-3-9bbe59b92ac8>\u001b[0m in \u001b[0;36mmake\u001b[0;34m(self, req_qty)\u001b[0m\n\u001b[1;32m     37\u001b[0m                 \u001b[0mreq_amt\u001b[0m \u001b[0;34m=\u001b[0m \u001b[0msymnum\u001b[0m\u001b[0;34m(\u001b[0m\u001b[0mr\u001b[0m\u001b[0;34m)\u001b[0m\u001b[0;34m[\u001b[0m\u001b[0;36m1\u001b[0m\u001b[0;34m]\u001b[0m \u001b[0;34m*\u001b[0m \u001b[0mfactor\u001b[0m\u001b[0;34m\u001b[0m\u001b[0m\n\u001b[1;32m     38\u001b[0m                 \u001b[0;31m# print(\"{} reactant: {} unit: {}, factor: {}, req_amt: {}, qty on-hand before make: {}\".format(self.name, symnum(r)[0], symnum(r)[1], factor, req_amt, c.qty))\u001b[0m\u001b[0;34m\u001b[0m\u001b[0;34m\u001b[0m\u001b[0m\n\u001b[0;32m---> 39\u001b[0;31m                 \u001b[0mmade_amt\u001b[0m \u001b[0;34m=\u001b[0m \u001b[0mc\u001b[0m\u001b[0;34m.\u001b[0m\u001b[0mmake\u001b[0m\u001b[0;34m(\u001b[0m\u001b[0mreq_amt\u001b[0m\u001b[0;34m)\u001b[0m\u001b[0;34m\u001b[0m\u001b[0m\n\u001b[0m\u001b[1;32m     40\u001b[0m                 \u001b[0;31m# update on-hand leftover (req_amt is consumed in the calling reaction)\u001b[0m\u001b[0;34m\u001b[0m\u001b[0;34m\u001b[0m\u001b[0m\n\u001b[1;32m     41\u001b[0m                 \u001b[0mc\u001b[0m\u001b[0;34m.\u001b[0m\u001b[0mqty\u001b[0m \u001b[0;34m=\u001b[0m \u001b[0mc\u001b[0m\u001b[0;34m.\u001b[0m\u001b[0mqty\u001b[0m \u001b[0;34m+\u001b[0m \u001b[0mmade_amt\u001b[0m \u001b[0;34m-\u001b[0m \u001b[0mreq_amt\u001b[0m\u001b[0;34m\u001b[0m\u001b[0m\n",
      "\u001b[0;32m<ipython-input-3-9bbe59b92ac8>\u001b[0m in \u001b[0;36mmake\u001b[0;34m(self, req_qty)\u001b[0m\n\u001b[1;32m     37\u001b[0m                 \u001b[0mreq_amt\u001b[0m \u001b[0;34m=\u001b[0m \u001b[0msymnum\u001b[0m\u001b[0;34m(\u001b[0m\u001b[0mr\u001b[0m\u001b[0;34m)\u001b[0m\u001b[0;34m[\u001b[0m\u001b[0;36m1\u001b[0m\u001b[0;34m]\u001b[0m \u001b[0;34m*\u001b[0m \u001b[0mfactor\u001b[0m\u001b[0;34m\u001b[0m\u001b[0m\n\u001b[1;32m     38\u001b[0m                 \u001b[0;31m# print(\"{} reactant: {} unit: {}, factor: {}, req_amt: {}, qty on-hand before make: {}\".format(self.name, symnum(r)[0], symnum(r)[1], factor, req_amt, c.qty))\u001b[0m\u001b[0;34m\u001b[0m\u001b[0;34m\u001b[0m\u001b[0m\n\u001b[0;32m---> 39\u001b[0;31m                 \u001b[0mmade_amt\u001b[0m \u001b[0;34m=\u001b[0m \u001b[0mc\u001b[0m\u001b[0;34m.\u001b[0m\u001b[0mmake\u001b[0m\u001b[0;34m(\u001b[0m\u001b[0mreq_amt\u001b[0m\u001b[0;34m)\u001b[0m\u001b[0;34m\u001b[0m\u001b[0m\n\u001b[0m\u001b[1;32m     40\u001b[0m                 \u001b[0;31m# update on-hand leftover (req_amt is consumed in the calling reaction)\u001b[0m\u001b[0;34m\u001b[0m\u001b[0;34m\u001b[0m\u001b[0m\n\u001b[1;32m     41\u001b[0m                 \u001b[0mc\u001b[0m\u001b[0;34m.\u001b[0m\u001b[0mqty\u001b[0m \u001b[0;34m=\u001b[0m \u001b[0mc\u001b[0m\u001b[0;34m.\u001b[0m\u001b[0mqty\u001b[0m \u001b[0;34m+\u001b[0m \u001b[0mmade_amt\u001b[0m \u001b[0;34m-\u001b[0m \u001b[0mreq_amt\u001b[0m\u001b[0;34m\u001b[0m\u001b[0m\n",
      "\u001b[0;32m<ipython-input-3-9bbe59b92ac8>\u001b[0m in \u001b[0;36mmake\u001b[0;34m(self, req_qty)\u001b[0m\n\u001b[1;32m     37\u001b[0m                 \u001b[0mreq_amt\u001b[0m \u001b[0;34m=\u001b[0m \u001b[0msymnum\u001b[0m\u001b[0;34m(\u001b[0m\u001b[0mr\u001b[0m\u001b[0;34m)\u001b[0m\u001b[0;34m[\u001b[0m\u001b[0;36m1\u001b[0m\u001b[0;34m]\u001b[0m \u001b[0;34m*\u001b[0m \u001b[0mfactor\u001b[0m\u001b[0;34m\u001b[0m\u001b[0m\n\u001b[1;32m     38\u001b[0m                 \u001b[0;31m# print(\"{} reactant: {} unit: {}, factor: {}, req_amt: {}, qty on-hand before make: {}\".format(self.name, symnum(r)[0], symnum(r)[1], factor, req_amt, c.qty))\u001b[0m\u001b[0;34m\u001b[0m\u001b[0;34m\u001b[0m\u001b[0m\n\u001b[0;32m---> 39\u001b[0;31m                 \u001b[0mmade_amt\u001b[0m \u001b[0;34m=\u001b[0m \u001b[0mc\u001b[0m\u001b[0;34m.\u001b[0m\u001b[0mmake\u001b[0m\u001b[0;34m(\u001b[0m\u001b[0mreq_amt\u001b[0m\u001b[0;34m)\u001b[0m\u001b[0;34m\u001b[0m\u001b[0m\n\u001b[0m\u001b[1;32m     40\u001b[0m                 \u001b[0;31m# update on-hand leftover (req_amt is consumed in the calling reaction)\u001b[0m\u001b[0;34m\u001b[0m\u001b[0;34m\u001b[0m\u001b[0m\n\u001b[1;32m     41\u001b[0m                 \u001b[0mc\u001b[0m\u001b[0;34m.\u001b[0m\u001b[0mqty\u001b[0m \u001b[0;34m=\u001b[0m \u001b[0mc\u001b[0m\u001b[0;34m.\u001b[0m\u001b[0mqty\u001b[0m \u001b[0;34m+\u001b[0m \u001b[0mmade_amt\u001b[0m \u001b[0;34m-\u001b[0m \u001b[0mreq_amt\u001b[0m\u001b[0;34m\u001b[0m\u001b[0m\n",
      "\u001b[0;32m<ipython-input-3-9bbe59b92ac8>\u001b[0m in \u001b[0;36mmake\u001b[0;34m(self, req_qty)\u001b[0m\n\u001b[1;32m     37\u001b[0m                 \u001b[0mreq_amt\u001b[0m \u001b[0;34m=\u001b[0m \u001b[0msymnum\u001b[0m\u001b[0;34m(\u001b[0m\u001b[0mr\u001b[0m\u001b[0;34m)\u001b[0m\u001b[0;34m[\u001b[0m\u001b[0;36m1\u001b[0m\u001b[0;34m]\u001b[0m \u001b[0;34m*\u001b[0m \u001b[0mfactor\u001b[0m\u001b[0;34m\u001b[0m\u001b[0m\n\u001b[1;32m     38\u001b[0m                 \u001b[0;31m# print(\"{} reactant: {} unit: {}, factor: {}, req_amt: {}, qty on-hand before make: {}\".format(self.name, symnum(r)[0], symnum(r)[1], factor, req_amt, c.qty))\u001b[0m\u001b[0;34m\u001b[0m\u001b[0;34m\u001b[0m\u001b[0m\n\u001b[0;32m---> 39\u001b[0;31m                 \u001b[0mmade_amt\u001b[0m \u001b[0;34m=\u001b[0m \u001b[0mc\u001b[0m\u001b[0;34m.\u001b[0m\u001b[0mmake\u001b[0m\u001b[0;34m(\u001b[0m\u001b[0mreq_amt\u001b[0m\u001b[0;34m)\u001b[0m\u001b[0;34m\u001b[0m\u001b[0m\n\u001b[0m\u001b[1;32m     40\u001b[0m                 \u001b[0;31m# update on-hand leftover (req_amt is consumed in the calling reaction)\u001b[0m\u001b[0;34m\u001b[0m\u001b[0;34m\u001b[0m\u001b[0m\n\u001b[1;32m     41\u001b[0m                 \u001b[0mc\u001b[0m\u001b[0;34m.\u001b[0m\u001b[0mqty\u001b[0m \u001b[0;34m=\u001b[0m \u001b[0mc\u001b[0m\u001b[0;34m.\u001b[0m\u001b[0mqty\u001b[0m \u001b[0;34m+\u001b[0m \u001b[0mmade_amt\u001b[0m \u001b[0;34m-\u001b[0m \u001b[0mreq_amt\u001b[0m\u001b[0;34m\u001b[0m\u001b[0m\n",
      "\u001b[0;32m<ipython-input-3-9bbe59b92ac8>\u001b[0m in \u001b[0;36mmake\u001b[0;34m(self, req_qty)\u001b[0m\n\u001b[1;32m     37\u001b[0m                 \u001b[0mreq_amt\u001b[0m \u001b[0;34m=\u001b[0m \u001b[0msymnum\u001b[0m\u001b[0;34m(\u001b[0m\u001b[0mr\u001b[0m\u001b[0;34m)\u001b[0m\u001b[0;34m[\u001b[0m\u001b[0;36m1\u001b[0m\u001b[0;34m]\u001b[0m \u001b[0;34m*\u001b[0m \u001b[0mfactor\u001b[0m\u001b[0;34m\u001b[0m\u001b[0m\n\u001b[1;32m     38\u001b[0m                 \u001b[0;31m# print(\"{} reactant: {} unit: {}, factor: {}, req_amt: {}, qty on-hand before make: {}\".format(self.name, symnum(r)[0], symnum(r)[1], factor, req_amt, c.qty))\u001b[0m\u001b[0;34m\u001b[0m\u001b[0;34m\u001b[0m\u001b[0m\n\u001b[0;32m---> 39\u001b[0;31m                 \u001b[0mmade_amt\u001b[0m \u001b[0;34m=\u001b[0m \u001b[0mc\u001b[0m\u001b[0;34m.\u001b[0m\u001b[0mmake\u001b[0m\u001b[0;34m(\u001b[0m\u001b[0mreq_amt\u001b[0m\u001b[0;34m)\u001b[0m\u001b[0;34m\u001b[0m\u001b[0m\n\u001b[0m\u001b[1;32m     40\u001b[0m                 \u001b[0;31m# update on-hand leftover (req_amt is consumed in the calling reaction)\u001b[0m\u001b[0;34m\u001b[0m\u001b[0;34m\u001b[0m\u001b[0m\n\u001b[1;32m     41\u001b[0m                 \u001b[0mc\u001b[0m\u001b[0;34m.\u001b[0m\u001b[0mqty\u001b[0m \u001b[0;34m=\u001b[0m \u001b[0mc\u001b[0m\u001b[0;34m.\u001b[0m\u001b[0mqty\u001b[0m \u001b[0;34m+\u001b[0m \u001b[0mmade_amt\u001b[0m \u001b[0;34m-\u001b[0m \u001b[0mreq_amt\u001b[0m\u001b[0;34m\u001b[0m\u001b[0m\n",
      "\u001b[0;32m<ipython-input-3-9bbe59b92ac8>\u001b[0m in \u001b[0;36mmake\u001b[0;34m(self, req_qty)\u001b[0m\n\u001b[1;32m     37\u001b[0m                 \u001b[0mreq_amt\u001b[0m \u001b[0;34m=\u001b[0m \u001b[0msymnum\u001b[0m\u001b[0;34m(\u001b[0m\u001b[0mr\u001b[0m\u001b[0;34m)\u001b[0m\u001b[0;34m[\u001b[0m\u001b[0;36m1\u001b[0m\u001b[0;34m]\u001b[0m \u001b[0;34m*\u001b[0m \u001b[0mfactor\u001b[0m\u001b[0;34m\u001b[0m\u001b[0m\n\u001b[1;32m     38\u001b[0m                 \u001b[0;31m# print(\"{} reactant: {} unit: {}, factor: {}, req_amt: {}, qty on-hand before make: {}\".format(self.name, symnum(r)[0], symnum(r)[1], factor, req_amt, c.qty))\u001b[0m\u001b[0;34m\u001b[0m\u001b[0;34m\u001b[0m\u001b[0m\n\u001b[0;32m---> 39\u001b[0;31m                 \u001b[0mmade_amt\u001b[0m \u001b[0;34m=\u001b[0m \u001b[0mc\u001b[0m\u001b[0;34m.\u001b[0m\u001b[0mmake\u001b[0m\u001b[0;34m(\u001b[0m\u001b[0mreq_amt\u001b[0m\u001b[0;34m)\u001b[0m\u001b[0;34m\u001b[0m\u001b[0m\n\u001b[0m\u001b[1;32m     40\u001b[0m                 \u001b[0;31m# update on-hand leftover (req_amt is consumed in the calling reaction)\u001b[0m\u001b[0;34m\u001b[0m\u001b[0;34m\u001b[0m\u001b[0m\n\u001b[1;32m     41\u001b[0m                 \u001b[0mc\u001b[0m\u001b[0;34m.\u001b[0m\u001b[0mqty\u001b[0m \u001b[0;34m=\u001b[0m \u001b[0mc\u001b[0m\u001b[0;34m.\u001b[0m\u001b[0mqty\u001b[0m \u001b[0;34m+\u001b[0m \u001b[0mmade_amt\u001b[0m \u001b[0;34m-\u001b[0m \u001b[0mreq_amt\u001b[0m\u001b[0;34m\u001b[0m\u001b[0m\n",
      "\u001b[0;32m<ipython-input-3-9bbe59b92ac8>\u001b[0m in \u001b[0;36mmake\u001b[0;34m(self, req_qty)\u001b[0m\n\u001b[1;32m     37\u001b[0m                 \u001b[0mreq_amt\u001b[0m \u001b[0;34m=\u001b[0m \u001b[0msymnum\u001b[0m\u001b[0;34m(\u001b[0m\u001b[0mr\u001b[0m\u001b[0;34m)\u001b[0m\u001b[0;34m[\u001b[0m\u001b[0;36m1\u001b[0m\u001b[0;34m]\u001b[0m \u001b[0;34m*\u001b[0m \u001b[0mfactor\u001b[0m\u001b[0;34m\u001b[0m\u001b[0m\n\u001b[1;32m     38\u001b[0m                 \u001b[0;31m# print(\"{} reactant: {} unit: {}, factor: {}, req_amt: {}, qty on-hand before make: {}\".format(self.name, symnum(r)[0], symnum(r)[1], factor, req_amt, c.qty))\u001b[0m\u001b[0;34m\u001b[0m\u001b[0;34m\u001b[0m\u001b[0m\n\u001b[0;32m---> 39\u001b[0;31m                 \u001b[0mmade_amt\u001b[0m \u001b[0;34m=\u001b[0m \u001b[0mc\u001b[0m\u001b[0;34m.\u001b[0m\u001b[0mmake\u001b[0m\u001b[0;34m(\u001b[0m\u001b[0mreq_amt\u001b[0m\u001b[0;34m)\u001b[0m\u001b[0;34m\u001b[0m\u001b[0m\n\u001b[0m\u001b[1;32m     40\u001b[0m                 \u001b[0;31m# update on-hand leftover (req_amt is consumed in the calling reaction)\u001b[0m\u001b[0;34m\u001b[0m\u001b[0;34m\u001b[0m\u001b[0m\n\u001b[1;32m     41\u001b[0m                 \u001b[0mc\u001b[0m\u001b[0;34m.\u001b[0m\u001b[0mqty\u001b[0m \u001b[0;34m=\u001b[0m \u001b[0mc\u001b[0m\u001b[0;34m.\u001b[0m\u001b[0mqty\u001b[0m \u001b[0;34m+\u001b[0m \u001b[0mmade_amt\u001b[0m \u001b[0;34m-\u001b[0m \u001b[0mreq_amt\u001b[0m\u001b[0;34m\u001b[0m\u001b[0m\n",
      "\u001b[0;32m<ipython-input-3-9bbe59b92ac8>\u001b[0m in \u001b[0;36mmake\u001b[0;34m(self, req_qty)\u001b[0m\n\u001b[1;32m     37\u001b[0m                 \u001b[0mreq_amt\u001b[0m \u001b[0;34m=\u001b[0m \u001b[0msymnum\u001b[0m\u001b[0;34m(\u001b[0m\u001b[0mr\u001b[0m\u001b[0;34m)\u001b[0m\u001b[0;34m[\u001b[0m\u001b[0;36m1\u001b[0m\u001b[0;34m]\u001b[0m \u001b[0;34m*\u001b[0m \u001b[0mfactor\u001b[0m\u001b[0;34m\u001b[0m\u001b[0m\n\u001b[1;32m     38\u001b[0m                 \u001b[0;31m# print(\"{} reactant: {} unit: {}, factor: {}, req_amt: {}, qty on-hand before make: {}\".format(self.name, symnum(r)[0], symnum(r)[1], factor, req_amt, c.qty))\u001b[0m\u001b[0;34m\u001b[0m\u001b[0;34m\u001b[0m\u001b[0m\n\u001b[0;32m---> 39\u001b[0;31m                 \u001b[0mmade_amt\u001b[0m \u001b[0;34m=\u001b[0m \u001b[0mc\u001b[0m\u001b[0;34m.\u001b[0m\u001b[0mmake\u001b[0m\u001b[0;34m(\u001b[0m\u001b[0mreq_amt\u001b[0m\u001b[0;34m)\u001b[0m\u001b[0;34m\u001b[0m\u001b[0m\n\u001b[0m\u001b[1;32m     40\u001b[0m                 \u001b[0;31m# update on-hand leftover (req_amt is consumed in the calling reaction)\u001b[0m\u001b[0;34m\u001b[0m\u001b[0;34m\u001b[0m\u001b[0m\n\u001b[1;32m     41\u001b[0m                 \u001b[0mc\u001b[0m\u001b[0;34m.\u001b[0m\u001b[0mqty\u001b[0m \u001b[0;34m=\u001b[0m \u001b[0mc\u001b[0m\u001b[0;34m.\u001b[0m\u001b[0mqty\u001b[0m \u001b[0;34m+\u001b[0m \u001b[0mmade_amt\u001b[0m \u001b[0;34m-\u001b[0m \u001b[0mreq_amt\u001b[0m\u001b[0;34m\u001b[0m\u001b[0m\n",
      "\u001b[0;32m<ipython-input-3-9bbe59b92ac8>\u001b[0m in \u001b[0;36mmake\u001b[0;34m(self, req_qty)\u001b[0m\n\u001b[1;32m     34\u001b[0m             \u001b[0;32mfor\u001b[0m \u001b[0mr\u001b[0m \u001b[0;32min\u001b[0m \u001b[0mself\u001b[0m\u001b[0;34m.\u001b[0m\u001b[0mreactants\u001b[0m\u001b[0;34m:\u001b[0m\u001b[0;34m\u001b[0m\u001b[0m\n\u001b[1;32m     35\u001b[0m                 \u001b[0;31m# get the ch array element for this reactant\u001b[0m\u001b[0;34m\u001b[0m\u001b[0;34m\u001b[0m\u001b[0m\n\u001b[0;32m---> 36\u001b[0;31m                 \u001b[0mc\u001b[0m \u001b[0;34m=\u001b[0m \u001b[0mfind_chem_by_name\u001b[0m\u001b[0;34m(\u001b[0m\u001b[0mch\u001b[0m\u001b[0;34m,\u001b[0m \u001b[0msymnum\u001b[0m\u001b[0;34m(\u001b[0m\u001b[0mr\u001b[0m\u001b[0;34m)\u001b[0m\u001b[0;34m[\u001b[0m\u001b[0;36m0\u001b[0m\u001b[0;34m]\u001b[0m\u001b[0;34m)\u001b[0m\u001b[0;34m\u001b[0m\u001b[0m\n\u001b[0m\u001b[1;32m     37\u001b[0m                 \u001b[0mreq_amt\u001b[0m \u001b[0;34m=\u001b[0m \u001b[0msymnum\u001b[0m\u001b[0;34m(\u001b[0m\u001b[0mr\u001b[0m\u001b[0;34m)\u001b[0m\u001b[0;34m[\u001b[0m\u001b[0;36m1\u001b[0m\u001b[0;34m]\u001b[0m \u001b[0;34m*\u001b[0m \u001b[0mfactor\u001b[0m\u001b[0;34m\u001b[0m\u001b[0m\n\u001b[1;32m     38\u001b[0m                 \u001b[0;31m# print(\"{} reactant: {} unit: {}, factor: {}, req_amt: {}, qty on-hand before make: {}\".format(self.name, symnum(r)[0], symnum(r)[1], factor, req_amt, c.qty))\u001b[0m\u001b[0;34m\u001b[0m\u001b[0;34m\u001b[0m\u001b[0m\n",
      "\u001b[0;32m<ipython-input-8-df1d7aee716a>\u001b[0m in \u001b[0;36mfind_chem_by_name\u001b[0;34m(ch, name)\u001b[0m\n\u001b[1;32m      1\u001b[0m \u001b[0;32mdef\u001b[0m \u001b[0mfind_chem_by_name\u001b[0m\u001b[0;34m(\u001b[0m\u001b[0mch\u001b[0m\u001b[0;34m,\u001b[0m \u001b[0mname\u001b[0m\u001b[0;34m)\u001b[0m\u001b[0;34m:\u001b[0m\u001b[0;34m\u001b[0m\u001b[0m\n\u001b[0;32m----> 2\u001b[0;31m     \u001b[0mc\u001b[0m \u001b[0;34m=\u001b[0m \u001b[0;34m[\u001b[0m\u001b[0mchem\u001b[0m \u001b[0;32mfor\u001b[0m \u001b[0mchem\u001b[0m \u001b[0;32min\u001b[0m \u001b[0mch\u001b[0m \u001b[0;32mif\u001b[0m \u001b[0mchem\u001b[0m\u001b[0;34m.\u001b[0m\u001b[0mname\u001b[0m \u001b[0;34m==\u001b[0m \u001b[0mname\u001b[0m\u001b[0;34m]\u001b[0m\u001b[0;34m\u001b[0m\u001b[0m\n\u001b[0m\u001b[1;32m      3\u001b[0m     \u001b[0;32mreturn\u001b[0m\u001b[0;34m(\u001b[0m\u001b[0mc\u001b[0m\u001b[0;34m[\u001b[0m\u001b[0;36m0\u001b[0m\u001b[0;34m]\u001b[0m\u001b[0;34m)\u001b[0m\u001b[0;34m\u001b[0m\u001b[0m\n",
      "\u001b[0;32m<ipython-input-8-df1d7aee716a>\u001b[0m in \u001b[0;36m<listcomp>\u001b[0;34m(.0)\u001b[0m\n\u001b[1;32m      1\u001b[0m \u001b[0;32mdef\u001b[0m \u001b[0mfind_chem_by_name\u001b[0m\u001b[0;34m(\u001b[0m\u001b[0mch\u001b[0m\u001b[0;34m,\u001b[0m \u001b[0mname\u001b[0m\u001b[0;34m)\u001b[0m\u001b[0;34m:\u001b[0m\u001b[0;34m\u001b[0m\u001b[0m\n\u001b[0;32m----> 2\u001b[0;31m     \u001b[0mc\u001b[0m \u001b[0;34m=\u001b[0m \u001b[0;34m[\u001b[0m\u001b[0mchem\u001b[0m \u001b[0;32mfor\u001b[0m \u001b[0mchem\u001b[0m \u001b[0;32min\u001b[0m \u001b[0mch\u001b[0m \u001b[0;32mif\u001b[0m \u001b[0mchem\u001b[0m\u001b[0;34m.\u001b[0m\u001b[0mname\u001b[0m \u001b[0;34m==\u001b[0m \u001b[0mname\u001b[0m\u001b[0;34m]\u001b[0m\u001b[0;34m\u001b[0m\u001b[0m\n\u001b[0m\u001b[1;32m      3\u001b[0m     \u001b[0;32mreturn\u001b[0m\u001b[0;34m(\u001b[0m\u001b[0mc\u001b[0m\u001b[0;34m[\u001b[0m\u001b[0;36m0\u001b[0m\u001b[0;34m]\u001b[0m\u001b[0;34m)\u001b[0m\u001b[0;34m\u001b[0m\u001b[0m\n",
      "\u001b[0;31mKeyboardInterrupt\u001b[0m: "
     ]
    }
   ],
   "source": [
    "one_trillion = 1000000000000\n",
    "# ore_qty_max = 1000000000000\n",
    "ore_qty_max = one_trillion\n",
    "step = 1000\n",
    "fuel_cnt = 0\n",
    "leftover_inv = 1\n",
    "# make fuel until there are no leftovers of reactants after a fuel is made (or you hit the max)\n",
    "# calling this a 'clean unit'\n",
    "starttime = time.perf_counter()\n",
    "laptime = time.perf_counter()\n",
    "while(leftover_inv != 0 and ore_qty < ore_qty_max):\n",
    "    fuel_cnt += x.make(1)\n",
    "    if(not (fuel_cnt % step)):\n",
    "        ore_rate = ore_qty / (time.perf_counter() - starttime)\n",
    "        secsleft = (ore_qty_max - ore_qty) / ore_rate\n",
    "        print(\"fuel_cnt: {}, ore_qty: {}, laptime: {}, ore_rate (/s): {}, secs left: {}\".format(fuel_cnt, ore_qty, time.perf_counter() - laptime, ore_rate, secsleft))\n",
    "        laptime = time.perf_counter()\n",
    "    # now get a sum of leftovers\n",
    "    leftover_inv = 0\n",
    "    for c in ch:\n",
    "        leftover_inv += c.qty\n",
    "    if(leftover_inv == 0):\n",
    "        print(\"no leftovers.  fuel_cnt: {}, ore_qty: {}\".format(fuel_cnt, ore_qty))\n",
    "\n",
    "if(leftover_inv != 0):\n",
    "    print(\"no clean unit can be determined.  but we did use up all the ore to make: {} fuels.\".format(fuel_cnt-1))\n",
    "else:\n",
    "    clean_ore_qty = ore_qty\n",
    "    # this is the # of clean_ore_units in a trillion\n",
    "    clean_units_in_a_trillion = int(one_trillion / ore_qty)\n",
    "    # and this is the # of fuels in a 'clean unit'\n",
    "    clean_fuel_qty = fuel_cnt\n",
    "    # how more ore is left after dividing by clean_ore_qty\n",
    "    remaining_ore = one_trillion % clean_ore_qty\n",
    "    # now use that remaining amount of ore and see how much fuel can be made\n",
    "    ore_qty = 0\n",
    "    fuel_cnt = 0\n",
    "    while(ore_qty < remaining_ore):\n",
    "        fuel_cnt += x.make(1)\n",
    "    # calculate the fuel from even # of clean units, then from the leftover\n",
    "    fuel_from_a_trillion_ore = clean_units_in_a_trillion * clean_fuel_qty + fuel_cnt - 1\n",
    "\n",
    "    print(\"the amount of fuel that can be made using {} units of ore is: {}\".format(one_trillion, fuel_from_a_trillion_ore))\n"
   ]
  },
  {
   "cell_type": "code",
   "execution_count": null,
   "metadata": {},
   "outputs": [],
   "source": []
  },
  {
   "cell_type": "code",
   "execution_count": null,
   "metadata": {},
   "outputs": [],
   "source": []
  }
 ],
 "metadata": {
  "kernelspec": {
   "display_name": "Python 3",
   "language": "python",
   "name": "python3"
  },
  "language_info": {
   "codemirror_mode": {
    "name": "ipython",
    "version": 3
   },
   "file_extension": ".py",
   "mimetype": "text/x-python",
   "name": "python",
   "nbconvert_exporter": "python",
   "pygments_lexer": "ipython3",
   "version": "3.6.4"
  }
 },
 "nbformat": 4,
 "nbformat_minor": 2
}
