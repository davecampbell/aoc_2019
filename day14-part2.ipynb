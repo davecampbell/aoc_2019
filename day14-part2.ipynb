{
 "cells": [
  {
   "cell_type": "code",
   "execution_count": 1,
   "metadata": {},
   "outputs": [],
   "source": [
    "# AOC - Day14 - Part 2\n",
    "# https://adventofcode.com/2019/day/14#part2"
   ]
  },
  {
   "cell_type": "code",
   "execution_count": 2,
   "metadata": {},
   "outputs": [],
   "source": [
    "import math\n",
    "import time\n",
    "import numpy as np\n",
    "from sklearn.linear_model import LinearRegression"
   ]
  },
  {
   "cell_type": "code",
   "execution_count": 3,
   "metadata": {},
   "outputs": [],
   "source": [
    "class Chemical:\n",
    "    # need to do something special when this chemical is made\n",
    "    # this is the ore, which gets mined, not made\n",
    "    global o_str\n",
    "    global ch\n",
    "    def __init__(self, name, qty, rqty, reactants):\n",
    "        self.name = name\n",
    "        self.qty = qty\n",
    "        self.rqty = rqty\n",
    "        self.reactants = reactants\n",
    "        return\n",
    "    def make(self, req_qty):\n",
    "        global ore_qty\n",
    "        # if ore is being requested\n",
    "        # print(\"{}.make({})...\".format(self.name, req_qty))\n",
    "        if(self.name == o_str):\n",
    "            # add this amount to accumulator\n",
    "            ore_qty = ore_qty + req_qty\n",
    "            # and return what is requested (instantly mined!)\n",
    "            # print(\"{} ORE mined! total so far: {}\".format(req_qty, ore_qty))\n",
    "            return(req_qty)\n",
    "        # so ore not being requested.\n",
    "        # see what is in inventory, and only kick off the reaction for what inventory can't provide\n",
    "        need_amt = req_qty - self.qty\n",
    "        if(need_amt <= 0):\n",
    "            # have enough on hand.  reduce the inventory and return the requested amount.\n",
    "            # print(\"...enough on hand: {}\".format(self.qty))\n",
    "            self.qty -= req_qty\n",
    "            return(req_qty)\n",
    "        else:\n",
    "            # determine factor required given need_amt and unit_quantity in the make reaction\n",
    "            factor = calc_factor(need_amt, self.rqty)\n",
    "            # now 'do the reaction' - iterate through the reactants\n",
    "            for r in self.reactants:\n",
    "                # get the ch array element for this reactant\n",
    "                c = find_chem_by_name(ch, symnum(r)[0])\n",
    "                req_amt = symnum(r)[1] * factor\n",
    "                # print(\"{} reactant: {} unit: {}, factor: {}, req_amt: {}, qty on-hand before make: {}\".format(self.name, symnum(r)[0], symnum(r)[1], factor, req_amt, c.qty))\n",
    "                made_amt = c.make(req_amt)\n",
    "                # update on-hand leftover (req_amt is consumed in the calling reaction)\n",
    "                c.qty = c.qty + made_amt - req_amt\n",
    "                # print(\"{} reactant: {} made_amt: {}, qty on-hand after make: {}\".format(self.name, symnum(r)[0], made_amt, c.qty))\n",
    "        return(factor*self.rqty)"
   ]
  },
  {
   "cell_type": "code",
   "execution_count": 4,
   "metadata": {},
   "outputs": [],
   "source": [
    "class Reactant:\n",
    "    def _init__(self, chem, qty):\n",
    "        self.chem = chem\n",
    "        self.qty = qty\n",
    "        return\n",
    "\n",
    "class Reaction:\n",
    "    def __init__(self, reaction_tup):\n",
    "        self.reactant_list = reaction_tup[0]\n",
    "        self.product = reaction_tup[1]\n",
    "        return"
   ]
  },
  {
   "cell_type": "code",
   "execution_count": 5,
   "metadata": {},
   "outputs": [],
   "source": [
    "def parse_reaction(r_txt):\n",
    "    # r_txt comes in like: \"44 XJWVT, 5 KHKGT, 1 QDVJ, 29 NZVS, 9 GPVTF, 48 HKGWZ => 1 FUEL\"\n",
    "    # parse this out and return a reactant list (r_list) and product (p)\n",
    "    # each looks like  {'CHEM_SYMBOL': NUMBER}\n",
    "    r_list = []\n",
    "    p = {}\n",
    "    left, right = r_txt.split(\" => \")\n",
    "    p_num, p_chem = right.split()\n",
    "    p[p_chem] = int(p_num)\n",
    "    for l in left.split(\", \"):\n",
    "        reactant = {}\n",
    "        reactant[l.split()[1]] = int(l.split()[0])\n",
    "        r_list.append(reactant)\n",
    "    return(r_list, p)"
   ]
  },
  {
   "cell_type": "code",
   "execution_count": 6,
   "metadata": {},
   "outputs": [],
   "source": [
    "def calc_factor(req, makeunit):\n",
    "    return(int(math.ceil(req / makeunit)))"
   ]
  },
  {
   "cell_type": "code",
   "execution_count": 7,
   "metadata": {},
   "outputs": [],
   "source": [
    "# this function returns the first key, value of a dictionary as a tuple\n",
    "def symnum(r):\n",
    "    sym = list(r.keys())[0]\n",
    "    num = list(r.values())[0]\n",
    "    return((sym, num))"
   ]
  },
  {
   "cell_type": "code",
   "execution_count": 8,
   "metadata": {},
   "outputs": [],
   "source": [
    "def find_chem_by_name(ch, name):\n",
    "    c = [chem for chem in ch if chem.name == name]\n",
    "    return(c[0])"
   ]
  },
  {
   "cell_type": "code",
   "execution_count": 9,
   "metadata": {},
   "outputs": [],
   "source": [
    "# array of chemicals\n",
    "ch = []\n",
    "ore_qty = 0\n",
    "# these are the strings used for the chemical symbols for Fuel and Ore\n",
    "f_str = \"FUEL\"\n",
    "o_str = \"ORE\"\n",
    "# these are for the linear regression used to predict fuel (y) from ore (x)\n",
    "xl = []\n",
    "yl = []"
   ]
  },
  {
   "cell_type": "code",
   "execution_count": 10,
   "metadata": {},
   "outputs": [],
   "source": [
    "# read the reactions list from the input file\n",
    "ifn = \"day14-input.txt\"\n",
    "# parse each line\n",
    "# each line defines a chemical and contains the reactancts\n",
    "with open(ifn) as f:\n",
    "    for line in f:\n",
    "        r_list, p = parse_reaction(line)\n",
    "        # create a chemical for the product and add it to the chemical array\n",
    "        # initial quantity is 0, of course\n",
    "        ch.append(Chemical(symnum(p)[0], 0, symnum(p)[1], r_list))\n",
    "# add ore as a reaction (ore => ore)\n",
    "o_reaction_line = \"1 {} => 1 {}\".format(o_str, o_str)\n",
    "r_list, p = parse_reaction(o_reaction_line)\n",
    "ch.append(Chemical(symnum(p)[0], 0, symnum(p)[1], r_list))"
   ]
  },
  {
   "cell_type": "code",
   "execution_count": 11,
   "metadata": {},
   "outputs": [],
   "source": [
    "# this will return the chemical element that is the fuel\n",
    "x = find_chem_by_name(ch, f_str)"
   ]
  },
  {
   "cell_type": "code",
   "execution_count": 12,
   "metadata": {},
   "outputs": [
    {
     "name": "stdout",
     "output_type": "stream",
     "text": [
      "fuel_cnt: 10000, ore_qty: 830615898, laptime: 40.366044794005575, ore_rate (/s): 20577063.540445425, secs left: 48557.43299514404\n",
      "fuel_cnt: 20000, ore_qty: 1661225039, laptime: 39.591377340984764, ore_rate (/s): 20776205.77351465, secs left: 48052.02575696832\n",
      "fuel_cnt: 30000, ore_qty: 2491825145, laptime: 39.31517111399444, ore_rate (/s): 20891714.598761518, secs left: 47746.59208268781\n",
      "fuel_cnt: 40000, ore_qty: 3322435390, laptime: 40.019203527015634, ore_rate (/s): 20857419.2916701, secs left: 47785.277299768655\n",
      "fuel_cnt: 50000, ore_qty: 4153043531, laptime: 39.52990852599032, ore_rate (/s): 20888167.06108364, secs left: 47675.17195533849\n",
      "xa shape: (50001, 1), ya shape: (50001,)\n",
      "this method uses the first 50000 data points to predict the amount of fuel.\n",
      "the amount of fuel predicted that can be made using 1000000000000 units of ore is: 12039407\n"
     ]
    }
   ],
   "source": [
    "one_trillion = 1000000000000\n",
    "# ore_qty_max = 1000000000000\n",
    "ore_qty_max = one_trillion\n",
    "step = 10000\n",
    "fuel_cnt = 0\n",
    "leftover_inv = 1\n",
    "regress = True\n",
    "regress_max = 50000\n",
    "regress_cnt = 0\n",
    "regress_bail = False\n",
    "# make fuel until there are no leftovers of reactants after a fuel is made (or you hit the max)\n",
    "# calling this a 'clean unit'\n",
    "starttime = time.perf_counter()\n",
    "laptime = time.perf_counter()\n",
    "while(leftover_inv != 0 and ore_qty < ore_qty_max and not regress_bail):\n",
    "    fuel_cnt += x.make(1)\n",
    "    regress_cnt += 1\n",
    "    if(regress and regress_cnt > regress_max):\n",
    "        regress_bail = True\n",
    "    # add results to the data collectors for linear regression\n",
    "    xl.append(ore_qty)\n",
    "    yl.append(fuel_cnt)\n",
    "    # do some output every step increments\n",
    "    if(not (fuel_cnt % step)):\n",
    "        ore_rate = ore_qty / (time.perf_counter() - starttime)\n",
    "        secsleft = (ore_qty_max - ore_qty) / ore_rate\n",
    "        print(\"fuel_cnt: {}, ore_qty: {}, laptime: {}, ore_rate (/s): {}, secs left: {}\".format(fuel_cnt, ore_qty, time.perf_counter() - laptime, ore_rate, secsleft))\n",
    "        laptime = time.perf_counter()\n",
    "    # now get a sum of leftover reactanct quantities\n",
    "    leftover_inv = 0\n",
    "    for c in ch:\n",
    "        leftover_inv += c.qty\n",
    "    # see if this is a 'clean unit' yet\n",
    "    if(leftover_inv == 0):\n",
    "        print(\"no leftovers!  fuel_cnt: {}, ore_qty: {}\".format(fuel_cnt, ore_qty))\n",
    "\n",
    "if(regress_bail):\n",
    "    # make numpy arrays of x and y and reshape x for the regression function\n",
    "    # https://realpython.com/linear-regression-in-python/\n",
    "    xa = np.array(xl).reshape((-1,1))\n",
    "    ya = np.array(yl)\n",
    "    print(\"xa shape: {}, ya shape: {}\".format(xa.shape, ya.shape))\n",
    "    # input()\n",
    "    model = LinearRegression().fit(xa, ya)\n",
    "    fuel_pred = model.predict(one_trillion)\n",
    "    print(\"this method uses the first {} data points to predict the amount of fuel.\".format(regress_max))\n",
    "    print(\"the amount of fuel predicted that can be made using {} units of ore is: {}\".format(one_trillion, int(fuel_pred)))\n",
    "elif(leftover_inv != 0):\n",
    "    print(\"no clean unit can be determined.  but we did use up all the ore to make: {} fuels.\".format(fuel_cnt-1))\n",
    "else:\n",
    "    clean_ore_qty = ore_qty\n",
    "    # this is the # of clean_ore_units in a trillion\n",
    "    clean_units_in_a_trillion = int(one_trillion / ore_qty)\n",
    "    # and this is the # of fuels in a 'clean unit'\n",
    "    clean_fuel_qty = fuel_cnt\n",
    "    # how more ore is left after dividing by clean_ore_qty\n",
    "    remaining_ore = one_trillion % clean_ore_qty\n",
    "    # now use that remaining amount of ore and see how much fuel can be made\n",
    "    ore_qty = 0\n",
    "    fuel_cnt = 0\n",
    "    while(ore_qty < remaining_ore):\n",
    "        fuel_cnt += x.make(1)\n",
    "    # calculate the fuel from even # of clean units, then from the leftover\n",
    "    fuel_from_a_trillion_ore = clean_units_in_a_trillion * clean_fuel_qty + fuel_cnt - 1\n",
    "\n",
    "    print(\"the amount of fuel that can be made using {} units of ore is: {}\".format(one_trillion, fuel_from_a_trillion_ore))\n"
   ]
  },
  {
   "cell_type": "code",
   "execution_count": null,
   "metadata": {},
   "outputs": [],
   "source": []
  }
 ],
 "metadata": {
  "kernelspec": {
   "display_name": "Python 3",
   "language": "python",
   "name": "python3"
  },
  "language_info": {
   "codemirror_mode": {
    "name": "ipython",
    "version": 3
   },
   "file_extension": ".py",
   "mimetype": "text/x-python",
   "name": "python",
   "nbconvert_exporter": "python",
   "pygments_lexer": "ipython3",
   "version": "3.6.4"
  }
 },
 "nbformat": 4,
 "nbformat_minor": 2
}
