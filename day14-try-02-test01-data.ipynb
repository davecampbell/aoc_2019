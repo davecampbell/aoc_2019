{
 "cells": [
  {
   "cell_type": "code",
   "execution_count": 1,
   "metadata": {},
   "outputs": [],
   "source": [
    "# AOC - Day14 - Part 1 attempt: 2\n",
    "# using testdata-02"
   ]
  },
  {
   "cell_type": "code",
   "execution_count": 3,
   "metadata": {},
   "outputs": [],
   "source": [
    "import math"
   ]
  },
  {
   "cell_type": "code",
   "execution_count": 5,
   "metadata": {},
   "outputs": [],
   "source": [
    "class Chemical:\n",
    "    # need to do something special when this chemical is made\n",
    "    # this is the ore, which gets mined, not made\n",
    "    global o_str\n",
    "    global ch\n",
    "    def __init__(self, name, qty, rqty, reactants):\n",
    "        self.name = name\n",
    "        self.qty = qty\n",
    "        self.rqty = rqty\n",
    "        self.reactants = reactants\n",
    "        return\n",
    "    def make(self, req_qty):\n",
    "        global ore_qty\n",
    "        # if ore is being requested\n",
    "        print(\"{}.make({})...\".format(self.name, req_qty))\n",
    "        if(self.name == o_str):\n",
    "            # add this amount to accumulator\n",
    "            ore_qty = ore_qty + req_qty\n",
    "            # and return what is requested (instantly mined!)\n",
    "            print(\"{} ORE mined! total so far: {}\".format(req_qty, ore_qty))\n",
    "            return(req_qty)\n",
    "        # so ore not being requested.\n",
    "        # see what is in inventory, and only kick off the reaction for what inventory can't provide\n",
    "        need_amt = req_qty - self.qty\n",
    "        if(need_amt <= 0):\n",
    "            # have enough on hand.  reduce the inventory and return the requested amount.\n",
    "            print(\"...enough on hand: {}\".format(self.qty))\n",
    "            self.qty -= req_qty\n",
    "            return(req_qty)\n",
    "        else:\n",
    "            # determine factor required given need_amt and unit_quantity in the make reaction\n",
    "            factor = calc_factor(need_amt, self.rqty)\n",
    "            # now 'do the reaction' - iterate through the reactants\n",
    "            for r in self.reactants:\n",
    "                # get the ch array element for this reactant\n",
    "                c = find_chem_by_name(ch, symnum(r)[0])\n",
    "                req_amt = symnum(r)[1] * factor\n",
    "                print(\"{} reactant: {} unit: {}, factor: {}, req_amt: {}, qty on-hand before make: {}\".format(self.name, symnum(r)[0], symnum(r)[1], factor, req_amt, c.qty))\n",
    "                made_amt = c.make(req_amt)\n",
    "                # update on-hand leftover (req_amt is consumed in the calling reaction)\n",
    "                c.qty = c.qty + made_amt - req_amt\n",
    "                print(\"{} reactant: {} made_amt: {}, qty on-hand after make: {}\".format(self.name, symnum(r)[0], made_amt, c.qty))\n",
    "        return(factor*self.rqty)"
   ]
  },
  {
   "cell_type": "code",
   "execution_count": 6,
   "metadata": {},
   "outputs": [],
   "source": [
    "class Reactant:\n",
    "    def _init__(self, chem, qty):\n",
    "        self.chem = chem\n",
    "        self.qty = qty\n",
    "        return\n",
    "\n",
    "class Reaction:\n",
    "    def __init__(self, reaction_tup):\n",
    "        self.reactant_list = reaction_tup[0]\n",
    "        self.product = reaction_tup[1]\n",
    "        return"
   ]
  },
  {
   "cell_type": "code",
   "execution_count": 7,
   "metadata": {},
   "outputs": [],
   "source": [
    "def parse_reaction(r_txt):\n",
    "    # r_txt comes in like: \"44 XJWVT, 5 KHKGT, 1 QDVJ, 29 NZVS, 9 GPVTF, 48 HKGWZ => 1 FUEL\"\n",
    "    # parse this out and return a reactant list (r_list) and product (p)\n",
    "    # each looks like  {'CHEM_SYMBOL': NUMBER}\n",
    "    r_list = []\n",
    "    p = {}\n",
    "    left, right = r_txt.split(\" => \")\n",
    "    p_num, p_chem = right.split()\n",
    "    p[p_chem] = int(p_num)\n",
    "    for l in left.split(\", \"):\n",
    "        reactant = {}\n",
    "        reactant[l.split()[1]] = int(l.split()[0])\n",
    "        r_list.append(reactant)\n",
    "    return(r_list, p)"
   ]
  },
  {
   "cell_type": "code",
   "execution_count": 8,
   "metadata": {},
   "outputs": [],
   "source": [
    "def calc_factor(req, makeunit):\n",
    "    return(int(math.ceil(req / makeunit)))"
   ]
  },
  {
   "cell_type": "code",
   "execution_count": 9,
   "metadata": {},
   "outputs": [],
   "source": [
    "# this function returns the first key, value of a dictionary as a tuple\n",
    "def symnum(r):\n",
    "    sym = list(r.keys())[0]\n",
    "    num = list(r.values())[0]\n",
    "    return((sym, num))"
   ]
  },
  {
   "cell_type": "code",
   "execution_count": 10,
   "metadata": {},
   "outputs": [],
   "source": [
    "def find_chem_by_name(ch, name):\n",
    "    c = [chem for chem in ch if chem.name == name]\n",
    "    return(c[0])"
   ]
  },
  {
   "cell_type": "code",
   "execution_count": 11,
   "metadata": {},
   "outputs": [],
   "source": [
    "# array of chemicals\n",
    "ch = []\n",
    "ore_qty = 0\n",
    "# these are the strings used for the chemical symbols for Fuel and Ore\n",
    "f_str = \"FUEL\"\n",
    "o_str = \"ORE\""
   ]
  },
  {
   "cell_type": "code",
   "execution_count": 12,
   "metadata": {},
   "outputs": [],
   "source": [
    "# read the reactions list from the input file\n",
    "ifn = \"day14-input-test-01.txt\"\n",
    "# parse each line\n",
    "# each line defines a chemical and contains the reactancts\n",
    "with open(ifn) as f:\n",
    "    for line in f:\n",
    "        r_list, p = parse_reaction(line)\n",
    "        # create a chemical for the product and add it to the chemical array\n",
    "        # initial quantity is 0, of course\n",
    "        ch.append(Chemical(symnum(p)[0], 0, symnum(p)[1], r_list))\n",
    "# add ore as a reaction (ore => ore)\n",
    "o_reaction_line = \"1 {} => 1 {}\".format(o_str, o_str)\n",
    "r_list, p = parse_reaction(o_reaction_line)\n",
    "ch.append(Chemical(symnum(p)[0], 0, symnum(p)[1], r_list))"
   ]
  },
  {
   "cell_type": "code",
   "execution_count": 13,
   "metadata": {},
   "outputs": [],
   "source": [
    "# this will return the chemical element that is the fuel\n",
    "x = find_chem_by_name(ch, f_str)"
   ]
  },
  {
   "cell_type": "code",
   "execution_count": 14,
   "metadata": {},
   "outputs": [
    {
     "name": "stdout",
     "output_type": "stream",
     "text": [
      "FUEL.make(1)...\n",
      "FUEL reactant: XJWVT unit: 44, factor: 1, req_amt: 44, qty on-hand before make: 0\n",
      "XJWVT.make(44)...\n",
      "XJWVT reactant: DCFZ unit: 7, factor: 22, req_amt: 154, qty on-hand before make: 0\n",
      "DCFZ.make(154)...\n",
      "DCFZ reactant: ORE unit: 165, factor: 26, req_amt: 4290, qty on-hand before make: 0\n",
      "ORE.make(4290)...\n",
      "4290 ORE mined! total so far: 4290\n",
      "DCFZ reactant: ORE made_amt: 4290, qty on-hand after make: 0\n",
      "XJWVT reactant: DCFZ made_amt: 156, qty on-hand after make: 2\n",
      "XJWVT reactant: PSHF unit: 7, factor: 22, req_amt: 154, qty on-hand before make: 0\n",
      "PSHF.make(154)...\n",
      "PSHF reactant: ORE unit: 179, factor: 22, req_amt: 3938, qty on-hand before make: 0\n",
      "ORE.make(3938)...\n",
      "3938 ORE mined! total so far: 8228\n",
      "PSHF reactant: ORE made_amt: 3938, qty on-hand after make: 0\n",
      "XJWVT reactant: PSHF made_amt: 154, qty on-hand after make: 0\n",
      "FUEL reactant: XJWVT made_amt: 44, qty on-hand after make: 0\n",
      "FUEL reactant: KHKGT unit: 5, factor: 1, req_amt: 5, qty on-hand before make: 0\n",
      "KHKGT.make(5)...\n",
      "KHKGT reactant: DCFZ unit: 3, factor: 1, req_amt: 3, qty on-hand before make: 2\n",
      "DCFZ.make(3)...\n",
      "DCFZ reactant: ORE unit: 165, factor: 1, req_amt: 165, qty on-hand before make: 0\n",
      "ORE.make(165)...\n",
      "165 ORE mined! total so far: 8393\n",
      "DCFZ reactant: ORE made_amt: 165, qty on-hand after make: 0\n",
      "KHKGT reactant: DCFZ made_amt: 6, qty on-hand after make: 5\n",
      "KHKGT reactant: NZVS unit: 7, factor: 1, req_amt: 7, qty on-hand before make: 0\n",
      "NZVS.make(7)...\n",
      "NZVS reactant: ORE unit: 157, factor: 2, req_amt: 314, qty on-hand before make: 0\n",
      "ORE.make(314)...\n",
      "314 ORE mined! total so far: 8707\n",
      "NZVS reactant: ORE made_amt: 314, qty on-hand after make: 0\n",
      "KHKGT reactant: NZVS made_amt: 10, qty on-hand after make: 3\n",
      "KHKGT reactant: HKGWZ unit: 5, factor: 1, req_amt: 5, qty on-hand before make: 0\n",
      "HKGWZ.make(5)...\n",
      "HKGWZ reactant: ORE unit: 177, factor: 1, req_amt: 177, qty on-hand before make: 0\n",
      "ORE.make(177)...\n",
      "177 ORE mined! total so far: 8884\n",
      "HKGWZ reactant: ORE made_amt: 177, qty on-hand after make: 0\n",
      "KHKGT reactant: HKGWZ made_amt: 5, qty on-hand after make: 0\n",
      "KHKGT reactant: PSHF unit: 10, factor: 1, req_amt: 10, qty on-hand before make: 0\n",
      "PSHF.make(10)...\n",
      "PSHF reactant: ORE unit: 179, factor: 2, req_amt: 358, qty on-hand before make: 0\n",
      "ORE.make(358)...\n",
      "358 ORE mined! total so far: 9242\n",
      "PSHF reactant: ORE made_amt: 358, qty on-hand after make: 0\n",
      "KHKGT reactant: PSHF made_amt: 14, qty on-hand after make: 4\n",
      "FUEL reactant: KHKGT made_amt: 8, qty on-hand after make: 3\n",
      "FUEL reactant: QDVJ unit: 1, factor: 1, req_amt: 1, qty on-hand before make: 0\n",
      "QDVJ.make(1)...\n",
      "QDVJ reactant: HKGWZ unit: 12, factor: 1, req_amt: 12, qty on-hand before make: 0\n",
      "HKGWZ.make(12)...\n",
      "HKGWZ reactant: ORE unit: 177, factor: 3, req_amt: 531, qty on-hand before make: 0\n",
      "ORE.make(531)...\n",
      "531 ORE mined! total so far: 9773\n",
      "HKGWZ reactant: ORE made_amt: 531, qty on-hand after make: 0\n",
      "QDVJ reactant: HKGWZ made_amt: 15, qty on-hand after make: 3\n",
      "QDVJ reactant: GPVTF unit: 1, factor: 1, req_amt: 1, qty on-hand before make: 0\n",
      "GPVTF.make(1)...\n",
      "GPVTF reactant: ORE unit: 165, factor: 1, req_amt: 165, qty on-hand before make: 0\n",
      "ORE.make(165)...\n",
      "165 ORE mined! total so far: 9938\n",
      "GPVTF reactant: ORE made_amt: 165, qty on-hand after make: 0\n",
      "QDVJ reactant: GPVTF made_amt: 2, qty on-hand after make: 1\n",
      "QDVJ reactant: PSHF unit: 8, factor: 1, req_amt: 8, qty on-hand before make: 4\n",
      "PSHF.make(8)...\n",
      "PSHF reactant: ORE unit: 179, factor: 1, req_amt: 179, qty on-hand before make: 0\n",
      "ORE.make(179)...\n",
      "179 ORE mined! total so far: 10117\n",
      "PSHF reactant: ORE made_amt: 179, qty on-hand after make: 0\n",
      "QDVJ reactant: PSHF made_amt: 7, qty on-hand after make: 3\n",
      "FUEL reactant: QDVJ made_amt: 9, qty on-hand after make: 8\n",
      "FUEL reactant: NZVS unit: 29, factor: 1, req_amt: 29, qty on-hand before make: 3\n",
      "NZVS.make(29)...\n",
      "NZVS reactant: ORE unit: 157, factor: 6, req_amt: 942, qty on-hand before make: 0\n",
      "ORE.make(942)...\n",
      "942 ORE mined! total so far: 11059\n",
      "NZVS reactant: ORE made_amt: 942, qty on-hand after make: 0\n",
      "FUEL reactant: NZVS made_amt: 30, qty on-hand after make: 4\n",
      "FUEL reactant: GPVTF unit: 9, factor: 1, req_amt: 9, qty on-hand before make: 1\n",
      "GPVTF.make(9)...\n",
      "GPVTF reactant: ORE unit: 165, factor: 4, req_amt: 660, qty on-hand before make: 0\n",
      "ORE.make(660)...\n",
      "660 ORE mined! total so far: 11719\n",
      "GPVTF reactant: ORE made_amt: 660, qty on-hand after make: 0\n",
      "FUEL reactant: GPVTF made_amt: 8, qty on-hand after make: 0\n",
      "FUEL reactant: HKGWZ unit: 48, factor: 1, req_amt: 48, qty on-hand before make: 3\n",
      "HKGWZ.make(48)...\n",
      "HKGWZ reactant: ORE unit: 177, factor: 9, req_amt: 1593, qty on-hand before make: 0\n",
      "ORE.make(1593)...\n",
      "1593 ORE mined! total so far: 13312\n",
      "HKGWZ reactant: ORE made_amt: 1593, qty on-hand after make: 0\n",
      "FUEL reactant: HKGWZ made_amt: 45, qty on-hand after make: 0\n"
     ]
    }
   ],
   "source": [
    "# this will invoke the making of 1 unit of fuel\n",
    "a = x.make(1)"
   ]
  },
  {
   "cell_type": "code",
   "execution_count": 15,
   "metadata": {},
   "outputs": [
    {
     "name": "stdout",
     "output_type": "stream",
     "text": [
      "the amount of ore to create 1 fuel is: 13312\n"
     ]
    }
   ],
   "source": [
    "print(\"the amount of ore to create 1 fuel is: {}\".format(ore_qty))"
   ]
  },
  {
   "cell_type": "code",
   "execution_count": null,
   "metadata": {},
   "outputs": [],
   "source": []
  }
 ],
 "metadata": {
  "kernelspec": {
   "display_name": "Python 3",
   "language": "python",
   "name": "python3"
  },
  "language_info": {
   "codemirror_mode": {
    "name": "ipython",
    "version": 3
   },
   "file_extension": ".py",
   "mimetype": "text/x-python",
   "name": "python",
   "nbconvert_exporter": "python",
   "pygments_lexer": "ipython3",
   "version": "3.6.4"
  }
 },
 "nbformat": 4,
 "nbformat_minor": 2
}
