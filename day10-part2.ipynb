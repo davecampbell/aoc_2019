{
 "cells": [
  {
   "cell_type": "code",
   "execution_count": 1,
   "metadata": {},
   "outputs": [],
   "source": [
    "# AOC - Day 10, part2 - https://adventofcode.com/2019/day/10#part2"
   ]
  },
  {
   "cell_type": "code",
   "execution_count": 2,
   "metadata": {},
   "outputs": [],
   "source": [
    "# the asteriod class\n",
    "class Asteriod:\n",
    "    def __init__(self, x=None, y=None):\n",
    "        # this is the (x,y) location of this asteroid\n",
    "        self.loc = (x, y)\n",
    "        # this is an array for neighbors proximity\n",
    "        self.neighbors = []"
   ]
  },
  {
   "cell_type": "code",
   "execution_count": 3,
   "metadata": {},
   "outputs": [],
   "source": [
    "def proximity(p1, p2):\n",
    "    import math\n",
    "    # calculates bearing and distance between 2 points\n",
    "    # p1, p2 are location tuples of the form: (x,y)\n",
    "    deltaX = p2[0] - p1[0]\n",
    "    deltaY = p2[1] - p1[1]\n",
    "    dist = round(math.sqrt(deltaX**2 + deltaY**2), 6)\n",
    "    # calculate bearing in degrees (convert from radians to degrees)\n",
    "    bearing = round(math.atan2(deltaX, deltaY) / math.pi * 180, 6)\n",
    "    # then deal with -degrees for 0 to -180.  adjust this to 0-360 scale\n",
    "    if(bearing < 0):\n",
    "        bearing = bearing + 360\n",
    "    # now do a reflection through the horizontal axis since bigger ys are down...\n",
    "    if(bearing <= 180):\n",
    "        bearing = 180 - bearing\n",
    "    else:\n",
    "        bearing = 540 - bearing\n",
    "    return((dist,bearing))"
   ]
  },
  {
   "cell_type": "code",
   "execution_count": 4,
   "metadata": {},
   "outputs": [],
   "source": [
    "# solar system (ss) is an array of Asteroids\n",
    "ss = []\n",
    "# read in the solar system input file as an array of characters ('#', '.', or '\\n')\n",
    "ifn = \"day10-input.txt\"\n",
    "d = open(ifn)\n",
    "s = d.read()"
   ]
  },
  {
   "cell_type": "code",
   "execution_count": 5,
   "metadata": {},
   "outputs": [],
   "source": [
    "# run through the input array, fill the ss array with asteroids\n",
    "# initial row, column\n",
    "x = 0\n",
    "y = 0\n",
    "for a in s:\n",
    "    if(a == '\\n'):\n",
    "        # that's end of the line, increment row, set column to 0\n",
    "        x += 1\n",
    "        y = 0\n",
    "    else:\n",
    "        # check if it is an asteroid\n",
    "        if(a == '#'):\n",
    "            # add an asteroid to the ss array, specifying its location\n",
    "            ss.append(Asteriod(x,y))\n",
    "        # and increment column\n",
    "        y += 1"
   ]
  },
  {
   "cell_type": "code",
   "execution_count": 6,
   "metadata": {},
   "outputs": [],
   "source": [
    "# run through each asteroid, calculate and store proximity (distance, bearing) to all the others, as\n",
    "# well as the ss index and hash of that neighbor\n",
    "for i,p1 in enumerate(ss):\n",
    "    for j,p2 in enumerate(ss):\n",
    "        if(i != j):\n",
    "            p = proximity(p1.loc, p2.loc)\n",
    "            p1.neighbors.append((p[0], p[1], p2.loc))"
   ]
  },
  {
   "cell_type": "code",
   "execution_count": null,
   "metadata": {},
   "outputs": [
    {
     "name": "stdout",
     "output_type": "stream",
     "text": [
      "--Return--\n",
      "> <ipython-input-7-c874b00a810f>(2)<module>()->None\n",
      "-> if(set_trace): import pdb; pdb.set_trace()\n",
      "(Pdb) p ss[352].neighbors[0]\n",
      "(28.017851, 304.82448899999997, (0, 1))\n",
      "(Pdb) p [y in ss[352].neighbors if y[1] == 0]\n",
      "*** SyntaxError: unexpected EOF while parsing\n",
      "(Pdb) p ss[352].neighbors[0][1]\n",
      "304.82448899999997\n",
      "(Pdb) p ss[352].neighbors[88][1]\n",
      "260.537678\n",
      "(Pdb) v = [y in ss[352].neighbors if y[1] == 0]\n",
      "*** SyntaxError: invalid syntax\n",
      "(Pdb) v = [y for ss[352].neighbors if y[1] == 0]\n",
      "*** SyntaxError: invalid syntax\n",
      "(Pdb) v = [for y in ss[352].neighbors if y[1] == 0]\n",
      "*** SyntaxError: invalid syntax\n",
      "(Pdb) v = [y for y in ss[352].neighbors if y[1] == 0]\n",
      "(Pdb) p v\n",
      "[(16.0, 0.0, (23, 1)), (15.0, 0.0, (23, 2)), (13.0, 0.0, (23, 4)), (12.0, 0.0, (23, 5)), (10.0, 0.0, (23, 7)), (9.0, 0.0, (23, 8)), (7.0, 0.0, (23, 10)), (3.0, 0.0, (23, 14)), (2.0, 0.0, (23, 15))]\n",
      "(Pdb) h = [y for y in ss[352].neighbors if y[2][1] == 15]\n",
      "*** No help for '= [y for y in ss[352].neighbors if y[2][1] == 15]'\n",
      "(Pdb) b = [y for y in ss[352].neighbors if y[2][1] == 15]\n",
      "*** The specified object '= [y for y in ss[352].neighbors if y[2][1] == 15]' is not a function or was not found along sys.path.\n",
      "(Pdb) v = [y for y in ss[352].neighbors if y[2][1] == 15]\n",
      "(Pdb) p v\n",
      "[(23.086793, 274.969741, (0, 15)), (21.095023, 275.440332, (2, 15)), (20.099751, 275.710593, (3, 15)), (18.11077, 276.340192, (5, 15)), (17.117243, 276.709837, (6, 15)), (16.124515, 277.125016, (7, 15)), (15.132746, 277.594643, (8, 15)), (13.152946, 278.746162, (10, 15)), (12.165525, 279.462322, (11, 15)), (7.28011, 285.945396, (16, 15)), (6.324555, 288.434949, (17, 15)), (5.385165, 291.80140900000004, (18, 15)), (4.472136, 296.565051, (19, 15)), (3.605551, 303.690068, (20, 15)), (2.828427, 315.0, (21, 15)), (2.0, 0.0, (23, 15)), (2.828427, 45.0, (25, 15))]\n",
      "(Pdb) v = [y for y in ss[352].neighbors if y[2][1] == 16]\n",
      "(Pdb) p v\n",
      "[(23.021729, 272.489553, (0, 16)), (20.024984, 272.86240499999997, (3, 16)), (17.029386, 273.366461, (6, 16)), (16.03122, 273.576334, (7, 16)), (15.033296, 273.814075, (8, 16)), (12.041595, 274.763642, (11, 16)), (11.045361, 275.194429, (12, 16)), (9.055385, 276.340192, (14, 16)), (4.123106, 284.036243, (19, 16)), (2.236068, 296.565051, (21, 16)), (1.414214, 45.0, (24, 16))]\n"
     ]
    }
   ],
   "source": [
    "set_trace = True\n",
    "if(set_trace): import pdb; pdb.set_trace()\n",
    "set_trace = False"
   ]
  },
  {
   "cell_type": "code",
   "execution_count": null,
   "metadata": {},
   "outputs": [],
   "source": [
    "# find the one that has the most visible neighbors\n",
    "# initialize before determining\n",
    "best_loc = (0,0)\n",
    "most_visible = 0\n",
    "a_index = -1\n",
    "# go through all the asteroids and calculate how many others are visible to each\n",
    "# and save the location of the one with most\n",
    "for i, a in enumerate(ss):\n",
    "    # get the list of bearings for each neighbor, make it a set, return the length of the set\n",
    "    # unique bearing entries are the number of visible neighbors, and this is what the set() operation does\n",
    "    # asteroids with the same bearing hide behind each other\n",
    "    num = len(set([j[1] for j in a.neighbors]))\n",
    "    if(num > most_visible):\n",
    "        # if it's the best one, make this the new best, and save the location\n",
    "        most_visible = num\n",
    "        best_loc = a.loc\n",
    "        a_index = i"
   ]
  },
  {
   "cell_type": "code",
   "execution_count": null,
   "metadata": {},
   "outputs": [],
   "source": [
    "print(\"The best location is asteroid #{}, at pos: {}, where {} other asteroids are visible.\".format(a_index,best_loc, most_visible))"
   ]
  },
  {
   "cell_type": "code",
   "execution_count": null,
   "metadata": {},
   "outputs": [],
   "source": [
    "# asteroid kill counter\n",
    "ast_ctr = 0"
   ]
  },
  {
   "cell_type": "code",
   "execution_count": null,
   "metadata": {},
   "outputs": [],
   "source": [
    "# determine which would be the k-th vaporization\n",
    "k = 200\n",
    "while(ast_ctr <= k):\n",
    "    # find the unique set of bearings for all the current neighbors\n",
    "    o = set([j[1] for j in ss[a_index].neighbors])\n",
    "    # make a list of the set\n",
    "    l = list(o)\n",
    "    # and sort it\n",
    "    l.sort()\n",
    "\n",
    "    # do a revolution, with one entry per unique bearing\n",
    "    kill_list = []\n",
    "    nkill_list = []\n",
    "    for m,r in enumerate(l):\n",
    "        if(ast_ctr == k+1):\n",
    "            break\n",
    "        else:\n",
    "        #    print(r)\n",
    "            # get all the neighbors at this bearing\n",
    "            a = [j for j in ss[a_index].neighbors if j[1] == r]\n",
    "            print(\"r: {}, a: {}\".format(r, a))\n",
    "            # find the closest one\n",
    "            min = 999999\n",
    "            # go through all of them and find the closest\n",
    "            for i,b in enumerate(a):\n",
    "                # if this is the close one...\n",
    "                if(b[0] < min):\n",
    "                    # reset min\n",
    "                    min = b[0]\n",
    "                    # remember the ss index and hash\n",
    "                    loc_to_kill = b[2]\n",
    "                    # ss_idx = b[2]\n",
    "                    # ss_hash = b[3]\n",
    "                    # and remember the index into the neighbors array\n",
    "                    # n_idx = i\n",
    "            # print(\"ast_ctr: {}, l_count: {}, bearing: {}, count: {}, removing: {}, len(ss): {}, len(.neighbors): {}\".format(ast_ctr, m, r, i, loc_to_kill, len(ss), len(ss[a_index].neighbors)))\n",
    "            # print(\"min dist: {}, ss_idx: {}, n_idx: {}\".format(min, ss_idx, n_idx))\n",
    "            # save off the location of the one to be removed for output later\n",
    "            # hash_to_kill = hash(ss[ss_idx])\n",
    "            # loc_of_interest = ss[ss_idx].loc\n",
    "            # remove the asteroid located at loc_to_kill from ss\n",
    "            kill_list.append(loc_to_kill)\n",
    "            print(\"ast_ctr: {}, bearing: {}, loc_to_kill: {}\".format(ast_ctr, r, loc_to_kill))\n",
    "            # idx_to_kill = [i for i,e in enumerate(ss) if e.loc == loc_to_kill]\n",
    "            # print(\"idx_to_kill: {}\".format(idx_to_kill[0]))\n",
    "            # del ss[idx_to_kill[0]]\n",
    "            # and from the .neighbors array\n",
    "            # get the index of the neighbor that has that ss_idx\n",
    "            # nidx_to_kill = [i for i,e in enumerate(ss[a_index].neighbors) if e[2] == loc_to_kill]\n",
    "            # print(\"nidx_to_kill: {}\".format(nidx_to_kill[0]))\n",
    "            # and remove it from the neighbors\n",
    "            # del ss[a_index].neighbors[nidx_to_kill[0]]\n",
    "            # increment the asteroid kill counter\n",
    "            ast_ctr += 1\n",
    "            \n",
    "    # do the kills and the neighbor list maintenance\n",
    "    for i,kloc in enumerate(kill_list):\n",
    "        # idx_to_kill = [i for i,e in enumerate(ss) if e.loc == k]\n",
    "        # del ss[idx_to_kill[0]]\n",
    "        nidx_to_kill = [i for i,e in enumerate(ss[a_index].neighbors) if e[2] == kloc]\n",
    "        del ss[a_index].neighbors[nidx_to_kill[0]]\n",
    "        last = kloc\n",
    "        "
   ]
  },
  {
   "cell_type": "code",
   "execution_count": null,
   "metadata": {},
   "outputs": [],
   "source": [
    "print(\"The {}th asteroid to be vaporized was located at {}\".format(ast_ctr, last))\n",
    "print(\"The number to submit is: {}\".format(last[0]*100 + last[1]))"
   ]
  }
 ],
 "metadata": {
  "kernelspec": {
   "display_name": "Python 3",
   "language": "python",
   "name": "python3"
  },
  "language_info": {
   "codemirror_mode": {
    "name": "ipython",
    "version": 3
   },
   "file_extension": ".py",
   "mimetype": "text/x-python",
   "name": "python",
   "nbconvert_exporter": "python",
   "pygments_lexer": "ipython3",
   "version": "3.6.4"
  }
 },
 "nbformat": 4,
 "nbformat_minor": 2
}
