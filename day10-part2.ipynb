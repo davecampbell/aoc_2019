{
 "cells": [
  {
   "cell_type": "code",
   "execution_count": 1,
   "metadata": {},
   "outputs": [],
   "source": [
    "# AOC - Day 10, part2 - https://adventofcode.com/2019/day/10#part2"
   ]
  },
  {
   "cell_type": "code",
   "execution_count": 2,
   "metadata": {},
   "outputs": [],
   "source": [
    "# the asteriod class\n",
    "class Asteriod:\n",
    "    def __init__(self, x=None, y=None):\n",
    "        # this is the (x,y) location of this asteroid\n",
    "        self.loc = (x, y)\n",
    "        # this is an array for neighbors proximity\n",
    "        self.neighbors = []"
   ]
  },
  {
   "cell_type": "code",
   "execution_count": 3,
   "metadata": {},
   "outputs": [],
   "source": [
    "def proximity(p1, p2):\n",
    "    import math\n",
    "    # calculates bearing and distance between 2 points\n",
    "    # p1, p2 are location tuples of the form: (x,y)\n",
    "    deltaX = p2[0] - p1[0]\n",
    "    deltaY = p2[1] - p1[1]\n",
    "    dist = round(math.sqrt(deltaX**2 + deltaY**2), 6)\n",
    "    # calculate bearing in degrees (convert from radians to degrees)\n",
    "    bearing = round(math.atan2(deltaX, deltaY) / math.pi * 180, 6)\n",
    "    # then deal with -degrees for 0 to -180.  adjust this to 0-360 scale\n",
    "    if(bearing < 0):\n",
    "        bearing = bearing + 360\n",
    "    return((dist,bearing))"
   ]
  },
  {
   "cell_type": "code",
   "execution_count": 4,
   "metadata": {},
   "outputs": [],
   "source": [
    "# solar system (ss) is an array of Asteroids\n",
    "ss = []\n",
    "# read in the solar system input file as an array of characters ('#', '.', or '\\n')\n",
    "ifn = \"day10-input.txt\"\n",
    "d = open(ifn)\n",
    "s = d.read()"
   ]
  },
  {
   "cell_type": "code",
   "execution_count": 5,
   "metadata": {},
   "outputs": [],
   "source": [
    "# run through the input array, fill the ss array with asteroids\n",
    "# initial row, column\n",
    "x = 0\n",
    "y = 0\n",
    "for a in s:\n",
    "    if(a == '\\n'):\n",
    "        # that's end of the line, increment row, set column to 0\n",
    "        x += 1\n",
    "        y = 0\n",
    "    else:\n",
    "        # check if it is an asteroid\n",
    "        if(a == '#'):\n",
    "            # add an asteroid to the ss array, specifying its location\n",
    "            ss.append(Asteriod(x,y))\n",
    "        # and increment column\n",
    "        y += 1"
   ]
  },
  {
   "cell_type": "code",
   "execution_count": 6,
   "metadata": {},
   "outputs": [],
   "source": [
    "# run through each asteroid, calculate and store proximity (distance, bearing) to all the others, as\n",
    "# well as the ss index of that neighbor\n",
    "for i,p1 in enumerate(ss):\n",
    "    for j,p2 in enumerate(ss):\n",
    "        if(i != j):\n",
    "            p = proximity(p1.loc, p2.loc)\n",
    "            p1.neighbors.append((p[0], p[1], j))"
   ]
  },
  {
   "cell_type": "code",
   "execution_count": 7,
   "metadata": {},
   "outputs": [],
   "source": [
    "# initialize before determining\n",
    "best_loc = (0,0)\n",
    "most_visible = 0\n",
    "a_index = -1\n",
    "# go through all the asteroids and calculate how many others are visible to each\n",
    "# and save the location of the one with most\n",
    "for i, a in enumerate(ss):\n",
    "    # get the list of bearings for each neighbor, make it a set, return the length of the set\n",
    "    # unique bearing entries are the number of visible neighbors, and this is what the set() operation does\n",
    "    # asteroids with the same bearing hide behind each other\n",
    "    num = len(set([j[1] for j in a.neighbors]))\n",
    "    if(num > most_visible):\n",
    "        # if it's the best one, make this the new best, and save the location\n",
    "        most_visible = num\n",
    "        best_loc = a.loc\n",
    "        a_index = i"
   ]
  },
  {
   "cell_type": "code",
   "execution_count": 8,
   "metadata": {},
   "outputs": [
    {
     "name": "stdout",
     "output_type": "stream",
     "text": [
      "The best location is asteroid #352, at pos: (23, 17), where 296 other asteroids are visible.\n"
     ]
    }
   ],
   "source": [
    "print(\"The best location is asteroid #{}, at pos: {}, where {} other asteroids are visible.\".format(a_index,best_loc, most_visible))"
   ]
  },
  {
   "cell_type": "code",
   "execution_count": 9,
   "metadata": {},
   "outputs": [
    {
     "data": {
      "text/plain": [
       "(4.242641, 45.0, 402)"
      ]
     },
     "execution_count": 9,
     "metadata": {},
     "output_type": "execute_result"
    }
   ],
   "source": [
    "ss[352].neighbors[401]"
   ]
  },
  {
   "cell_type": "code",
   "execution_count": 40,
   "metadata": {},
   "outputs": [],
   "source": [
    "o = set([j[1] for j in ss[352].neighbors])\n",
    "l = list(o)\n",
    "l.sort()"
   ]
  },
  {
   "cell_type": "code",
   "execution_count": 75,
   "metadata": {},
   "outputs": [
    {
     "name": "stdout",
     "output_type": "stream",
     "text": [
      "[(1.0, 0.0, 353), (6.0, 0.0, 356), (9.0, 0.0, 357)]\n",
      "min dist: 1.0, ss_idx: 353, n_idx: 0\n",
      "[(1.0, 0.0, 353), (6.0, 0.0, 356), (9.0, 0.0, 357)]\n"
     ]
    }
   ],
   "source": [
    "ast_ctr = 0\n",
    "# do a revolution, with one entry per unique bearing\n",
    "for r in [l[0]]:\n",
    "#    print(r)\n",
    "    a = [j for j in ss[a_index].neighbors if j[1] == r]\n",
    "    print(a)\n",
    "    min = 999999\n",
    "    for i,b in enumerate(a):\n",
    "        if(b[0] < min):\n",
    "            min = b[0]\n",
    "            ss_idx = b[2]\n",
    "            n_idx = i\n",
    "            \n",
    "    print(\"min dist: {}, ss_idx: {}, n_idx: {}\".format(min, ss_idx, n_idx))\n",
    "    # remove this asteroid from the neighbor list AND THE SS\n",
    "    del ss[ss_idx]\n",
    "    del ss[a_index].neighbors[n_idx]\n",
    "    print(a)"
   ]
  },
  {
   "cell_type": "code",
   "execution_count": 76,
   "metadata": {},
   "outputs": [
    {
     "data": {
      "text/plain": [
       "[(1.0, 0.0, 353), (6.0, 0.0, 356), (9.0, 0.0, 357)]"
      ]
     },
     "execution_count": 76,
     "metadata": {},
     "output_type": "execute_result"
    }
   ],
   "source": [
    "a"
   ]
  },
  {
   "cell_type": "code",
   "execution_count": 41,
   "metadata": {},
   "outputs": [
    {
     "data": {
      "text/plain": [
       "296"
      ]
     },
     "execution_count": 41,
     "metadata": {},
     "output_type": "execute_result"
    }
   ],
   "source": [
    "len(l)"
   ]
  },
  {
   "cell_type": "code",
   "execution_count": 53,
   "metadata": {},
   "outputs": [
    {
     "data": {
      "text/plain": [
       "90.0"
      ]
     },
     "execution_count": 53,
     "metadata": {},
     "output_type": "execute_result"
    }
   ],
   "source": [
    "l[15]"
   ]
  },
  {
   "cell_type": "code",
   "execution_count": 10,
   "metadata": {},
   "outputs": [],
   "source": [
    "s = set([j[1] for j in ss[a_index].neighbors])\n",
    "l = list(s)"
   ]
  },
  {
   "cell_type": "code",
   "execution_count": 11,
   "metadata": {},
   "outputs": [
    {
     "data": {
      "text/plain": [
       "list"
      ]
     },
     "execution_count": 11,
     "metadata": {},
     "output_type": "execute_result"
    }
   ],
   "source": [
    "type(l)"
   ]
  },
  {
   "cell_type": "code",
   "execution_count": 12,
   "metadata": {},
   "outputs": [
    {
     "data": {
      "text/plain": [
       "set"
      ]
     },
     "execution_count": 12,
     "metadata": {},
     "output_type": "execute_result"
    }
   ],
   "source": [
    "type(s)"
   ]
  },
  {
   "cell_type": "code",
   "execution_count": 13,
   "metadata": {},
   "outputs": [
    {
     "data": {
      "text/plain": [
       "296"
      ]
     },
     "execution_count": 13,
     "metadata": {},
     "output_type": "execute_result"
    }
   ],
   "source": [
    "len(l)"
   ]
  },
  {
   "cell_type": "code",
   "execution_count": 14,
   "metadata": {},
   "outputs": [
    {
     "data": {
      "text/plain": [
       "296"
      ]
     },
     "execution_count": 14,
     "metadata": {},
     "output_type": "execute_result"
    }
   ],
   "source": [
    "len(s)"
   ]
  },
  {
   "cell_type": "code",
   "execution_count": 15,
   "metadata": {},
   "outputs": [
    {
     "data": {
      "text/plain": [
       "9.462322"
      ]
     },
     "execution_count": 15,
     "metadata": {},
     "output_type": "execute_result"
    }
   ],
   "source": [
    "l[3]"
   ]
  },
  {
   "cell_type": "code",
   "execution_count": 16,
   "metadata": {},
   "outputs": [
    {
     "ename": "TypeError",
     "evalue": "'set' object does not support indexing",
     "output_type": "error",
     "traceback": [
      "\u001b[0;31m---------------------------------------------------------------------------\u001b[0m",
      "\u001b[0;31mTypeError\u001b[0m                                 Traceback (most recent call last)",
      "\u001b[0;32m<ipython-input-16-354d6d7fa2e4>\u001b[0m in \u001b[0;36m<module>\u001b[0;34m()\u001b[0m\n\u001b[0;32m----> 1\u001b[0;31m \u001b[0ms\u001b[0m\u001b[0;34m[\u001b[0m\u001b[0;36m3\u001b[0m\u001b[0;34m]\u001b[0m\u001b[0;34m\u001b[0m\u001b[0m\n\u001b[0m",
      "\u001b[0;31mTypeError\u001b[0m: 'set' object does not support indexing"
     ]
    }
   ],
   "source": [
    "s[3]"
   ]
  },
  {
   "cell_type": "code",
   "execution_count": null,
   "metadata": {},
   "outputs": [],
   "source": []
  }
 ],
 "metadata": {
  "kernelspec": {
   "display_name": "Python 3",
   "language": "python",
   "name": "python3"
  },
  "language_info": {
   "codemirror_mode": {
    "name": "ipython",
    "version": 3
   },
   "file_extension": ".py",
   "mimetype": "text/x-python",
   "name": "python",
   "nbconvert_exporter": "python",
   "pygments_lexer": "ipython3",
   "version": "3.6.4"
  }
 },
 "nbformat": 4,
 "nbformat_minor": 2
}
