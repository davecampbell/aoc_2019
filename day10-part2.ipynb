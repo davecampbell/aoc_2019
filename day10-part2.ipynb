{
 "cells": [
  {
   "cell_type": "code",
   "execution_count": 1,
   "metadata": {},
   "outputs": [],
   "source": [
    "# AOC - Day 10, part2 - https://adventofcode.com/2019/day/10#part2"
   ]
  },
  {
   "cell_type": "code",
   "execution_count": 2,
   "metadata": {},
   "outputs": [],
   "source": [
    "# the asteriod class\n",
    "class Asteriod:\n",
    "    def __init__(self, x=None, y=None):\n",
    "        # this is the (x,y) location of this asteroid\n",
    "        self.loc = (x, y)\n",
    "        # this is an array for neighbors proximity\n",
    "        self.neighbors = []"
   ]
  },
  {
   "cell_type": "code",
   "execution_count": 20,
   "metadata": {},
   "outputs": [],
   "source": [
    "def proximity(p1, p2):\n",
    "    import math\n",
    "    # calculates bearing and distance between 2 points\n",
    "    # p1, p2 are location tuples of the form: (x,y)\n",
    "    deltaX = p2[0] - p1[0]\n",
    "    deltaY = p2[1] - p1[1]\n",
    "    dist = round(math.sqrt(deltaX**2 + deltaY**2), 6)\n",
    "    # calculate bearing in degrees (convert from radians to degrees)\n",
    "    bearing = round(math.atan2(deltaX, deltaY) / math.pi * 180, 6)\n",
    "    # then deal with -degrees for 0 to -180.  adjust this to 0-360 scale\n",
    "    if(bearing < 0):\n",
    "        bearing = bearing + 360\n",
    "    return((dist,bearing))"
   ]
  },
  {
   "cell_type": "code",
   "execution_count": 21,
   "metadata": {},
   "outputs": [],
   "source": [
    "# solar system (ss) is an array of Asteroids\n",
    "ss = []\n",
    "# read in the solar system input file as an array of characters ('#', '.', or '\\n')\n",
    "ifn = \"day10-input.txt\"\n",
    "d = open(ifn)\n",
    "s = d.read()"
   ]
  },
  {
   "cell_type": "code",
   "execution_count": 22,
   "metadata": {},
   "outputs": [],
   "source": [
    "# run through the input array, fill the ss array with asteroids\n",
    "# initial row, column\n",
    "x = 0\n",
    "y = 0\n",
    "for a in s:\n",
    "    if(a == '\\n'):\n",
    "        # that's end of the line, increment row, set column to 0\n",
    "        x += 1\n",
    "        y = 0\n",
    "    else:\n",
    "        # check if it is an asteroid\n",
    "        if(a == '#'):\n",
    "            # add an asteroid to the ss array, specifying its location\n",
    "            ss.append(Asteriod(x,y))\n",
    "        # and increment column\n",
    "        y += 1"
   ]
  },
  {
   "cell_type": "code",
   "execution_count": 23,
   "metadata": {},
   "outputs": [],
   "source": [
    "# run through each asteroid, calculate and store proximity (distance, bearing) to all the others\n",
    "for i,p1 in enumerate(ss):\n",
    "    for j,p2 in enumerate(ss):\n",
    "        if(i != j):\n",
    "            p1.neighbors.append(proximity(p1.loc, p2.loc))"
   ]
  },
  {
   "cell_type": "code",
   "execution_count": 24,
   "metadata": {},
   "outputs": [],
   "source": [
    "# initialize before determining\n",
    "best_loc = (0,0)\n",
    "most_visible = 0\n",
    "a_index = -1\n",
    "# go through all the asteroids and calculate how many others are visible to each\n",
    "# and save the location of the one with most\n",
    "for i, a in enumerate(ss):\n",
    "    # get the list of bearings for each neighbor, make it a set, return the length of the set\n",
    "    # unique bearing entries are the number of visible neighbors, and this is what the set() operation does\n",
    "    # asteroids with the same bearing hide behind each other\n",
    "    num = len(set([j[1] for j in a.neighbors]))\n",
    "    if(num > most_visible):\n",
    "        # if it's the best one, make this the new best, and save the location\n",
    "        most_visible = num\n",
    "        best_loc = a.loc\n",
    "        a_index = i"
   ]
  },
  {
   "cell_type": "code",
   "execution_count": 25,
   "metadata": {},
   "outputs": [
    {
     "name": "stdout",
     "output_type": "stream",
     "text": [
      "The best location is asteroid #352, at pos: (23, 17), where 296 other asteroids are visible.\n"
     ]
    }
   ],
   "source": [
    "print(\"The best location is asteroid #{}, at pos: {}, where {} other asteroids are visible.\".format(a_index,best_loc, most_visible))"
   ]
  },
  {
   "cell_type": "code",
   "execution_count": 31,
   "metadata": {},
   "outputs": [
    {
     "data": {
      "text/plain": [
       "(4.242641, 45.0)"
      ]
     },
     "execution_count": 31,
     "metadata": {},
     "output_type": "execute_result"
    }
   ],
   "source": [
    "ss[352].neighbors[401]"
   ]
  },
  {
   "cell_type": "code",
   "execution_count": 36,
   "metadata": {},
   "outputs": [],
   "source": [
    "l = list(set([j[1] for j in ss[a_index].neighbors]))"
   ]
  },
  {
   "cell_type": "code",
   "execution_count": 50,
   "metadata": {},
   "outputs": [],
   "source": [
    "s = l.sort()"
   ]
  },
  {
   "cell_type": "code",
   "execution_count": 52,
   "metadata": {},
   "outputs": [],
   "source": [
    "s"
   ]
  },
  {
   "cell_type": "code",
   "execution_count": null,
   "metadata": {},
   "outputs": [],
   "source": []
  }
 ],
 "metadata": {
  "kernelspec": {
   "display_name": "Python 3",
   "language": "python",
   "name": "python3"
  },
  "language_info": {
   "codemirror_mode": {
    "name": "ipython",
    "version": 3
   },
   "file_extension": ".py",
   "mimetype": "text/x-python",
   "name": "python",
   "nbconvert_exporter": "python",
   "pygments_lexer": "ipython3",
   "version": "3.6.4"
  }
 },
 "nbformat": 4,
 "nbformat_minor": 2
}
