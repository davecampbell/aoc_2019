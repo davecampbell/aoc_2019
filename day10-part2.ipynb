{
 "cells": [
  {
   "cell_type": "code",
   "execution_count": 1,
   "metadata": {},
   "outputs": [],
   "source": [
    "# AOC - Day 10, part2 - https://adventofcode.com/2019/day/10#part2\n",
    "# notes on coordinate reference systems\n",
    "# positions are referenced as a tuple, like (row, col) in the challenge\n",
    "# if this were an x,y coordinate system - that would actually by (y,x) - a new row is an increase in y\n",
    "# increasing row counts go 'down' visually, as the data is read in serially\n",
    "# the challenge specifies that the laser starts by pointing 'up' and then rotates clockwise.\n",
    "# in conventional cartesian coordinates, given that increasing y is 'down', up would then be\n",
    "# 180 degrees.  all sorts of accomodations had to be made to get that to work out"
   ]
  },
  {
   "cell_type": "code",
   "execution_count": 2,
   "metadata": {},
   "outputs": [],
   "source": [
    "# the asteriod class\n",
    "class Asteriod:\n",
    "    def __init__(self, x=None, y=None):\n",
    "        # this is the (x,y) location of this asteroid in cartesian coordinates\n",
    "        self.loc = (x, y)\n",
    "        # this is an array for neighbors proximity\n",
    "        self.neighbors = []"
   ]
  },
  {
   "cell_type": "code",
   "execution_count": 3,
   "metadata": {},
   "outputs": [],
   "source": [
    "# image map\n",
    "# not important to the solution, but useful to debug\n",
    "class Imap:\n",
    "    def __init__(self, e, x=None, y=None):\n",
    "        # this is the (x,y) location of this item in cartesian coordinates\n",
    "        self.loc = (x, y)\n",
    "        self.entry = e\n",
    "def showentry(x,y):\n",
    "    i = [j.entry for j in m if j.loc[0] == x and j.loc[1] == y]\n",
    "    print(\"entry at {},{} = {}\".format(x,y,i[0]))"
   ]
  },
  {
   "cell_type": "code",
   "execution_count": 4,
   "metadata": {},
   "outputs": [],
   "source": [
    "# rotate an angle by some value\n",
    "def rotate(x, d, m):\n",
    "    # x - the angle to rotate\n",
    "    # d - how much to rotate\n",
    "    # m - # of degrees in circle\n",
    "    n = x + d\n",
    "    if(n >= m):\n",
    "        n = n - m\n",
    "    if(n < 0):\n",
    "        n = n + m\n",
    "    return(n)"
   ]
  },
  {
   "cell_type": "code",
   "execution_count": 5,
   "metadata": {},
   "outputs": [],
   "source": [
    "def proximity(p1, p2):\n",
    "    import math\n",
    "    # calculates bearing and distance between 2 points\n",
    "    # p1, p2 are location tuples of the form: (x,y)\n",
    "    deltaX = p2[0] - p1[0]\n",
    "    deltaY = p2[1] - p1[1]\n",
    "    dist = math.sqrt(deltaX**2 + deltaY**2)\n",
    "    # calculate bearing, copnvert to degrees\n",
    "    # why deltaX first?  the gun-angle is given as \"up is 0\" and referenced then from the y-axis\n",
    "    # convention for atan2 is referenced from the x-axis\n",
    "    b = math.atan2(deltaX * -1, deltaY) * (180 / math.pi)\n",
    "    # need to deal with negative degrees...\n",
    "    if(b < 0):\n",
    "        b += 360\n",
    "    # this accomodates precisely that y increases as you go 'down' visually\n",
    "    b = rotate(b, 180, 360)\n",
    "    return(round(dist,6),round(b,6))"
   ]
  },
  {
   "cell_type": "code",
   "execution_count": 6,
   "metadata": {},
   "outputs": [],
   "source": [
    "# solar system (ss) is an array of Asteroids\n",
    "m = []\n",
    "ss = []\n",
    "# read in the solar system input file as an array of characters ('#', '.', or '\\n')\n",
    "ifn = \"day10-input.txt\"\n",
    "d = open(ifn)\n",
    "s = d.read()"
   ]
  },
  {
   "cell_type": "code",
   "execution_count": 7,
   "metadata": {},
   "outputs": [],
   "source": [
    "# run through the input array, fill the ss array with asteroids\n",
    "# initial row, column\n",
    "row = 0\n",
    "column = 0\n",
    "for a in s:\n",
    "    if(a == '\\n'):\n",
    "        # that's end of the line, increment row, set column to 0\n",
    "        row += 1\n",
    "        column = 0\n",
    "        log_msg = \"next...{},{}: {}\".format(row,column,a)\n",
    "    else:\n",
    "        # check if it is an asteroid\n",
    "        if(a == '#'):\n",
    "            # add an asteroid to the ss array, specifying its location in the cartesian system\n",
    "            # the row is the y, the x is the column postion\n",
    "            ss.append(Asteriod(x=column,y=row))\n",
    "        # add to the image map (not important to solution)\n",
    "        m.append(Imap(a,x=column,y=row))\n",
    "        # and increment column\n",
    "        column += 1"
   ]
  },
  {
   "cell_type": "code",
   "execution_count": 8,
   "metadata": {},
   "outputs": [],
   "source": [
    "# run through each asteroid, calculate and store proximity (distance, bearing) to all the others, as\n",
    "# well as the loc of that neighbor\n",
    "for i,p1 in enumerate(ss):\n",
    "    for j,p2 in enumerate(ss):\n",
    "        if(i != j):\n",
    "            p = proximity(p1.loc, p2.loc)\n",
    "            p1.neighbors.append((p[0], p[1], p2.loc))"
   ]
  },
  {
   "cell_type": "code",
   "execution_count": 9,
   "metadata": {},
   "outputs": [],
   "source": [
    "set_trace = False\n",
    "if(set_trace): import pdb; pdb.set_trace()\n",
    "set_trace = False"
   ]
  },
  {
   "cell_type": "code",
   "execution_count": 10,
   "metadata": {},
   "outputs": [],
   "source": [
    "# find the one that has the most visible neighbors\n",
    "# initialize before determining\n",
    "best_loc = (0,0)\n",
    "most_visible = 0\n",
    "a_index = -1\n",
    "# go through all the asteroids and calculate how many others are visible to each\n",
    "# and save the location of the one with most\n",
    "for i, a in enumerate(ss):\n",
    "    # get the list of bearings for each neighbor, make it a set, return the length of the set\n",
    "    # unique bearing entries are the number of visible neighbors, and this is what the set() operation does\n",
    "    # asteroids with the same bearing hide behind each other\n",
    "    num = len(set([j[1] for j in a.neighbors]))\n",
    "    if(num > most_visible):\n",
    "        # if it's the best one, make this the new best, and save the location\n",
    "        most_visible = num\n",
    "        best_loc = a.loc\n",
    "        a_index = i"
   ]
  },
  {
   "cell_type": "code",
   "execution_count": 11,
   "metadata": {},
   "outputs": [
    {
     "name": "stdout",
     "output_type": "stream",
     "text": [
      "The best location is asteroid #352, at pos: (17, 23), where 296 other asteroids are visible.\n"
     ]
    }
   ],
   "source": [
    "print(\"The best location is asteroid #{}, at pos: {}, where {} other asteroids are visible.\".format(a_index,best_loc, most_visible))"
   ]
  },
  {
   "cell_type": "code",
   "execution_count": 12,
   "metadata": {},
   "outputs": [],
   "source": [
    "# asteroid kill counter\n",
    "ast_ctr = 0"
   ]
  },
  {
   "cell_type": "code",
   "execution_count": 13,
   "metadata": {},
   "outputs": [],
   "source": [
    "# determine which would be the k-th vaporization\n",
    "k = 199\n",
    "while(ast_ctr <= k):\n",
    "    # find the unique set of bearings for all the current neighbors\n",
    "    o = set([j[1] for j in ss[a_index].neighbors])\n",
    "    # make a list of the set\n",
    "    l = list(o)\n",
    "    # and sort it\n",
    "    l.sort()\n",
    "   \n",
    "    # do a revolution, with one entry per unique bearing\n",
    "    kill_list = []\n",
    "    nkill_list = []\n",
    "    for m,r in enumerate(l):\n",
    "        if(ast_ctr == k+1):\n",
    "            break\n",
    "        else:\n",
    "            # get all the neighbors at this bearing\n",
    "            a = [j for j in ss[a_index].neighbors if j[1] == r]\n",
    "            # print(\"r: {}, a: {}\".format(r, a))\n",
    "            # find the closest one\n",
    "            min = 999999\n",
    "            # go through all of them and find the closest\n",
    "            for i,b in enumerate(a):\n",
    "                # if this is the close one...\n",
    "                if(b[0] < min):\n",
    "                    # reset min\n",
    "                    min = b[0]\n",
    "                    # remember the location\n",
    "                    loc_to_kill = b[2]\n",
    "            # remove the asteroid located at loc_to_kill from ss\n",
    "            kill_list.append(loc_to_kill)\n",
    "            # print(\"ast_ctr: {}, bearing: {}, loc_to_kill: {}\".format(ast_ctr, r, loc_to_kill))\n",
    "            # increment the asteroid kill counter\n",
    "            ast_ctr += 1\n",
    "            \n",
    "    # do the kills and the neighbor list maintenance\n",
    "    for i,kloc in enumerate(kill_list):\n",
    "        nidx_to_kill = [i for i,e in enumerate(ss[a_index].neighbors) if e[2] == kloc]\n",
    "        del ss[a_index].neighbors[nidx_to_kill[0]]\n",
    "        last = kloc"
   ]
  },
  {
   "cell_type": "code",
   "execution_count": 14,
   "metadata": {},
   "outputs": [
    {
     "name": "stdout",
     "output_type": "stream",
     "text": [
      "The 200th asteroid to be vaporized was located at (2, 4).\n",
      "The number to submit is: 204\n"
     ]
    }
   ],
   "source": [
    "print(\"The {}th asteroid to be vaporized was located at {}.\".format(ast_ctr, last))\n",
    "print(\"The number to submit is: {}\".format((last[0])*100 + last[1]))"
   ]
  }
 ],
 "metadata": {
  "kernelspec": {
   "display_name": "Python 3",
   "language": "python",
   "name": "python3"
  },
  "language_info": {
   "codemirror_mode": {
    "name": "ipython",
    "version": 3
   },
   "file_extension": ".py",
   "mimetype": "text/x-python",
   "name": "python",
   "nbconvert_exporter": "python",
   "pygments_lexer": "ipython3",
   "version": "3.6.4"
  }
 },
 "nbformat": 4,
 "nbformat_minor": 2
}
