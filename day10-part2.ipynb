{
 "cells": [
  {
   "cell_type": "code",
   "execution_count": 1,
   "metadata": {},
   "outputs": [],
   "source": [
    "# AOC - Day 10, part2 - https://adventofcode.com/2019/day/10#part2"
   ]
  },
  {
   "cell_type": "code",
   "execution_count": 2,
   "metadata": {},
   "outputs": [],
   "source": [
    "# the asteriod class\n",
    "class Asteriod:\n",
    "    def __init__(self, x=None, y=None):\n",
    "        # this is the (x,y) location of this asteroid\n",
    "        self.loc = (x, y)\n",
    "        # this is an array for neighbors proximity\n",
    "        self.neighbors = []"
   ]
  },
  {
   "cell_type": "code",
   "execution_count": 3,
   "metadata": {},
   "outputs": [],
   "source": [
    "def proximity(p1, p2):\n",
    "    import math\n",
    "    # calculates bearing and distance between 2 points\n",
    "    # p1, p2 are location tuples of the form: (x,y)\n",
    "    deltaX = p2[0] - p1[0]\n",
    "    deltaY = p2[1] - p1[1]\n",
    "    dist = round(math.sqrt(deltaX**2 + deltaY**2), 6)\n",
    "    # calculate bearing in degrees (convert from radians to degrees)\n",
    "    bearing = round(math.atan2(deltaX, deltaY) / math.pi * 180, 6)\n",
    "    # then deal with -degrees for 0 to -180.  adjust this to 0-360 scale\n",
    "    if(bearing < 0):\n",
    "        bearing = bearing + 360\n",
    "    return((dist,bearing))"
   ]
  },
  {
   "cell_type": "code",
   "execution_count": 4,
   "metadata": {},
   "outputs": [],
   "source": [
    "# solar system (ss) is an array of Asteroids\n",
    "ss = []\n",
    "# read in the solar system input file as an array of characters ('#', '.', or '\\n')\n",
    "ifn = \"day10-input.txt\"\n",
    "d = open(ifn)\n",
    "s = d.read()"
   ]
  },
  {
   "cell_type": "code",
   "execution_count": 5,
   "metadata": {},
   "outputs": [],
   "source": [
    "# run through the input array, fill the ss array with asteroids\n",
    "# initial row, column\n",
    "x = 0\n",
    "y = 0\n",
    "for a in s:\n",
    "    if(a == '\\n'):\n",
    "        # that's end of the line, increment row, set column to 0\n",
    "        x += 1\n",
    "        y = 0\n",
    "    else:\n",
    "        # check if it is an asteroid\n",
    "        if(a == '#'):\n",
    "            # add an asteroid to the ss array, specifying its location\n",
    "            ss.append(Asteriod(x,y))\n",
    "        # and increment column\n",
    "        y += 1"
   ]
  },
  {
   "cell_type": "code",
   "execution_count": 6,
   "metadata": {},
   "outputs": [],
   "source": [
    "# run through each asteroid, calculate and store proximity (distance, bearing) to all the others, as\n",
    "# well as the ss index and hash of that neighbor\n",
    "for i,p1 in enumerate(ss):\n",
    "    for j,p2 in enumerate(ss):\n",
    "        if(i != j):\n",
    "            p = proximity(p1.loc, p2.loc)\n",
    "            p1.neighbors.append((p[0], p[1], p2.loc))"
   ]
  },
  {
   "cell_type": "code",
   "execution_count": 7,
   "metadata": {},
   "outputs": [],
   "source": [
    "# find the one that has the most visible neighbors\n",
    "# initialize before determining\n",
    "best_loc = (0,0)\n",
    "most_visible = 0\n",
    "a_index = -1\n",
    "# go through all the asteroids and calculate how many others are visible to each\n",
    "# and save the location of the one with most\n",
    "for i, a in enumerate(ss):\n",
    "    # get the list of bearings for each neighbor, make it a set, return the length of the set\n",
    "    # unique bearing entries are the number of visible neighbors, and this is what the set() operation does\n",
    "    # asteroids with the same bearing hide behind each other\n",
    "    num = len(set([j[1] for j in a.neighbors]))\n",
    "    if(num > most_visible):\n",
    "        # if it's the best one, make this the new best, and save the location\n",
    "        most_visible = num\n",
    "        best_loc = a.loc\n",
    "        a_index = i"
   ]
  },
  {
   "cell_type": "code",
   "execution_count": 8,
   "metadata": {},
   "outputs": [
    {
     "name": "stdout",
     "output_type": "stream",
     "text": [
      "The best location is asteroid #352, at pos: (23, 17), where 296 other asteroids are visible.\n"
     ]
    }
   ],
   "source": [
    "print(\"The best location is asteroid #{}, at pos: {}, where {} other asteroids are visible.\".format(a_index,best_loc, most_visible))"
   ]
  },
  {
   "cell_type": "code",
   "execution_count": 9,
   "metadata": {},
   "outputs": [
    {
     "data": {
      "text/plain": [
       "282145607"
      ]
     },
     "execution_count": 9,
     "metadata": {},
     "output_type": "execute_result"
    }
   ],
   "source": [
    "hash(ss[351])"
   ]
  },
  {
   "cell_type": "code",
   "execution_count": 10,
   "metadata": {},
   "outputs": [],
   "source": [
    "# asteroid kill counter\n",
    "ast_ctr = 0"
   ]
  },
  {
   "cell_type": "code",
   "execution_count": 11,
   "metadata": {},
   "outputs": [
    {
     "name": "stdout",
     "output_type": "stream",
     "text": [
      "ast_ctr: 0, l_count: 0, bearing: 0.0, count: 4, removing: (23, 18), len(ss): 405, len(.neighbors): 404\n",
      "idx_to_kill: 353\n",
      "nidx_to_kill: 352\n",
      "ast_ctr: 1, l_count: 1, bearing: 6.340192, count: 0, removing: (24, 26), len(ss): 404, len(.neighbors): 403\n",
      "idx_to_kill: 373\n",
      "nidx_to_kill: 372\n",
      "ast_ctr: 2, l_count: 2, bearing: 8.130102, count: 0, removing: (24, 24), len(ss): 403, len(.neighbors): 402\n",
      "idx_to_kill: 372\n",
      "nidx_to_kill: 371\n",
      "ast_ctr: 3, l_count: 3, bearing: 9.462322, count: 0, removing: (24, 23), len(ss): 402, len(.neighbors): 401\n",
      "idx_to_kill: 371\n",
      "nidx_to_kill: 370\n",
      "ast_ctr: 4, l_count: 4, bearing: 11.309932, count: 0, removing: (24, 22), len(ss): 401, len(.neighbors): 400\n",
      "idx_to_kill: 370\n",
      "nidx_to_kill: 369\n",
      "ast_ctr: 5, l_count: 5, bearing: 15.945396, count: 0, removing: (25, 24), len(ss): 400, len(.neighbors): 399\n",
      "idx_to_kill: 386\n",
      "nidx_to_kill: 385\n",
      "ast_ctr: 6, l_count: 6, bearing: 18.434949, count: 0, removing: (24, 20), len(ss): 399, len(.neighbors): 398\n",
      "idx_to_kill: 369\n",
      "nidx_to_kill: 368\n",
      "ast_ctr: 7, l_count: 7, bearing: 20.556045, count: 0, removing: (26, 25), len(ss): 398, len(.neighbors): 397\n",
      "idx_to_kill: 397\n",
      "nidx_to_kill: 396\n",
      "ast_ctr: 8, l_count: 8, bearing: 21.801409, count: 0, removing: (25, 22), len(ss): 397, len(.neighbors): 396\n",
      "idx_to_kill: 384\n",
      "nidx_to_kill: 383\n",
      "ast_ctr: 9, l_count: 9, bearing: 26.565051, count: 1, removing: (24, 19), len(ss): 396, len(.neighbors): 395\n",
      "idx_to_kill: 368\n",
      "nidx_to_kill: 367\n",
      "ast_ctr: 10, l_count: 10, bearing: 33.690068, count: 0, removing: (25, 20), len(ss): 395, len(.neighbors): 394\n",
      "idx_to_kill: 381\n",
      "nidx_to_kill: 380\n",
      "ast_ctr: 11, l_count: 11, bearing: 36.869898, count: 0, removing: (26, 21), len(ss): 394, len(.neighbors): 393\n",
      "idx_to_kill: 393\n",
      "nidx_to_kill: 392\n",
      "ast_ctr: 12, l_count: 12, bearing: 45.0, count: 2, removing: (24, 18), len(ss): 393, len(.neighbors): 392\n",
      "idx_to_kill: 367\n",
      "nidx_to_kill: 366\n",
      "ast_ctr: 13, l_count: 13, bearing: 63.434949, count: 0, removing: (25, 18), len(ss): 392, len(.neighbors): 391\n",
      "idx_to_kill: 378\n",
      "nidx_to_kill: 377\n",
      "ast_ctr: 14, l_count: 14, bearing: 71.565051, count: 0, removing: (26, 18), len(ss): 391, len(.neighbors): 390\n",
      "idx_to_kill: 389\n",
      "nidx_to_kill: 388\n",
      "ast_ctr: 15, l_count: 15, bearing: 90.0, count: 1, removing: (24, 17), len(ss): 390, len(.neighbors): 389\n",
      "idx_to_kill: 366\n",
      "nidx_to_kill: 365\n",
      "ast_ctr: 16, l_count: 16, bearing: 135.0, count: 2, removing: (24, 16), len(ss): 389, len(.neighbors): 388\n",
      "idx_to_kill: 365\n",
      "nidx_to_kill: 364\n",
      "ast_ctr: 17, l_count: 17, bearing: 146.309932, count: 0, removing: (25, 14), len(ss): 388, len(.neighbors): 387\n",
      "idx_to_kill: 373\n",
      "nidx_to_kill: 372\n",
      "ast_ctr: 18, l_count: 18, bearing: 156.801409, count: 0, removing: (26, 10), len(ss): 387, len(.neighbors): 386\n",
      "idx_to_kill: 384\n",
      "nidx_to_kill: 383\n",
      "ast_ctr: 19, l_count: 19, bearing: 158.198591, count: 0, removing: (25, 12), len(ss): 386, len(.neighbors): 385\n",
      "idx_to_kill: 372\n",
      "nidx_to_kill: 371\n",
      "ast_ctr: 20, l_count: 20, bearing: 159.443955, count: 0, removing: (26, 9), len(ss): 385, len(.neighbors): 384\n",
      "idx_to_kill: 382\n",
      "nidx_to_kill: 381\n",
      "ast_ctr: 21, l_count: 21, bearing: 163.300756, count: 0, removing: (26, 7), len(ss): 384, len(.neighbors): 383\n",
      "idx_to_kill: 381\n",
      "nidx_to_kill: 380\n",
      "ast_ctr: 22, l_count: 22, bearing: 164.054604, count: 0, removing: (25, 10), len(ss): 383, len(.neighbors): 382\n",
      "idx_to_kill: 371\n",
      "nidx_to_kill: 370\n",
      "ast_ctr: 23, l_count: 23, bearing: 164.744881, count: 0, removing: (26, 6), len(ss): 382, len(.neighbors): 381\n",
      "idx_to_kill: 379\n",
      "nidx_to_kill: 378\n",
      "ast_ctr: 24, l_count: 24, bearing: 165.963757, count: 1, removing: (24, 13), len(ss): 381, len(.neighbors): 380\n",
      "idx_to_kill: 364\n",
      "nidx_to_kill: 363\n",
      "ast_ctr: 25, l_count: 25, bearing: 167.005383, count: 0, removing: (26, 4), len(ss): 380, len(.neighbors): 379\n",
      "idx_to_kill: 376\n",
      "nidx_to_kill: 375\n",
      "ast_ctr: 26, l_count: 26, bearing: 167.905243, count: 0, removing: (26, 3), len(ss): 379, len(.neighbors): 378\n",
      "idx_to_kill: 375\n",
      "nidx_to_kill: 374\n",
      "ast_ctr: 27, l_count: 27, bearing: 168.690068, count: 1, removing: (24, 12), len(ss): 378, len(.neighbors): 377\n",
      "idx_to_kill: 363\n",
      "nidx_to_kill: 362\n",
      "ast_ctr: 28, l_count: 28, bearing: 169.380345, count: 0, removing: (26, 1), len(ss): 377, len(.neighbors): 376\n",
      "idx_to_kill: 373\n",
      "nidx_to_kill: 372\n",
      "ast_ctr: 29, l_count: 29, bearing: 170.537678, count: 0, removing: (25, 5), len(ss): 376, len(.neighbors): 375\n",
      "idx_to_kill: 367\n",
      "nidx_to_kill: 366\n",
      "ast_ctr: 30, l_count: 30, bearing: 171.253838, count: 0, removing: (25, 4), len(ss): 375, len(.neighbors): 374\n",
      "idx_to_kill: 366\n",
      "nidx_to_kill: 365\n",
      "ast_ctr: 31, l_count: 31, bearing: 171.869898, count: 0, removing: (25, 3), len(ss): 374, len(.neighbors): 373\n",
      "idx_to_kill: 365\n",
      "nidx_to_kill: 364\n",
      "ast_ctr: 32, l_count: 32, bearing: 172.405357, count: 0, removing: (25, 2), len(ss): 373, len(.neighbors): 372\n",
      "idx_to_kill: 364\n",
      "nidx_to_kill: 363\n",
      "ast_ctr: 33, l_count: 33, bearing: 173.290163, count: 0, removing: (25, 0), len(ss): 372, len(.neighbors): 371\n",
      "idx_to_kill: 363\n",
      "nidx_to_kill: 362\n",
      "ast_ctr: 34, l_count: 34, bearing: 173.659808, count: 0, removing: (24, 8), len(ss): 371, len(.neighbors): 370\n",
      "idx_to_kill: 362\n",
      "nidx_to_kill: 361\n",
      "ast_ctr: 35, l_count: 35, bearing: 174.805571, count: 0, removing: (24, 6), len(ss): 370, len(.neighbors): 369\n",
      "idx_to_kill: 361\n",
      "nidx_to_kill: 360\n",
      "ast_ctr: 36, l_count: 36, bearing: 175.601295, count: 0, removing: (24, 4), len(ss): 369, len(.neighbors): 368\n",
      "idx_to_kill: 360\n",
      "nidx_to_kill: 359\n",
      "ast_ctr: 37, l_count: 37, bearing: 175.914383, count: 0, removing: (24, 3), len(ss): 368, len(.neighbors): 367\n",
      "idx_to_kill: 359\n",
      "nidx_to_kill: 358\n",
      "ast_ctr: 38, l_count: 38, bearing: 176.185925, count: 0, removing: (24, 2), len(ss): 367, len(.neighbors): 366\n",
      "idx_to_kill: 358\n",
      "nidx_to_kill: 357\n",
      "ast_ctr: 39, l_count: 39, bearing: 176.633539, count: 0, removing: (24, 0), len(ss): 366, len(.neighbors): 365\n",
      "idx_to_kill: 357\n",
      "nidx_to_kill: 356\n",
      "ast_ctr: 40, l_count: 40, bearing: 180.0, count: 8, removing: (23, 15), len(ss): 365, len(.neighbors): 364\n",
      "idx_to_kill: 351\n",
      "nidx_to_kill: 351\n",
      "ast_ctr: 41, l_count: 41, bearing: 183.366461, count: 0, removing: (22, 3), len(ss): 364, len(.neighbors): 403\n",
      "idx_to_kill: 334\n",
      "nidx_to_kill: 334\n",
      "ast_ctr: 42, l_count: 42, bearing: 183.814075, count: 0, removing: (22, 3), len(ss): 363, len(.neighbors): 403\n"
     ]
    },
    {
     "ename": "IndexError",
     "evalue": "list index out of range",
     "output_type": "error",
     "traceback": [
      "\u001b[0;31m---------------------------------------------------------------------------\u001b[0m",
      "\u001b[0;31mIndexError\u001b[0m                                Traceback (most recent call last)",
      "\u001b[0;32m<ipython-input-11-1ed41fa3cf12>\u001b[0m in \u001b[0;36m<module>\u001b[0;34m()\u001b[0m\n\u001b[1;32m     36\u001b[0m         \u001b[0;31m# remove the asteroid located at loc_to_kill from ss\u001b[0m\u001b[0;34m\u001b[0m\u001b[0;34m\u001b[0m\u001b[0m\n\u001b[1;32m     37\u001b[0m         \u001b[0midx_to_kill\u001b[0m \u001b[0;34m=\u001b[0m \u001b[0;34m[\u001b[0m\u001b[0mi\u001b[0m \u001b[0;32mfor\u001b[0m \u001b[0mi\u001b[0m\u001b[0;34m,\u001b[0m\u001b[0me\u001b[0m \u001b[0;32min\u001b[0m \u001b[0menumerate\u001b[0m\u001b[0;34m(\u001b[0m\u001b[0mss\u001b[0m\u001b[0;34m)\u001b[0m \u001b[0;32mif\u001b[0m \u001b[0me\u001b[0m\u001b[0;34m.\u001b[0m\u001b[0mloc\u001b[0m \u001b[0;34m==\u001b[0m \u001b[0mloc_to_kill\u001b[0m\u001b[0;34m]\u001b[0m\u001b[0;34m\u001b[0m\u001b[0m\n\u001b[0;32m---> 38\u001b[0;31m         \u001b[0mprint\u001b[0m\u001b[0;34m(\u001b[0m\u001b[0;34m\"idx_to_kill: {}\"\u001b[0m\u001b[0;34m.\u001b[0m\u001b[0mformat\u001b[0m\u001b[0;34m(\u001b[0m\u001b[0midx_to_kill\u001b[0m\u001b[0;34m[\u001b[0m\u001b[0;36m0\u001b[0m\u001b[0;34m]\u001b[0m\u001b[0;34m)\u001b[0m\u001b[0;34m)\u001b[0m\u001b[0;34m\u001b[0m\u001b[0m\n\u001b[0m\u001b[1;32m     39\u001b[0m         \u001b[0;32mdel\u001b[0m \u001b[0mss\u001b[0m\u001b[0;34m[\u001b[0m\u001b[0midx_to_kill\u001b[0m\u001b[0;34m[\u001b[0m\u001b[0;36m0\u001b[0m\u001b[0;34m]\u001b[0m\u001b[0;34m]\u001b[0m\u001b[0;34m\u001b[0m\u001b[0m\n\u001b[1;32m     40\u001b[0m         \u001b[0;31m# and from the .neighbors array\u001b[0m\u001b[0;34m\u001b[0m\u001b[0;34m\u001b[0m\u001b[0m\n",
      "\u001b[0;31mIndexError\u001b[0m: list index out of range"
     ]
    }
   ],
   "source": [
    "# determine which would be the k-th vaporization\n",
    "k = 200\n",
    "while(ast_ctr < k):\n",
    "    # find the unique set of bearings for all the current neighbors\n",
    "    o = set([j[1] for j in ss[a_index].neighbors])\n",
    "    # make a list of the set\n",
    "    l = list(o)\n",
    "    # and sort it\n",
    "    l.sort()\n",
    "\n",
    "    # do a revolution, with one entry per unique bearing\n",
    "    for m,r in enumerate(l):\n",
    "    #    print(r)\n",
    "        # get all the neighbors at this bearing\n",
    "        a = [j for j in ss[a_index].neighbors if j[1] == r]\n",
    "        # print(a)\n",
    "        # find the closest one\n",
    "        min = 999999\n",
    "        # go through all of them and find the closest\n",
    "        for i,b in enumerate(a):\n",
    "            # if this is the close one...\n",
    "            if(b[0] < min):\n",
    "                # reset min\n",
    "                min = b[0]\n",
    "                # remember the ss index and hash\n",
    "                loc_to_kill = b[2]\n",
    "                # ss_idx = b[2]\n",
    "                # ss_hash = b[3]\n",
    "                # and remember the index into the neighbors array\n",
    "                # n_idx = i\n",
    "        print(\"ast_ctr: {}, l_count: {}, bearing: {}, count: {}, removing: {}, len(ss): {}, len(.neighbors): {}\".format(ast_ctr, m, r, i, loc_to_kill, len(ss), len(ss[a_index].neighbors)))\n",
    "        # print(\"min dist: {}, ss_idx: {}, n_idx: {}\".format(min, ss_idx, n_idx))\n",
    "        # save off the location of the one to be removed for output later\n",
    "        # hash_to_kill = hash(ss[ss_idx])\n",
    "        # loc_of_interest = ss[ss_idx].loc\n",
    "        # remove the asteroid located at loc_to_kill from ss\n",
    "        idx_to_kill = [i for i,e in enumerate(ss) if e.loc == loc_to_kill]\n",
    "        print(\"idx_to_kill: {}\".format(idx_to_kill[0]))\n",
    "        del ss[idx_to_kill[0]]\n",
    "        # and from the .neighbors array\n",
    "        # get the index of the neighbor that has that ss_idx\n",
    "        nidx_to_kill = [i for i,e in enumerate(ss[a_index].neighbors) if e[2] == loc_to_kill]\n",
    "        print(\"nidx_to_kill: {}\".format(nidx_to_kill[0]))\n",
    "        # and remove it from the neighbors\n",
    "        del ss[a_index].neighbors[nidx_to_kill[0]]\n",
    "        # increment the asteroid kill counter\n",
    "        ast_ctr += 1"
   ]
  },
  {
   "cell_type": "code",
   "execution_count": null,
   "metadata": {},
   "outputs": [],
   "source": [
    "print(\"The {}th asteroid to be vaporized was located at {}\".format(ast_ctr, loc_of_interest))\n",
    "print(\"The number to submit is: {}\".format(loc_of_interest[0]*100 + loc_of_interest[1]))"
   ]
  }
 ],
 "metadata": {
  "kernelspec": {
   "display_name": "Python 3",
   "language": "python",
   "name": "python3"
  },
  "language_info": {
   "codemirror_mode": {
    "name": "ipython",
    "version": 3
   },
   "file_extension": ".py",
   "mimetype": "text/x-python",
   "name": "python",
   "nbconvert_exporter": "python",
   "pygments_lexer": "ipython3",
   "version": "3.6.4"
  }
 },
 "nbformat": 4,
 "nbformat_minor": 2
}
