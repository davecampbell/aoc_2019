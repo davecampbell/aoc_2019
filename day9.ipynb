{
 "cells": [
  {
   "cell_type": "code",
   "execution_count": 1,
   "metadata": {},
   "outputs": [],
   "source": [
    "# day9 - https://adventofcode.com/2019/day/9"
   ]
  },
  {
   "cell_type": "code",
   "execution_count": 2,
   "metadata": {},
   "outputs": [],
   "source": [
    "# this object is where the Intcode program lives and some useful methods\n",
    "# to fill it, clear it, read from it, write to it\n",
    "class Computer:\n",
    "    import logging\n",
    "    global set_trace\n",
    "    global inputs\n",
    "    global outputs\n",
    "    \n",
    "    def __init__(self, size, stage):\n",
    "        self.size = size  # must specify the memory size\n",
    "        self.stage = stage\n",
    "        self.storage = [None] * size  # initialize with None\n",
    "     \n",
    "    # dump out the contents between 2 positions (defaults all the memory)\n",
    "    def dump(self,start=0,end=-1):\n",
    "        if(end == -1):\n",
    "            end = self.size\n",
    "        for i in range(start, end):\n",
    "            print(\"{}: {}\".format(i,self.storage[i]))\n",
    "\n",
    "    # fill the memory with a sequence, starting at a certain position - which defaults to 0\n",
    "    def fill(self, codelist, start_pos = 0):\n",
    "        i = start_pos\n",
    "        for j in codelist:\n",
    "            self.storage[i] = j\n",
    "            i+=1\n",
    "    \n",
    "    # fill (write to) memory with a sequence, allowing direct or reference starting location\n",
    "    def mode_fill(self, s, mem_location, mode):\n",
    "        # mem_location: where to begin fill or to reference to begin\n",
    "        # mode (0 - position, 1 - immediate)\n",
    "        if(set_trace): import pdb; pdb.set_trace()\n",
    "        if(mode == '0'):\n",
    "            i = self.storage[mem_location]\n",
    "            for j in s:\n",
    "                self.storage[i] = j\n",
    "                i+=1\n",
    "        elif(mode == '1'):\n",
    "            i = mem_location\n",
    "            for j in s:\n",
    "                self.storage[i] = j\n",
    "                i+=1\n",
    "                \n",
    "    # get data from input_buffer for this stage\n",
    "    # if it has 2 values, then it hasn't read in the amp_setting\n",
    "    # that state will return the last value and remove it\n",
    "\n",
    "#     def getfrominput(self):\n",
    "#         if(len(inputs[self.stage].contents) > 1):\n",
    "#             # pop a value off and return it\n",
    "#             return(inputs[self.stage].contents.pop())\n",
    "#         else:\n",
    "#             # return just that last value but leave it\n",
    "#             return(inputs[self.stage].contents[0])\n",
    "\n",
    "    # get data from single input buffer\n",
    "    def getfrominput(self):\n",
    "        return(inputs)\n",
    "\n",
    "    # put data to output_buffer for this stage (which is next stage's input)\n",
    "    # put this output value into position [0] of that buffer (position [1] will have possible amp_setting)\n",
    "#     def puttooutput(self, val):\n",
    "#         logging.info(\"outputting: {} to stage: {}\".format(val, next_stage(self.stage,5)))\n",
    "#         inputs[next_stage(self.stage,5)].contents[0] = val\n",
    "#         return\n",
    "\n",
    "    # output to single output buffer\n",
    "    def puttooutput(self, val):\n",
    "        outputs = val\n",
    "        return\n",
    "\n",
    "    # read the contents from just one position\n",
    "    def read(self, pos):\n",
    "        return self.storage[pos]\n",
    "   \n",
    "    # return the value based on parameter mode (position or immediate)\n",
    "    def mode_read(self, pos, mode):\n",
    "        if(set_trace): import pdb; pdb.set_trace()\n",
    "        # mode: 0 - position, 1 - immediate\n",
    "        if(mode == '0'):\n",
    "            return int(self.storage[self.storage[pos]])\n",
    "        elif(mode == '1'):\n",
    "            return int(self.storage[pos])\n",
    "\n",
    "    # clear the memory\n",
    "    def clear(self):\n",
    "        self.storage = [None] * self.size\n",
    "\n",
    "    # this function will execute a single sequence (operator + subsequent operands and output location)\n",
    "    def exec_seq(self, ctr):\n",
    "        global set_trace\n",
    "        # these string representations of opcodes are used in logging\n",
    "        opcodes = {\"99\":\"STOP\",\"01\":\"ADD\",\"02\":\"MULTIPLY\",\"03\":\"INPUT\",\"04\":\"OUTPUT\",\"05\":\"JUMP-TRUE\",\"06\":\"JUMP-FALSE\",\"07\":\"LESS-THAN\",\"08\":\"EQUALS-TO\"}\n",
    "        # ctr - where to start\n",
    "        # m - the memory object to work from\n",
    "        # the first in the sequence is the 'enhnanced opcode' (includes 3 parameter modes in most significant position)\n",
    "        # zero-pad to 5 - most significant 0 is implied\n",
    "        enhanced_opcode = str(self.read(ctr)).zfill(5)\n",
    "        # first 3 characters are the parameter modes\n",
    "        pmodes = enhanced_opcode[:3]\n",
    "        # last 2 characters are the opcode\n",
    "        opcode = enhanced_opcode[3:]\n",
    "        if(set_trace): import pdb; pdb.set_trace()\n",
    "        # if it is 99, we're done\n",
    "        if(opcode == '99'):\n",
    "            prog_status[self.stage] = \"STOP\"\n",
    "            logging.info(\"opcode: {} - {}\".format(opcode, opcodes[opcode]))\n",
    "            return(\"STOP\")\n",
    "        # this is the \"add\" operator\n",
    "        elif(opcode == \"01\"):\n",
    "            if(set_trace): import pdb; pdb.set_trace()\n",
    "            operand1 = self.mode_read(ctr+1, pmodes[2])\n",
    "            operand2 = self.mode_read(ctr+2, pmodes[1])\n",
    "            if(set_trace): import pdb; pdb.set_trace()\n",
    "            calcval = operand1 + operand2\n",
    "        # this is the \"multiply\" operator\n",
    "        elif(opcode == \"02\"):\n",
    "            if(set_trace): import pdb; pdb.set_trace()\n",
    "            operand1 = self.mode_read(ctr+1, pmodes[2])\n",
    "            operand2 = self.mode_read(ctr+2, pmodes[1])\n",
    "            calcval = operand1 * operand2\n",
    "        # this is the 'store from input' operator\n",
    "        elif(opcode == \"03\"):\n",
    "            if(set_trace): import pdb; pdb.set_trace()\n",
    "            # get the input\n",
    "            # val = getfrominput()\n",
    "            # the input buffer is the one for this amp stage\n",
    "            val = self.getfrominput()\n",
    "            # store it in address provided by next code\n",
    "            self.mode_fill([val], ctr+1, pmodes[2])\n",
    "            # return next prog counter\n",
    "            logging.info(\"opcode: {}-{}, pmodes: {}, from-input: {}, @ctr+1: {}, ctr in: {}, returning: {}\".format(opcode,opcodes[opcode],pmodes,val,self.read(ctr+1),ctr,ctr+2))\n",
    "            return(ctr+2)\n",
    "        # this is the 'send to output' operator\n",
    "        elif(opcode == \"04\"):\n",
    "            if(set_trace): import pdb; pdb.set_trace()\n",
    "            # read the val (based on mode) specified from next code and send to output\n",
    "            self.puttooutput(self.mode_read(ctr+1, pmodes[2]))\n",
    "            prog_status[self.stage] = \"OUTPUT\"\n",
    "            logging.info(\"opcode: {}-{}, pmodes: {}, @ctr+1: {}, ctr in: {}, returning: {}\".format(opcode, opcodes[opcode],pmodes,self.read(ctr+1),ctr,ctr+2))\n",
    "            return(ctr+2)\n",
    "        # this is 'jump if true'\n",
    "        elif(opcode == \"05\"):\n",
    "            val_to_test = self.mode_read(ctr+1, pmodes[2])\n",
    "            if(val_to_test):\n",
    "                ret_ctr = self.mode_read(ctr+2, pmodes[1])\n",
    "            else:\n",
    "                ret_ctr = ctr+3\n",
    "            logging.info(\"opcode: {}-{}, pmodes: {}, ctr+1: {}, val_to_test: {}, ctr+2: {}, ctr+3: {}, ctr in: {}, returning: {}\".format(opcode, opcodes[opcode],pmodes,self.read(ctr+1),val_to_test, self.read(ctr+2), self.read(ctr+3), ctr, ret_ctr))\n",
    "            return(ret_ctr)\n",
    "        # this is 'jump if false'\n",
    "        elif(opcode == \"06\"):\n",
    "            val_to_test = self.mode_read(ctr+1, pmodes[2])\n",
    "            if(val_to_test):\n",
    "                ret_ctr = ctr+3\n",
    "            else:\n",
    "                ret_ctr = self.mode_read(ctr+2, pmodes[1])\n",
    "            logging.info(\"opcode: {}-{}, pmodes: {}, ctr+1: {}, val_to_test: {}, ctr+2: {}, ctr+3: {}, ctr in: {}, returning: {}\".format(opcode, opcodes[opcode],pmodes,self.read(ctr+1),val_to_test, self.read(ctr+2), self.read(ctr+3), ctr, ret_ctr))\n",
    "            return(ret_ctr)\n",
    "        # this is 'less than' operator\n",
    "        elif(opcode == \"07\"):\n",
    "            operand1 = self.mode_read(ctr+1, pmodes[2])\n",
    "            operand2 = self.mode_read(ctr+2, pmodes[1])\n",
    "            if(operand1 < operand2):\n",
    "                calcval = 1\n",
    "            else:\n",
    "                calcval = 0\n",
    "        # this is the 'equals to' operator\n",
    "        elif(opcode == \"08\"):\n",
    "            operand1 = self.mode_read(ctr+1, pmodes[2])\n",
    "            operand2 = self.mode_read(ctr+2, pmodes[1])\n",
    "            if(operand1 == operand2):\n",
    "                calcval = 1\n",
    "            else:\n",
    "                calcval = 0\n",
    "        # if here, then the opcode is not known\n",
    "        else:\n",
    "            prog_status[self.stage] = \"BADOPCODE\"\n",
    "            logging.info(\"opcode: {}-{}\".format(opcode,opcodes[opcode]))\n",
    "            return(\"BADOPCODE\")\n",
    "        # fill the output destination with value depending on mode\n",
    "        if(set_trace): import pdb; pdb.set_trace()\n",
    "        self.mode_fill([calcval], ctr+3, pmodes[0])\n",
    "        logging.info(\"opcode: {}-{}, pmodes: {}, ctr+1: {}, op1: {}, ctr+2: {}, op2: {}, calcval: {}, ctr+3: {}, ctr in: {}, returning: {}\".format(opcode, opcodes[opcode],pmodes,self.read(ctr+1),operand1,self.read(ctr+2),operand2,calcval,self.read(ctr+3),ctr,ctr+4))\n",
    "        # and return the next postion in the memory\n",
    "        return(ctr+4)"
   ]
  },
  {
   "cell_type": "code",
   "execution_count": 3,
   "metadata": {},
   "outputs": [],
   "source": [
    "# this is used for logging\n",
    "import time\n",
    "year, month, day, hour, minute = time.strftime(\"%Y %m %d %H %M\").split()\n",
    "# log file name\n",
    "lfn = \"day9-{}{}{}{}{}.log\".format(year,month,day,hour,minute)\n",
    "# set up the logging\n",
    "import logging\n",
    "logging.basicConfig(filename=lfn, level=logging.INFO)\n",
    "logging.info(\"here we go....\")"
   ]
  },
  {
   "cell_type": "code",
   "execution_count": 11,
   "metadata": {},
   "outputs": [],
   "source": [
    "inputs = None\n",
    "outputs = 66\n",
    "prog_status = [None] * 1"
   ]
  },
  {
   "cell_type": "code",
   "execution_count": 12,
   "metadata": {},
   "outputs": [],
   "source": [
    "seq = [3,15,3,16,1002,16,10,16,1,16,15,15,4,15,99,0,0]\n",
    "inputs = 0\n",
    "prog_ctr = 0\n",
    "set_trace = False\n",
    "set_trace_main = False"
   ]
  },
  {
   "cell_type": "code",
   "execution_count": 13,
   "metadata": {},
   "outputs": [],
   "source": [
    "comp = Computer(len(seq), 0)"
   ]
  },
  {
   "cell_type": "code",
   "execution_count": 14,
   "metadata": {},
   "outputs": [],
   "source": [
    "comp.fill(seq)"
   ]
  },
  {
   "cell_type": "code",
   "execution_count": 15,
   "metadata": {
    "scrolled": true
   },
   "outputs": [
    {
     "name": "stdout",
     "output_type": "stream",
     "text": [
      "66\n"
     ]
    }
   ],
   "source": [
    "while(prog_ctr != \"STOP\"):\n",
    "    if(set_trace_main): import pdb; pdb.set_trace()\n",
    "    prog_ctr = comp.exec_seq(prog_ctr)\n",
    "\n",
    "print(outputs)"
   ]
  },
  {
   "cell_type": "code",
   "execution_count": 9,
   "metadata": {},
   "outputs": [
    {
     "name": "stdout",
     "output_type": "stream",
     "text": [
      "STOP\n"
     ]
    }
   ],
   "source": [
    "print(prog_status[0])"
   ]
  },
  {
   "cell_type": "code",
   "execution_count": 10,
   "metadata": {},
   "outputs": [
    {
     "ename": "IndexError",
     "evalue": "list index out of range",
     "output_type": "error",
     "traceback": [
      "\u001b[0;31m---------------------------------------------------------------------------\u001b[0m",
      "\u001b[0;31mIndexError\u001b[0m                                Traceback (most recent call last)",
      "\u001b[0;32m<ipython-input-10-c4331980d5a5>\u001b[0m in \u001b[0;36m<module>\u001b[0;34m()\u001b[0m\n\u001b[0;32m----> 1\u001b[0;31m \u001b[0mprint\u001b[0m\u001b[0;34m(\u001b[0m\u001b[0mcomp\u001b[0m\u001b[0;34m.\u001b[0m\u001b[0mstorage\u001b[0m\u001b[0;34m[\u001b[0m\u001b[0;36m17\u001b[0m\u001b[0;34m]\u001b[0m\u001b[0;34m)\u001b[0m\u001b[0;34m\u001b[0m\u001b[0m\n\u001b[0m",
      "\u001b[0;31mIndexError\u001b[0m: list index out of range"
     ]
    }
   ],
   "source": [
    "print(comp.storage[17])"
   ]
  },
  {
   "cell_type": "code",
   "execution_count": null,
   "metadata": {},
   "outputs": [],
   "source": []
  }
 ],
 "metadata": {
  "kernelspec": {
   "display_name": "Python 3",
   "language": "python",
   "name": "python3"
  },
  "language_info": {
   "codemirror_mode": {
    "name": "ipython",
    "version": 3
   },
   "file_extension": ".py",
   "mimetype": "text/x-python",
   "name": "python",
   "nbconvert_exporter": "python",
   "pygments_lexer": "ipython3",
   "version": "3.6.4"
  }
 },
 "nbformat": 4,
 "nbformat_minor": 2
}
