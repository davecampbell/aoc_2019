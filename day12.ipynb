{
 "cells": [
  {
   "cell_type": "code",
   "execution_count": 1,
   "metadata": {},
   "outputs": [],
   "source": [
    "# AOC Day 12 - https://adventofcode.com/2019/day/12"
   ]
  },
  {
   "cell_type": "code",
   "execution_count": 2,
   "metadata": {},
   "outputs": [],
   "source": [
    "class Moon:\n",
    "    def __init__(self, x, y, z, vx=0, vy=0, vz=0, name=None):\n",
    "        self.pos = [x, y, z]\n",
    "        self.vel = [vx, vy, vz]\n",
    "        self.name = name\n",
    "        self.velprime = [0,0,0]\n",
    "        return"
   ]
  },
  {
   "cell_type": "code",
   "execution_count": 3,
   "metadata": {},
   "outputs": [],
   "source": [
    "# this is a function that isn't built-in to python anymore\n",
    "# returns -1, 0, or 1 depending on relative value of a,b\n",
    "def cmp(a, b):\n",
    "    return (a > b) - (a < b)"
   ]
  },
  {
   "cell_type": "code",
   "execution_count": 4,
   "metadata": {},
   "outputs": [],
   "source": [
    "class MoonSystem:\n",
    "    def __init__(self):\n",
    "        self.moons = []\n",
    "        self.energy = 0\n",
    "        return\n",
    "    def add_moon(self,x,y,z,vx,vy,vz,name):\n",
    "        self.moons.append(Moon(x,y,z,vx,vy,vz,name))\n",
    "        return\n",
    "    def step(self):\n",
    "        import itertools\n",
    "        # update the velocity from the current positions\n",
    "        for m,n in itertools.combinations(self.moons, 2):\n",
    "            m.vel[0] += cmp(n.pos[0] - m.pos[0], 0)\n",
    "            n.vel[0] += cmp(m.pos[0] - n.pos[0], 0)\n",
    "            m.vel[1] += cmp(n.pos[1] - m.pos[1], 0)\n",
    "            n.vel[1] += cmp(m.pos[1] - n.pos[1], 0)\n",
    "            m.vel[2] += cmp(n.pos[2] - m.pos[2], 0)\n",
    "            n.vel[2] += cmp(m.pos[2] - n.pos[2], 0)\n",
    "        # now update the positions from the updated velocities\n",
    "        for m in self.moons:\n",
    "            m.pos[0] += m.vel[0]\n",
    "            m.pos[1] += m.vel[1]\n",
    "            m.pos[2] += m.vel[2]\n",
    "        return\n",
    "    def show(self):\n",
    "        # print(\"{} moons.\".format(len(self.moons)))\n",
    "        for m in self.moons:\n",
    "            print(\"{}: p: {}  v: {}\".format(m.name, m.pos, m.vel))\n",
    "        return\n",
    "    def calc_energy(self):\n",
    "        e = 0\n",
    "        for m in self.moons:\n",
    "            e += sum([abs(x) for x in m.pos]) * sum([abs(x) for x in m.vel])\n",
    "        self.energy = e\n",
    "        return(e)"
   ]
  },
  {
   "cell_type": "code",
   "execution_count": 5,
   "metadata": {},
   "outputs": [],
   "source": [
    "# this is the whole system of moons\n",
    "ms = MoonSystem()"
   ]
  },
  {
   "cell_type": "code",
   "execution_count": 6,
   "metadata": {},
   "outputs": [],
   "source": [
    "# add each moon with initial positions, initial velocity, and a name\n",
    "ms.add_moon(x=-0, y=6, z=1, vx=0, vy=0, vz=0, name='io')\n",
    "ms.add_moon(x=4, y=4, z=19, vx=0, vy=0, vz=0, name='europa')\n",
    "ms.add_moon(x=-11, y=1, z=8, vx=0, vy=0, vz=0, name='ganymede')\n",
    "ms.add_moon(x=2, y=19, z=15, vx=0, vy=0, vz=0, name='callisto')"
   ]
  },
  {
   "cell_type": "code",
   "execution_count": 7,
   "metadata": {},
   "outputs": [
    {
     "name": "stdout",
     "output_type": "stream",
     "text": [
      "initial state:\n",
      "io: p: [0, 6, 1]  v: [0, 0, 0]\n",
      "europa: p: [4, 4, 19]  v: [0, 0, 0]\n",
      "ganymede: p: [-11, 1, 8]  v: [0, 0, 0]\n",
      "callisto: p: [2, 19, 15]  v: [0, 0, 0]\n",
      "final state:\n",
      "io: p: [-14, 65, 138]  v: [8, 17, 19]\n",
      "europa: p: [-62, -47, -24]  v: [-9, -2, 2]\n",
      "ganymede: p: [-8, -11, -57]  v: [1, 0, -18]\n",
      "callisto: p: [79, 23, -14]  v: [0, -15, -3]\n",
      "energy in final state: 14809\n"
     ]
    }
   ],
   "source": [
    "print(\"initial state:\")\n",
    "ms.show()\n",
    "\n",
    "for i in range(1000):\n",
    "    # print(\"step: {}\".format(i))\n",
    "    ms.step()\n",
    "    e = ms.calc_energy()\n",
    "    # ms.show()\n",
    "\n",
    "print(\"final state:\")\n",
    "ms.show()\n",
    "print(\"energy in final state: {}\".format(e))"
   ]
  },
  {
   "cell_type": "code",
   "execution_count": null,
   "metadata": {},
   "outputs": [],
   "source": []
  }
 ],
 "metadata": {
  "kernelspec": {
   "display_name": "Python 3",
   "language": "python",
   "name": "python3"
  },
  "language_info": {
   "codemirror_mode": {
    "name": "ipython",
    "version": 3
   },
   "file_extension": ".py",
   "mimetype": "text/x-python",
   "name": "python",
   "nbconvert_exporter": "python",
   "pygments_lexer": "ipython3",
   "version": "3.6.4"
  }
 },
 "nbformat": 4,
 "nbformat_minor": 2
}
