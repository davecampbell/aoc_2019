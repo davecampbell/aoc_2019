{
 "cells": [
  {
   "cell_type": "code",
   "execution_count": 1,
   "metadata": {},
   "outputs": [],
   "source": [
    "# AOC Day 12 - https://adventofcode.com/2019/day/12"
   ]
  },
  {
   "cell_type": "code",
   "execution_count": 2,
   "metadata": {},
   "outputs": [],
   "source": [
    "class Moon:\n",
    "    def __init__(self, x, y, z, vx=0, vy=0, vz=0, name=None):\n",
    "        self.pos = [x, y, z]\n",
    "        self.vel = [vx, vy, vz]\n",
    "        self.name = name\n",
    "        self.velprime = [0,0,0]"
   ]
  },
  {
   "cell_type": "code",
   "execution_count": 3,
   "metadata": {},
   "outputs": [],
   "source": [
    "# this is a function that isn't built-in to python anymore\n",
    "# returns -1, 0, or 1 depending on relative value of a,b\n",
    "def cmp(a, b):\n",
    "    return (a > b) - (a < b)"
   ]
  },
  {
   "cell_type": "code",
   "execution_count": 4,
   "metadata": {},
   "outputs": [],
   "source": [
    "class MoonSystem:\n",
    "    def __init__(self):\n",
    "        self.moons = []\n",
    "        return\n",
    "    def add_moon(self,x,y,z,vx,vy,vz,name):\n",
    "        self.moons.append(Moon(x,y,z,vx,vy,vz,name))\n",
    "        return\n",
    "    def step(self):\n",
    "        import itertools\n",
    "        # update the velocity from the current positions\n",
    "        for m,n in itertools.combinations(self.moons, 2):\n",
    "            m.vel[0] += cmp(m.pos[0] - n.pos[0], 0)\n",
    "            n.vel[0] += cmp(n.pos[0] - m.pos[0], 0)\n",
    "            m.vel[1] += cmp(m.pos[1] - n.pos[1], 0)\n",
    "            n.vel[1] += cmp(n.pos[1] - m.pos[1], 0)\n",
    "            m.vel[2] += cmp(m.pos[2] - n.pos[2], 0)\n",
    "            n.vel[2] += cmp(n.pos[2] - m.pos[2], 0)\n",
    "        # now update the positions from the updated velocities\n",
    "        for m,n in itertools.combinations(self.moons, 2):\n",
    "            m.pos[0] += m.vel[0]\n",
    "            m.pos[1] += m.vel[1]\n",
    "            m.pos[2] += m.vel[2]\n",
    "            n.pos[0] += n.vel[0]\n",
    "            n.pos[1] += n.vel[1]\n",
    "            n.pos[2] += n.vel[2]\n",
    "        return\n",
    "    def show(self):\n",
    "        for m in self.moons:\n",
    "            print(\"{}: p: {}  v: {}\".format(m.name, m.pos, m.vel))\n",
    "            return\n",
    "            "
   ]
  },
  {
   "cell_type": "code",
   "execution_count": 5,
   "metadata": {},
   "outputs": [],
   "source": [
    "# this is the whole system of moons\n",
    "ms = MoonSystem()"
   ]
  },
  {
   "cell_type": "code",
   "execution_count": 6,
   "metadata": {},
   "outputs": [],
   "source": [
    "# add each moon with initial positions, initial velocity, and a name\n",
    "ms.add_moon(x=-1, y=0, z=2, vx=0, vy=0, vz=0, name='io')\n",
    "ms.add_moon(x=2, y=-10, z=-7, vx=0, vy=0, vz=0, name='europa')\n",
    "ms.add_moon(x=4, y=-8, z=8, vx=0, vy=0, vz=0, name='ganymede')\n",
    "ms.add_moon(x=3, y=5, z=-1, vx=0, vy=0, vz=0, name='callisto')"
   ]
  },
  {
   "cell_type": "code",
   "execution_count": 7,
   "metadata": {},
   "outputs": [
    {
     "name": "stdout",
     "output_type": "stream",
     "text": [
      "step: 0\n",
      "io: p: [-10, 3, 5]  v: [-3, 1, 1]\n",
      "step: 1\n",
      "io: p: [-28, 9, 11]  v: [-6, 2, 2]\n",
      "step: 2\n",
      "io: p: [-55, 18, 20]  v: [-9, 3, 3]\n",
      "step: 3\n",
      "io: p: [-91, 30, 32]  v: [-12, 4, 4]\n",
      "step: 4\n",
      "io: p: [-136, 45, 47]  v: [-15, 5, 5]\n",
      "step: 5\n",
      "io: p: [-190, 63, 65]  v: [-18, 6, 6]\n",
      "step: 6\n",
      "io: p: [-253, 84, 86]  v: [-21, 7, 7]\n",
      "step: 7\n",
      "io: p: [-325, 108, 110]  v: [-24, 8, 8]\n",
      "step: 8\n",
      "io: p: [-406, 135, 137]  v: [-27, 9, 9]\n",
      "step: 9\n",
      "io: p: [-496, 165, 167]  v: [-30, 10, 10]\n"
     ]
    }
   ],
   "source": [
    "for i in range(10):\n",
    "    print(\"step: {}\".format(i))\n",
    "    ms.step()\n",
    "    ms.show()"
   ]
  },
  {
   "cell_type": "code",
   "execution_count": null,
   "metadata": {},
   "outputs": [],
   "source": [
    "print(\"moon 2: {}\".format(ms.moons[2].pos))"
   ]
  },
  {
   "cell_type": "code",
   "execution_count": null,
   "metadata": {},
   "outputs": [],
   "source": []
  }
 ],
 "metadata": {
  "kernelspec": {
   "display_name": "Python 3",
   "language": "python",
   "name": "python3"
  },
  "language_info": {
   "codemirror_mode": {
    "name": "ipython",
    "version": 3
   },
   "file_extension": ".py",
   "mimetype": "text/x-python",
   "name": "python",
   "nbconvert_exporter": "python",
   "pygments_lexer": "ipython3",
   "version": "3.6.4"
  }
 },
 "nbformat": 4,
 "nbformat_minor": 2
}
