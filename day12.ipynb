{
 "cells": [
  {
   "cell_type": "code",
   "execution_count": 1,
   "metadata": {},
   "outputs": [],
   "source": [
    "# AOC Day 12 - https://adventofcode.com/2019/day/12"
   ]
  },
  {
   "cell_type": "code",
   "execution_count": 2,
   "metadata": {},
   "outputs": [],
   "source": [
    "class Moon:\n",
    "    def __init__(self, x, y, z, vx=0, vy=0, vz=0, name=None):\n",
    "        self.pos = [x, y, z]\n",
    "        self.vel = [vx, vy, vz]\n",
    "        self.name = name\n",
    "        self.velprime = [0,0,0]"
   ]
  },
  {
   "cell_type": "code",
   "execution_count": 3,
   "metadata": {},
   "outputs": [],
   "source": [
    "# this is a function that isn't built-in to python anymore\n",
    "# returns -1, 0, or 1 depending on relative value of a,b\n",
    "def cmp(a, b):\n",
    "    return (a > b) - (a < b)"
   ]
  },
  {
   "cell_type": "code",
   "execution_count": 4,
   "metadata": {},
   "outputs": [],
   "source": [
    "class MoonSystem:\n",
    "    def __init__(self):\n",
    "        self.moons = []\n",
    "        return\n",
    "    def add_moon(self,x,y,z,vx,vy,vz,name):\n",
    "        self.moons.append(Moon(x,y,z,vx,vy,vz,name))\n",
    "        return\n",
    "    def step(self):\n",
    "        import itertools\n",
    "        # update the velocity from the current positions\n",
    "        for m,n in itertools.combinations(self.moons, 2):\n",
    "            m.vel[0] += cmp(n.pos[0] - m.pos[0], 0)\n",
    "            n.vel[0] += cmp(m.pos[0] - n.pos[0], 0)\n",
    "            m.vel[1] += cmp(n.pos[1] - m.pos[1], 0)\n",
    "            n.vel[1] += cmp(m.pos[1] - n.pos[1], 0)\n",
    "            m.vel[2] += cmp(n.pos[2] - m.pos[2], 0)\n",
    "            n.vel[2] += cmp(m.pos[2] - n.pos[2], 0)\n",
    "        # now update the positions from the updated velocities\n",
    "        for m in self.moons:\n",
    "            m.pos[0] += m.vel[0]\n",
    "            m.pos[1] += m.vel[1]\n",
    "            m.pos[2] += m.vel[2]\n",
    "        return\n",
    "    def show(self):\n",
    "        # print(\"{} moons.\".format(len(self.moons)))\n",
    "        for m in self.moons:\n",
    "            print(\"{}: p: {}  v: {}\".format(m.name, m.pos, m.vel))\n",
    "        return\n",
    "            "
   ]
  },
  {
   "cell_type": "code",
   "execution_count": 5,
   "metadata": {},
   "outputs": [],
   "source": [
    "# this is the whole system of moons\n",
    "ms = MoonSystem()"
   ]
  },
  {
   "cell_type": "code",
   "execution_count": 6,
   "metadata": {},
   "outputs": [],
   "source": [
    "# add each moon with initial positions, initial velocity, and a name\n",
    "ms.add_moon(x=-1, y=0, z=2, vx=0, vy=0, vz=0, name='io')\n",
    "ms.add_moon(x=2, y=-10, z=-7, vx=0, vy=0, vz=0, name='europa')\n",
    "ms.add_moon(x=4, y=-8, z=8, vx=0, vy=0, vz=0, name='ganymede')\n",
    "ms.add_moon(x=3, y=5, z=-1, vx=0, vy=0, vz=0, name='callisto')"
   ]
  },
  {
   "cell_type": "code",
   "execution_count": 7,
   "metadata": {},
   "outputs": [
    {
     "name": "stdout",
     "output_type": "stream",
     "text": [
      "io: p: [-1, 0, 2]  v: [0, 0, 0]\n",
      "europa: p: [2, -10, -7]  v: [0, 0, 0]\n",
      "ganymede: p: [4, -8, 8]  v: [0, 0, 0]\n",
      "callisto: p: [3, 5, -1]  v: [0, 0, 0]\n",
      "step: 0\n",
      "io: p: [2, -1, 1]  v: [3, -1, -1]\n",
      "europa: p: [3, -7, -4]  v: [1, 3, 3]\n",
      "ganymede: p: [1, -7, 5]  v: [-3, 1, -3]\n",
      "callisto: p: [2, 2, 0]  v: [-1, -3, 1]\n",
      "step: 1\n",
      "io: p: [5, -3, -1]  v: [3, -2, -2]\n",
      "europa: p: [1, -2, 2]  v: [-2, 5, 6]\n",
      "ganymede: p: [1, -4, -1]  v: [0, 3, -6]\n",
      "callisto: p: [1, -4, 2]  v: [-1, -6, 2]\n",
      "step: 2\n",
      "io: p: [5, -6, -1]  v: [0, -3, 0]\n",
      "europa: p: [0, 0, 6]  v: [-1, 2, 4]\n",
      "ganymede: p: [2, 1, -5]  v: [1, 5, -4]\n",
      "callisto: p: [1, -8, 2]  v: [0, -4, 0]\n",
      "step: 3\n",
      "io: p: [2, -8, 0]  v: [-3, -2, 1]\n",
      "europa: p: [2, 1, 7]  v: [2, 1, 1]\n",
      "ganymede: p: [2, 3, -6]  v: [0, 2, -1]\n",
      "callisto: p: [2, -9, 1]  v: [1, -1, -1]\n",
      "step: 4\n",
      "io: p: [-1, -9, 2]  v: [-3, -1, 2]\n",
      "europa: p: [4, 1, 5]  v: [2, 0, -2]\n",
      "ganymede: p: [2, 2, -4]  v: [0, -1, 2]\n",
      "callisto: p: [3, -7, -1]  v: [1, 2, -2]\n",
      "step: 5\n",
      "io: p: [-1, -7, 3]  v: [0, 2, 1]\n",
      "europa: p: [3, 0, 0]  v: [-1, -1, -5]\n",
      "ganymede: p: [3, -2, 1]  v: [1, -4, 5]\n",
      "callisto: p: [3, -4, -2]  v: [0, 3, -1]\n",
      "step: 6\n",
      "io: p: [2, -2, 1]  v: [3, 5, -2]\n",
      "europa: p: [1, -4, -4]  v: [-2, -4, -4]\n",
      "ganymede: p: [3, -7, 5]  v: [0, -5, 4]\n",
      "callisto: p: [2, 0, 0]  v: [-1, 4, 2]\n",
      "step: 7\n",
      "io: p: [5, 2, -2]  v: [3, 4, -3]\n",
      "europa: p: [2, -7, -5]  v: [1, -3, -1]\n",
      "ganymede: p: [0, -9, 6]  v: [-3, -2, 1]\n",
      "callisto: p: [1, 1, 3]  v: [-1, 1, 3]\n",
      "step: 8\n",
      "io: p: [5, 3, -4]  v: [0, 1, -2]\n",
      "europa: p: [2, -9, -3]  v: [0, -2, 2]\n",
      "ganymede: p: [0, -8, 4]  v: [0, 1, -2]\n",
      "callisto: p: [1, 1, 5]  v: [0, 0, 2]\n",
      "step: 9\n",
      "io: p: [2, 1, -3]  v: [-3, -2, 1]\n",
      "europa: p: [1, -8, 0]  v: [-1, 1, 3]\n",
      "ganymede: p: [3, -6, 1]  v: [3, 2, -3]\n",
      "callisto: p: [2, 0, 4]  v: [1, -1, -1]\n"
     ]
    }
   ],
   "source": [
    "ms.show()\n",
    "for i in range(10):\n",
    "    print(\"step: {}\".format(i))\n",
    "    ms.step()\n",
    "    ms.show()"
   ]
  },
  {
   "cell_type": "code",
   "execution_count": null,
   "metadata": {},
   "outputs": [],
   "source": []
  }
 ],
 "metadata": {
  "kernelspec": {
   "display_name": "Python 3",
   "language": "python",
   "name": "python3"
  },
  "language_info": {
   "codemirror_mode": {
    "name": "ipython",
    "version": 3
   },
   "file_extension": ".py",
   "mimetype": "text/x-python",
   "name": "python",
   "nbconvert_exporter": "python",
   "pygments_lexer": "ipython3",
   "version": "3.6.4"
  }
 },
 "nbformat": 4,
 "nbformat_minor": 2
}
