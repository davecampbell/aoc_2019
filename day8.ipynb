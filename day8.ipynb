{
 "cells": [
  {
   "cell_type": "code",
   "execution_count": 1,
   "metadata": {},
   "outputs": [],
   "source": [
    "# Day8 - https://adventofcode.com/2019/day/8\n"
   ]
  },
  {
   "cell_type": "code",
   "execution_count": 2,
   "metadata": {},
   "outputs": [],
   "source": [
    "class Pixel:\n",
    "    def __init__(self, layers):\n",
    "        self.vals = [None for _ in range(layers)]"
   ]
  },
  {
   "cell_type": "code",
   "execution_count": 3,
   "metadata": {},
   "outputs": [],
   "source": [
    "class Image:\n",
    "    def __init__(self, size, layers):\n",
    "        self.pixels = [Pixel(layers) for _ in range(size)]\n",
    "        self.layers = layers\n",
    "        self.size = size\n",
    "        return\n",
    "    def fill_from_dsn(self, stream):\n",
    "        for i in range(self.layers):\n",
    "            for j in range(self.size):\n",
    "                self.pixels[j].vals[i] = int(stream[i*self.size + j])\n",
    "        return"
   ]
  },
  {
   "cell_type": "code",
   "execution_count": 4,
   "metadata": {},
   "outputs": [],
   "source": [
    "# open the input file, read from it and store in a string\n",
    "ifn = \"day8-input.txt\"\n",
    "d = open(ifn)\n",
    "s = d.read()\n",
    "datalength = len(s)"
   ]
  },
  {
   "cell_type": "code",
   "execution_count": 5,
   "metadata": {},
   "outputs": [],
   "source": [
    "# the given dimensions of the image\n",
    "img_width = 25\n",
    "img_height = 6\n",
    "img_size = int(img_height * img_width)\n",
    "layers = int(datalength / img_size)"
   ]
  },
  {
   "cell_type": "code",
   "execution_count": 6,
   "metadata": {},
   "outputs": [],
   "source": [
    "# instantiate the image object\n",
    "image = Image(img_size, layers)"
   ]
  },
  {
   "cell_type": "code",
   "execution_count": 7,
   "metadata": {},
   "outputs": [],
   "source": [
    "# fill it from the input stream\n",
    "image.fill_from_dsn(s)"
   ]
  },
  {
   "cell_type": "code",
   "execution_count": 8,
   "metadata": {},
   "outputs": [
    {
     "data": {
      "text/plain": [
       "124"
      ]
     },
     "execution_count": 8,
     "metadata": {},
     "output_type": "execute_result"
    }
   ],
   "source": [
    "[i.vals[0] for i in image.pixels[:]].count(2)"
   ]
  },
  {
   "cell_type": "code",
   "execution_count": 9,
   "metadata": {},
   "outputs": [],
   "source": [
    "# find the layer with the least # of 0s\n",
    "min = 9999\n",
    "for i in range(layers):\n",
    "    cnt = [l.vals[i] for l in image.pixels[:]].count(0)\n",
    "    if(cnt < min):\n",
    "        min = cnt\n",
    "        low0layer = i"
   ]
  },
  {
   "cell_type": "code",
   "execution_count": 10,
   "metadata": {},
   "outputs": [
    {
     "data": {
      "text/plain": [
       "51"
      ]
     },
     "execution_count": 10,
     "metadata": {},
     "output_type": "execute_result"
    }
   ],
   "source": [
    "cnt"
   ]
  },
  {
   "cell_type": "code",
   "execution_count": 11,
   "metadata": {},
   "outputs": [
    {
     "data": {
      "text/plain": [
       "18"
      ]
     },
     "execution_count": 11,
     "metadata": {},
     "output_type": "execute_result"
    }
   ],
   "source": [
    "low0layer"
   ]
  },
  {
   "cell_type": "code",
   "execution_count": 12,
   "metadata": {},
   "outputs": [
    {
     "data": {
      "text/plain": [
       "19"
      ]
     },
     "execution_count": 12,
     "metadata": {},
     "output_type": "execute_result"
    }
   ],
   "source": [
    "# how many 1s in that layer?\n",
    "cnt1s = [l.vals[low0layer] for l in image.pixels[:]].count(1)\n",
    "cnt1s"
   ]
  },
  {
   "cell_type": "code",
   "execution_count": 13,
   "metadata": {},
   "outputs": [
    {
     "data": {
      "text/plain": [
       "125"
      ]
     },
     "execution_count": 13,
     "metadata": {},
     "output_type": "execute_result"
    }
   ],
   "source": [
    "# how many 2s in that layer?\n",
    "cnt2s = [l.vals[low0layer] for l in image.pixels[:]].count(2)\n",
    "cnt2s"
   ]
  },
  {
   "cell_type": "code",
   "execution_count": 14,
   "metadata": {},
   "outputs": [
    {
     "name": "stdout",
     "output_type": "stream",
     "text": [
      "The product of the # of 1s and the # of 2s in the layer with the least # of 0s is: 2375\n"
     ]
    }
   ],
   "source": [
    "# output the final result\n",
    "print(\"The product of the # of 1s and the # of 2s in the layer with the least # of 0s is: {}\".format(cnt1s*cnt2s))"
   ]
  },
  {
   "cell_type": "code",
   "execution_count": null,
   "metadata": {},
   "outputs": [],
   "source": []
  }
 ],
 "metadata": {
  "kernelspec": {
   "display_name": "Python 3",
   "language": "python",
   "name": "python3"
  },
  "language_info": {
   "codemirror_mode": {
    "name": "ipython",
    "version": 3
   },
   "file_extension": ".py",
   "mimetype": "text/x-python",
   "name": "python",
   "nbconvert_exporter": "python",
   "pygments_lexer": "ipython3",
   "version": "3.6.4"
  }
 },
 "nbformat": 4,
 "nbformat_minor": 2
}
