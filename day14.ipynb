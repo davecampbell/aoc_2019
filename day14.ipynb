{
 "cells": [
  {
   "cell_type": "code",
   "execution_count": 1,
   "metadata": {},
   "outputs": [],
   "source": [
    "# AOC - Day14"
   ]
  },
  {
   "cell_type": "code",
   "execution_count": 2,
   "metadata": {},
   "outputs": [],
   "source": [
    "# example input:\n",
    "# 165 ORE => 6 DCFZ\n",
    "# 44 XJWVT, 5 KHKGT, 1 QDVJ, 29 NZVS, 9 GPVTF, 48 HKGWZ => 1 FUEL"
   ]
  },
  {
   "cell_type": "code",
   "execution_count": 3,
   "metadata": {},
   "outputs": [],
   "source": [
    "import math"
   ]
  },
  {
   "cell_type": "code",
   "execution_count": 4,
   "metadata": {},
   "outputs": [],
   "source": [
    "# function to multiply the qty of an inventory item by a factor\n",
    "def mult_inv(i, f):\n",
    "    # i - inventory item in the form: {\"CHEM_SYM\": qty}\n",
    "    # f - factor\n",
    "    # this retrieves the first key, value pair (we only use one)\n",
    "    k,v = list(i.items())[0]\n",
    "    # replace the value with the multiplied value for that key\n",
    "    i[k] = int(f * v)\n",
    "    return(i)"
   ]
  },
  {
   "cell_type": "code",
   "execution_count": 5,
   "metadata": {},
   "outputs": [],
   "source": [
    "class Chemical:\n",
    "    def __init__(self, name):\n",
    "        self.name = name\n",
    "        return"
   ]
  },
  {
   "cell_type": "code",
   "execution_count": 6,
   "metadata": {},
   "outputs": [],
   "source": [
    "class Reaction:\n",
    "    def __init__(self, reaction_tup):\n",
    "        self.reactant_list = reaction_tup[0]\n",
    "        self.product = reaction_tup[1]\n",
    "        return\n",
    "\n",
    "class Reaction_Factory:\n",
    "    def __init__(self):\n",
    "        self.reactions = []\n",
    "        return\n",
    "    def add_reaction(self, r):\n",
    "        reactions.append(r)\n",
    "        return\n",
    "    def add_reaction_from_input(self, s):\n",
    "        self.reactions.append(Reaction(parse_reaction(s)))\n",
    "        return\n",
    "    def get_scaled_reactants(self, p):\n",
    "        # p is the product in format: {\"CHEM_SYM\": qty_int}\n",
    "        # qty_int is the qty of the input product\n",
    "        # find the reaction in the reactions list by the product name\n",
    "        # this returns a list with 1 item\n",
    "        p_r = [r for r in self.reactions if list(p.keys())[0] == list(r.product.keys())[0]]\n",
    "        # this is the unit of product in the matched reaction\n",
    "        u_p = int(list(p_r[0].product.values())[0])\n",
    "        # reaction can only happen in integer multiples of u_p\n",
    "        # use math.ceil(qty_int / u_p)\n",
    "        factor = int(math.ceil(int(list(p.values())[0]) / u_p))\n",
    "        # multiply all the reactant qtys by factor\n",
    "        rr = list(map(lambda x: mult_inv(x,factor), p_r[0].reactant_list))\n",
    "        return(rr)"
   ]
  },
  {
   "cell_type": "code",
   "execution_count": 7,
   "metadata": {},
   "outputs": [],
   "source": [
    "class Vessel:\n",
    "    def __init__(self, content, qty):\n",
    "        self.content = content\n",
    "        self.qty = qty\n",
    "        return"
   ]
  },
  {
   "cell_type": "code",
   "execution_count": 8,
   "metadata": {},
   "outputs": [],
   "source": [
    "def parse_reaction(r_txt):\n",
    "    # r_txt comes in like: \"44 XJWVT, 5 KHKGT, 1 QDVJ, 29 NZVS, 9 GPVTF, 48 HKGWZ => 1 FUEL\"\n",
    "    # parse this out and return a reactant list (r_list) and product (p)\n",
    "    # each looks like  {'CHEM_SYMBOL': NUMBER}\n",
    "    r_list = []\n",
    "    p = {}\n",
    "    left, right = r_txt.split(\" => \")\n",
    "    p_num, p_chem = right.split()\n",
    "    p[p_chem] = int(p_num)\n",
    "    for l in left.split(\", \"):\n",
    "        reactant = {}\n",
    "        reactant[l.split()[1]] = int(l.split()[0])\n",
    "        r_list.append(reactant)\n",
    "    return(r_list, p)"
   ]
  },
  {
   "cell_type": "code",
   "execution_count": 9,
   "metadata": {},
   "outputs": [],
   "source": [
    "# s = \"44 XJWVT, 5 KHKGT, 1 QDVJ, 29 NZVS, 9 GPVTF, 48 HKGWZ => 1 FUEL\"\n",
    "s = \"165 ORE => 6 DCFZ\"\n",
    "# list of reactions as input\n",
    "# reactions = []\n",
    "rf = Reaction_Factory()"
   ]
  },
  {
   "cell_type": "code",
   "execution_count": 10,
   "metadata": {},
   "outputs": [],
   "source": [
    "# read the reactions list from the input file\n",
    "ifn = \"day14-input-test-01.txt\"\n",
    "# parse each line and store in reactions list\n",
    "with open(ifn) as f:\n",
    "    for line in f:\n",
    "        # reactions.append(Reaction(parse_reaction(line)))\n",
    "        rf.add_reaction_from_input(line)"
   ]
  },
  {
   "cell_type": "code",
   "execution_count": 11,
   "metadata": {},
   "outputs": [
    {
     "data": {
      "text/plain": [
       "9"
      ]
     },
     "execution_count": 11,
     "metadata": {},
     "output_type": "execute_result"
    }
   ],
   "source": [
    "len(rf.reactions)"
   ]
  },
  {
   "cell_type": "code",
   "execution_count": 12,
   "metadata": {},
   "outputs": [],
   "source": [
    "f_str = \"FUEL\"\n",
    "o_str = \"ORE\""
   ]
  },
  {
   "cell_type": "code",
   "execution_count": 13,
   "metadata": {},
   "outputs": [],
   "source": [
    "# p1 = {}\n",
    "# p1[f_str] = 5\n",
    "# print(p1)"
   ]
  },
  {
   "cell_type": "code",
   "execution_count": 14,
   "metadata": {},
   "outputs": [],
   "source": [
    "# r1 = rf.get_scaled_reactants(p1)\n",
    "# print(\"reactants list: {}\".format(r1))"
   ]
  },
  {
   "cell_type": "code",
   "execution_count": 15,
   "metadata": {},
   "outputs": [],
   "source": [
    "# the list of stuff\n",
    "# starts empty\n",
    "chems = []\n",
    "# seed the list with a 'product' that matches the 'fuel string' from the input reactions\n",
    "p_f = [r.product for r in rf.reactions if list(r.product.keys())[0] == f_str]\n",
    "# p_f[0]\n",
    "chems.append(rf.get_scaled_reactants(p_f[0]))"
   ]
  },
  {
   "cell_type": "code",
   "execution_count": 16,
   "metadata": {},
   "outputs": [
    {
     "data": {
      "text/plain": [
       "[[{'XJWVT': 44},\n",
       "  {'KHKGT': 5},\n",
       "  {'QDVJ': 1},\n",
       "  {'NZVS': 29},\n",
       "  {'GPVTF': 9},\n",
       "  {'HKGWZ': 48}]]"
      ]
     },
     "execution_count": 16,
     "metadata": {},
     "output_type": "execute_result"
    }
   ],
   "source": [
    "chems"
   ]
  },
  {
   "cell_type": "code",
   "execution_count": null,
   "metadata": {},
   "outputs": [],
   "source": []
  }
 ],
 "metadata": {
  "kernelspec": {
   "display_name": "Python 3",
   "language": "python",
   "name": "python3"
  },
  "language_info": {
   "codemirror_mode": {
    "name": "ipython",
    "version": 3
   },
   "file_extension": ".py",
   "mimetype": "text/x-python",
   "name": "python",
   "nbconvert_exporter": "python",
   "pygments_lexer": "ipython3",
   "version": "3.6.4"
  }
 },
 "nbformat": 4,
 "nbformat_minor": 2
}
