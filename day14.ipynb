{
 "cells": [
  {
   "cell_type": "code",
   "execution_count": 1,
   "metadata": {},
   "outputs": [],
   "source": [
    "# AOC - Day14"
   ]
  },
  {
   "cell_type": "code",
   "execution_count": 2,
   "metadata": {},
   "outputs": [],
   "source": [
    "# example input:\n",
    "# 165 ORE => 6 DCFZ\n",
    "# 44 XJWVT, 5 KHKGT, 1 QDVJ, 29 NZVS, 9 GPVTF, 48 HKGWZ => 1 FUEL"
   ]
  },
  {
   "cell_type": "code",
   "execution_count": 3,
   "metadata": {},
   "outputs": [],
   "source": [
    "class Chemical:\n",
    "    def __init__(self, name):\n",
    "        self.name = name\n",
    "        return"
   ]
  },
  {
   "cell_type": "code",
   "execution_count": 22,
   "metadata": {},
   "outputs": [],
   "source": [
    "class Reaction:\n",
    "    def __init__(self, reaction_tup):\n",
    "        self.reactant_list = reaction_tup[0]\n",
    "        self.product = reaction_tup[1]\n",
    "        return\n",
    "\n",
    "class Reaction_Factory:\n",
    "    def __init__(self):\n",
    "        self.reactions = []\n",
    "        return\n",
    "    def add_reaction(self, r):\n",
    "        reactions.append(r)\n",
    "        return\n",
    "    def add_reaction_from_input(self, s):\n",
    "        self.reactions.append(Reaction(parse_reaction(s)))\n",
    "        return\n",
    "    def get_reactants(self, p):\n",
    "        # p is the product in format: {\"CHEM_SYM\": qty_int}\n",
    "        # qty_int is the qty of the desired product\n",
    "        # find the reaction in the reactions list by the product name\n",
    "        p_r = [r for r in self.reactions if list(p.keys())[0] == list(r.product.keys())[0]]\n",
    "        return(p_r[0])"
   ]
  },
  {
   "cell_type": "code",
   "execution_count": 23,
   "metadata": {},
   "outputs": [],
   "source": [
    "class Vessel:\n",
    "    def __init__(self, content, qty):\n",
    "        self.content = content\n",
    "        self.qty = qty\n",
    "        return"
   ]
  },
  {
   "cell_type": "code",
   "execution_count": 24,
   "metadata": {},
   "outputs": [],
   "source": [
    "def parse_reaction(r_txt):\n",
    "    # r_txt comes in like: \"44 XJWVT, 5 KHKGT, 1 QDVJ, 29 NZVS, 9 GPVTF, 48 HKGWZ => 1 FUEL\"\n",
    "    # parse this out and return a reactant list (r_list) and product (p)\n",
    "    # each looks like  {'CHEM_SYMBOL': NUMBER}\n",
    "    r_list = []\n",
    "    p = {}\n",
    "    left, right = r_txt.split(\" => \")\n",
    "    p_num, p_chem = right.split()\n",
    "    p[p_chem] = int(p_num)\n",
    "    for l in left.split(\", \"):\n",
    "        reactant = {}\n",
    "        reactant[l.split()[1]] = int(l.split()[0])\n",
    "        r_list.append(reactant)\n",
    "    return(r_list, p)"
   ]
  },
  {
   "cell_type": "code",
   "execution_count": 25,
   "metadata": {},
   "outputs": [],
   "source": [
    "# s = \"44 XJWVT, 5 KHKGT, 1 QDVJ, 29 NZVS, 9 GPVTF, 48 HKGWZ => 1 FUEL\"\n",
    "s = \"165 ORE => 6 DCFZ\"\n",
    "# list of reactions as input\n",
    "# reactions = []\n",
    "rf = Reaction_Factory()"
   ]
  },
  {
   "cell_type": "code",
   "execution_count": 26,
   "metadata": {},
   "outputs": [],
   "source": [
    "# read the reactions list from the input file\n",
    "ifn = \"day14-input-test-01.txt\"\n",
    "# parse each line and store in reactions list\n",
    "with open(ifn) as f:\n",
    "    for line in f:\n",
    "        # reactions.append(Reaction(parse_reaction(line)))\n",
    "        rf.add_reaction_from_input(line)"
   ]
  },
  {
   "cell_type": "code",
   "execution_count": 27,
   "metadata": {},
   "outputs": [
    {
     "data": {
      "text/plain": [
       "9"
      ]
     },
     "execution_count": 27,
     "metadata": {},
     "output_type": "execute_result"
    }
   ],
   "source": [
    "len(rf.reactions)"
   ]
  },
  {
   "cell_type": "code",
   "execution_count": 28,
   "metadata": {},
   "outputs": [],
   "source": [
    "f_str = \"FUEL\"\n",
    "o_str = \"ORE\""
   ]
  },
  {
   "cell_type": "code",
   "execution_count": 29,
   "metadata": {},
   "outputs": [
    {
     "name": "stdout",
     "output_type": "stream",
     "text": [
      "{'FUEL': 1}\n"
     ]
    }
   ],
   "source": [
    "p1 = {}\n",
    "p1[f_str] = 1\n",
    "print(p1)"
   ]
  },
  {
   "cell_type": "code",
   "execution_count": 32,
   "metadata": {},
   "outputs": [
    {
     "name": "stdout",
     "output_type": "stream",
     "text": [
      "r: [{'XJWVT': 44}, {'KHKGT': 5}, {'QDVJ': 1}, {'NZVS': 29}, {'GPVTF': 9}, {'HKGWZ': 48}], p: {'FUEL': 1}\n"
     ]
    }
   ],
   "source": [
    "r1 = rf.get_reactants(p1)\n",
    "print(\"r: {}, p: {}\".format(r1.reactant_list, r1.product))"
   ]
  },
  {
   "cell_type": "code",
   "execution_count": null,
   "metadata": {},
   "outputs": [],
   "source": [
    "# the list of stuff\n",
    "# starts empty\n",
    "chems = []\n",
    "# seed the list with a 'product' that matches the 'fuel string'\n"
   ]
  }
 ],
 "metadata": {
  "kernelspec": {
   "display_name": "Python 3",
   "language": "python",
   "name": "python3"
  },
  "language_info": {
   "codemirror_mode": {
    "name": "ipython",
    "version": 3
   },
   "file_extension": ".py",
   "mimetype": "text/x-python",
   "name": "python",
   "nbconvert_exporter": "python",
   "pygments_lexer": "ipython3",
   "version": "3.6.4"
  }
 },
 "nbformat": 4,
 "nbformat_minor": 2
}
