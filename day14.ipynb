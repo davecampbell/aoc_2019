{
 "cells": [
  {
   "cell_type": "code",
   "execution_count": 1,
   "metadata": {},
   "outputs": [],
   "source": [
    "# AOC - Day14"
   ]
  },
  {
   "cell_type": "code",
   "execution_count": 2,
   "metadata": {},
   "outputs": [],
   "source": [
    "# example input:\n",
    "# 165 ORE => 6 DCFZ\n",
    "# 44 XJWVT, 5 KHKGT, 1 QDVJ, 29 NZVS, 9 GPVTF, 48 HKGWZ => 1 FUEL"
   ]
  },
  {
   "cell_type": "code",
   "execution_count": 3,
   "metadata": {},
   "outputs": [],
   "source": [
    "class Chemical:\n",
    "    def __init__(self, name):\n",
    "        self.name = name\n",
    "        return"
   ]
  },
  {
   "cell_type": "code",
   "execution_count": 4,
   "metadata": {},
   "outputs": [],
   "source": [
    "class Reaction:\n",
    "    def __init__(self, reaction_tup):\n",
    "        self.reactant_list = reaction_tup[0]\n",
    "        self.product = reaction_tup[1]\n",
    "        return"
   ]
  },
  {
   "cell_type": "code",
   "execution_count": 5,
   "metadata": {},
   "outputs": [],
   "source": [
    "def parse_reaction(r_txt):\n",
    "    # r_txt comes in like: \"44 XJWVT, 5 KHKGT, 1 QDVJ, 29 NZVS, 9 GPVTF, 48 HKGWZ => 1 FUEL\"\n",
    "    # parse this out and return a reactant list (r_list) and product (p)\n",
    "    # each looks like  {'CHEM_SYMBOL': NUMBER}\n",
    "    r_list = []\n",
    "    p = {}\n",
    "    left, right = r_txt.split(\" => \")\n",
    "    p_num, p_chem = right.split()\n",
    "    p[p_chem] = int(p_num)\n",
    "    for l in left.split(\", \"):\n",
    "        reactant = {}\n",
    "        reactant[l.split()[1]] = int(l.split()[0])\n",
    "        r_list.append(reactant)\n",
    "    return(r_list, p)"
   ]
  },
  {
   "cell_type": "code",
   "execution_count": 6,
   "metadata": {},
   "outputs": [],
   "source": [
    "# s = \"44 XJWVT, 5 KHKGT, 1 QDVJ, 29 NZVS, 9 GPVTF, 48 HKGWZ => 1 FUEL\"\n",
    "s = \"165 ORE => 6 DCFZ\"\n",
    "# list of reactions as input\n",
    "reactions = []"
   ]
  },
  {
   "cell_type": "code",
   "execution_count": 7,
   "metadata": {},
   "outputs": [],
   "source": [
    "# read the reactions list from the input file\n",
    "ifn = \"day14-input-test-01.txt\"\n",
    "# parse each line and store in reactions list\n",
    "with open(ifn) as f:\n",
    "    for line in f:\n",
    "        reactions.append(Reaction(parse_reaction(line)))"
   ]
  },
  {
   "cell_type": "code",
   "execution_count": 8,
   "metadata": {},
   "outputs": [
    {
     "data": {
      "text/plain": [
       "9"
      ]
     },
     "execution_count": 8,
     "metadata": {},
     "output_type": "execute_result"
    }
   ],
   "source": [
    "len(reactions)"
   ]
  },
  {
   "cell_type": "code",
   "execution_count": 9,
   "metadata": {},
   "outputs": [],
   "source": [
    "f_str = \"FUEL\"\n",
    "o_str = \"ORE\""
   ]
  },
  {
   "cell_type": "code",
   "execution_count": 11,
   "metadata": {},
   "outputs": [],
   "source": [
    "react = [r for r in reactions if f_str in r.product.keys()]"
   ]
  },
  {
   "cell_type": "code",
   "execution_count": 13,
   "metadata": {},
   "outputs": [
    {
     "data": {
      "text/plain": [
       "[{'XJWVT': 44},\n",
       " {'KHKGT': 5},\n",
       " {'QDVJ': 1},\n",
       " {'NZVS': 29},\n",
       " {'GPVTF': 9},\n",
       " {'HKGWZ': 48}]"
      ]
     },
     "execution_count": 13,
     "metadata": {},
     "output_type": "execute_result"
    }
   ],
   "source": [
    "react[0].reactant_list"
   ]
  },
  {
   "cell_type": "code",
   "execution_count": 14,
   "metadata": {},
   "outputs": [
    {
     "data": {
      "text/plain": [
       "{'FUEL': 1}"
      ]
     },
     "execution_count": 14,
     "metadata": {},
     "output_type": "execute_result"
    }
   ],
   "source": [
    "react[0].product"
   ]
  },
  {
   "cell_type": "code",
   "execution_count": null,
   "metadata": {},
   "outputs": [],
   "source": []
  }
 ],
 "metadata": {
  "kernelspec": {
   "display_name": "Python 3",
   "language": "python",
   "name": "python3"
  },
  "language_info": {
   "codemirror_mode": {
    "name": "ipython",
    "version": 3
   },
   "file_extension": ".py",
   "mimetype": "text/x-python",
   "name": "python",
   "nbconvert_exporter": "python",
   "pygments_lexer": "ipython3",
   "version": "3.6.4"
  }
 },
 "nbformat": 4,
 "nbformat_minor": 2
}
