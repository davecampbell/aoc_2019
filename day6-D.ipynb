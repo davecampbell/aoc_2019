{
 "cells": [
  {
   "cell_type": "code",
   "execution_count": 1,
   "metadata": {},
   "outputs": [],
   "source": [
    "# AOC - Day6\n",
    "#"
   ]
  },
  {
   "cell_type": "code",
   "execution_count": 2,
   "metadata": {},
   "outputs": [],
   "source": [
    "# this module will help with the orbit tree operations\n",
    "# https://treelib.readthedocs.io/en/latest/index.html\n",
    "from treelib import Node, Tree"
   ]
  },
  {
   "cell_type": "code",
   "execution_count": 3,
   "metadata": {},
   "outputs": [],
   "source": [
    "# input map.  read from file, store in an array of little trees.\n",
    "# each tree is just the single host and moon\n",
    "orbit_trees = []\n",
    "inputmapfilename = \"day6-inputmap-example.txt\"\n",
    "for line in open(inputmapfilename):\n",
    "    o = {}\n",
    "    ot = Tree()\n",
    "    host, moon = line.strip(\"\\n\").split(\")\")\n",
    "    ot.create_node(host, host)\n",
    "    ot.create_node(moon, moon, host)\n",
    "    orbit_trees.append(ot)"
   ]
  },
  {
   "cell_type": "code",
   "execution_count": 4,
   "metadata": {},
   "outputs": [
    {
     "name": "stdout",
     "output_type": "stream",
     "text": [
      "the root is: COM\n"
     ]
    }
   ],
   "source": [
    "ISROOT = False\n",
    "# loop through root candidates until the first root occurrence is detected (only one root per input map)\n",
    "while not ISROOT:\n",
    "    # each input pair is a candidate\n",
    "    for i in range(0,len(orbit_trees)):\n",
    "        # this is the root of each pair\n",
    "        rc = orbit_trees[i].root\n",
    "        # assume it is a root\n",
    "        ISROOT = True\n",
    "        # loop through all the input pairs\n",
    "        for j in range(0,len(orbit_trees)):\n",
    "            # but not itself\n",
    "            if(i != j):\n",
    "                # if the root candidate is in the other tree\n",
    "                if(orbit_trees[j].contains(rc)):\n",
    "                    # and not the root of the other tree (the real root could have more than one child!)\n",
    "                    # if not the root, then the rc is some child, and therefore not the root \n",
    "                    if(orbit_trees[j].root != rc):\n",
    "                        ISROOT = False\n",
    "                        # and break out of the loop looking into other trees...no more searching needed\n",
    "                        break\n",
    "        # if it wasn't found to be not the root, then it is the root, no need to continue testing candidates\n",
    "        if(ISROOT):\n",
    "            break\n",
    "\n",
    "print(\"the root is: {}\".format(rc))"
   ]
  },
  {
   "cell_type": "code",
   "execution_count": null,
   "metadata": {},
   "outputs": [],
   "source": [
    "# this module will help with the orbit tree operations\n",
    "# https://treelib.readthedocs.io/en/latest/index.html\n",
    "from treelib import Node, Tree\n",
    "\n",
    "# make a Tree instance - call it 'ss' (solar system)\n",
    "ss = Tree()"
   ]
  },
  {
   "cell_type": "code",
   "execution_count": null,
   "metadata": {},
   "outputs": [],
   "source": [
    "# COM is the root of the orbit tree (that is a given)\n",
    "ss.create_node(\"COM\", \"com\")\n",
    "\n",
    "# find the input entry with 'COM' as host, and make the moon of that entry be a node from the root\n",
    "moon_name = host_entry(orbits, \"COM\")['moon']\n",
    "ss.create_node(moon_name, moon_name.lower(), parent=\"com\")\n",
    "host_entry(orbits, \"COM\")['assigned'] = True"
   ]
  },
  {
   "cell_type": "code",
   "execution_count": null,
   "metadata": {},
   "outputs": [],
   "source": [
    "ss.show()"
   ]
  },
  {
   "cell_type": "code",
   "execution_count": null,
   "metadata": {},
   "outputs": [],
   "source": [
    "ss.leaves()"
   ]
  },
  {
   "cell_type": "code",
   "execution_count": null,
   "metadata": {},
   "outputs": [],
   "source": [
    "host_entry(orbits, \"B\")"
   ]
  },
  {
   "cell_type": "code",
   "execution_count": null,
   "metadata": {},
   "outputs": [],
   "source": [
    "s1 = Tree()\n",
    "s2= Tree()  "
   ]
  },
  {
   "cell_type": "code",
   "execution_count": null,
   "metadata": {},
   "outputs": [],
   "source": [
    "a1 = s1.create_node(\"A1\", \"a1\")\n",
    "s1.show()"
   ]
  },
  {
   "cell_type": "code",
   "execution_count": null,
   "metadata": {},
   "outputs": [],
   "source": [
    "b1 = s2.create_node(\"B1\", \"b1\")"
   ]
  },
  {
   "cell_type": "code",
   "execution_count": null,
   "metadata": {},
   "outputs": [],
   "source": [
    "b1.identifier"
   ]
  },
  {
   "cell_type": "code",
   "execution_count": null,
   "metadata": {},
   "outputs": [],
   "source": [
    "s1.paste('a1', s2)"
   ]
  },
  {
   "cell_type": "code",
   "execution_count": null,
   "metadata": {},
   "outputs": [],
   "source": [
    "s1.show()"
   ]
  },
  {
   "cell_type": "code",
   "execution_count": null,
   "metadata": {},
   "outputs": [],
   "source": [
    "s3 = Tree()\n",
    "s3.create_node(\"C1\",\"c1\")"
   ]
  },
  {
   "cell_type": "code",
   "execution_count": null,
   "metadata": {},
   "outputs": [],
   "source": [
    "s3.paste(\"c1\", s1)"
   ]
  },
  {
   "cell_type": "code",
   "execution_count": null,
   "metadata": {},
   "outputs": [],
   "source": [
    "s3.show()"
   ]
  },
  {
   "cell_type": "code",
   "execution_count": null,
   "metadata": {},
   "outputs": [],
   "source": [
    "s1.root"
   ]
  },
  {
   "cell_type": "code",
   "execution_count": null,
   "metadata": {},
   "outputs": [],
   "source": [
    "s1.nodes[0]"
   ]
  },
  {
   "cell_type": "code",
   "execution_count": null,
   "metadata": {},
   "outputs": [],
   "source": [
    "s1.nodes['a1']"
   ]
  },
  {
   "cell_type": "code",
   "execution_count": null,
   "metadata": {},
   "outputs": [],
   "source": [
    "s3.contains('a1')"
   ]
  },
  {
   "cell_type": "code",
   "execution_count": null,
   "metadata": {},
   "outputs": [],
   "source": [
    "s3.get_node('r1')"
   ]
  },
  {
   "cell_type": "code",
   "execution_count": null,
   "metadata": {},
   "outputs": [],
   "source": []
  }
 ],
 "metadata": {
  "kernelspec": {
   "display_name": "Python 3",
   "language": "python",
   "name": "python3"
  },
  "language_info": {
   "codemirror_mode": {
    "name": "ipython",
    "version": 3
   },
   "file_extension": ".py",
   "mimetype": "text/x-python",
   "name": "python",
   "nbconvert_exporter": "python",
   "pygments_lexer": "ipython3",
   "version": "3.6.4"
  }
 },
 "nbformat": 4,
 "nbformat_minor": 2
}
