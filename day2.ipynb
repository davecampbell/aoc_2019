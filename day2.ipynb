{
 "cells": [
  {
   "cell_type": "code",
   "execution_count": 168,
   "metadata": {},
   "outputs": [],
   "source": [
    "# Day 2 challenge for AOC2019\n",
    "# https://adventofcode.com/2019/day/2"
   ]
  },
  {
   "cell_type": "code",
   "execution_count": 169,
   "metadata": {},
   "outputs": [],
   "source": [
    "# this object is where the Intcode program lives and some useful methods\n",
    "# to fill it, clear it, read from it, write to it\n",
    "class Memory:\n",
    "    def __init__(self, size):\n",
    "        self.size = size  # must specify the memory size\n",
    "        self.storage = [None] * size  # initialize with None\n",
    "            \n",
    "    # dump out the contents between 2 positions (defaults all the memory)\n",
    "    def dump(self,start=0,end=-1):\n",
    "        if(end == -1):\n",
    "            end = self.size\n",
    "        for i in range(start, end):\n",
    "            print(\"{}: {}\".format(i,self.storage[i]))\n",
    "\n",
    "    # fill the memory with a sequence, starting at a certain position - which defaults to 0\n",
    "    def fill(self, codelist, start_pos = 0):\n",
    "        i = start_pos\n",
    "        for j in codelist:\n",
    "            self.storage[i] = j\n",
    "            i+=1\n",
    "\n",
    "    # read the contents from just one position\n",
    "    def read(self, pos):\n",
    "        return self.storage[pos]\n",
    "   \n",
    "    # clear the memory\n",
    "    def clear(self):\n",
    "        self.storage = [None] * self.size"
   ]
  },
  {
   "cell_type": "code",
   "execution_count": 170,
   "metadata": {},
   "outputs": [],
   "source": [
    "# this function will execute a single sequence (operator + subsequent operands and output location)\n",
    "def exec_seq(ctr, m):\n",
    "    # ctr - where to start\n",
    "    # m - the memory object to work from\n",
    "    # the first in the sequence is the opcode\n",
    "    opcode = m.read(ctr)\n",
    "    # if it is 99, we're done\n",
    "    if(opcode == 99):\n",
    "        return(\"STOP\")\n",
    "    # this is the \"add\" operator\n",
    "    elif(opcode == 1):\n",
    "        calcval = m.read(m.read(ctr+1)) + m.read(m.read(ctr+2))\n",
    "    # this is the \"multiply\" operator\n",
    "    elif(opcode == 2):\n",
    "        calcval = m.read(m.read(ctr+1)) * m.read(m.read(ctr+2))\n",
    "    # if here, then the opcode is not known\n",
    "    else:\n",
    "        return(\"BADOPCODE\")\n",
    "    # fill the output destination address with the calculated value\n",
    "    m.fill([calcval], m.read(ctr+3))\n",
    "    # and return the next postion in the memory\n",
    "    return(ctr+4)"
   ]
  },
  {
   "cell_type": "code",
   "execution_count": 171,
   "metadata": {},
   "outputs": [],
   "source": [
    "# get the programming sequence\n",
    "seq = [1,0,0,3,1,1,2,3,1,3,4,3,1,5,0,3,2,10,1,19,2,19,6,23,2,13,23,27,1,9,27,31,2,31,9,35,1,6,35,39,2,10,39,43,1,5,43,47,1,5,47,51,2,51,6,55,2,10,55,59,1,59,9,63,2,13,63,67,1,10,67,71,1,71,5,75,1,75,6,79,1,10,79,83,1,5,83,87,1,5,87,91,2,91,6,95,2,6,95,99,2,10,99,103,1,103,5,107,1,2,107,111,1,6,111,0,99,2,14,0,0]\n",
    "# create a computer object with twice the memory of that sequence\n",
    "mycomp = Memory(len(seq) * 2)\n",
    "# fill the memory with the sequence\n",
    "mycomp.fill(seq)"
   ]
  },
  {
   "cell_type": "code",
   "execution_count": 172,
   "metadata": {},
   "outputs": [],
   "source": [
    "# make the special changes called for in the challenge\n",
    "mycomp.fill([12], 1)\n",
    "mycomp.fill([2], 2)"
   ]
  },
  {
   "cell_type": "code",
   "execution_count": 173,
   "metadata": {},
   "outputs": [
    {
     "name": "stdout",
     "output_type": "stream",
     "text": [
      "STOP\n"
     ]
    }
   ],
   "source": [
    "# primary loop\n",
    "# start at the beginning...\n",
    "next_code = 0\n",
    "# and keep going as long as integers keep coming back as the next code location (badness will be a string)\n",
    "while(isinstance(next_code, int)):\n",
    "      next_code = exec_seq(next_code, mycomp)\n",
    "\n",
    "# print out the terminating code\n",
    "print(next_code)\n"
   ]
  },
  {
   "cell_type": "code",
   "execution_count": 174,
   "metadata": {},
   "outputs": [
    {
     "name": "stdout",
     "output_type": "stream",
     "text": [
      "3716293\n"
     ]
    }
   ],
   "source": [
    "# get the requested output\n",
    "print(mycomp.read(0))"
   ]
  },
  {
   "cell_type": "code",
   "execution_count": null,
   "metadata": {},
   "outputs": [],
   "source": []
  }
 ],
 "metadata": {
  "kernelspec": {
   "display_name": "Python 3",
   "language": "python",
   "name": "python3"
  },
  "language_info": {
   "codemirror_mode": {
    "name": "ipython",
    "version": 3
   },
   "file_extension": ".py",
   "mimetype": "text/x-python",
   "name": "python",
   "nbconvert_exporter": "python",
   "pygments_lexer": "ipython3",
   "version": "3.6.4"
  }
 },
 "nbformat": 4,
 "nbformat_minor": 2
}
