{
 "cells": [
  {
   "cell_type": "code",
   "execution_count": 1,
   "metadata": {},
   "outputs": [],
   "source": [
    "# AOC - Day6\n",
    "# https://adventofcode.com/2019/day/6"
   ]
  },
  {
   "cell_type": "code",
   "execution_count": 2,
   "metadata": {},
   "outputs": [],
   "source": [
    "# this module will help with the orbit tree modeling and operations\n",
    "# https://treelib.readthedocs.io/en/latest/index.html\n",
    "from treelib import Node, Tree"
   ]
  },
  {
   "cell_type": "code",
   "execution_count": 3,
   "metadata": {},
   "outputs": [],
   "source": [
    "# input map.  read from file, store in an array of little trees.\n",
    "# each tree is just the single host and moon read in from the file\n",
    "orbit_trees = []\n",
    "inputmapfilename = \"day6-inputmap-example.txt\"\n",
    "# for each line in the file\n",
    "for line in open(inputmapfilename):\n",
    "    # instantiate a tree\n",
    "    ot = Tree()\n",
    "    # parse the host and moon from the line (separated by an \"(\")\n",
    "    host, moon = line.strip(\"\\n\").split(\")\")\n",
    "    # make the node with the host - this automatically becomes the root of that tree\n",
    "    ot.create_node(host, host)\n",
    "    # make a node for the moon, assign the host as the parent\n",
    "    ot.create_node(moon, moon, host)\n",
    "    # append that tree to the array\n",
    "    orbit_trees.append(ot)"
   ]
  },
  {
   "cell_type": "code",
   "execution_count": 4,
   "metadata": {},
   "outputs": [],
   "source": [
    "# figure out which input line has the root\n",
    "ISROOT = False\n",
    "# loop through root candidates until the first root occurrence is detected (only one root per input map)\n",
    "while not ISROOT:\n",
    "    # each input pair is a candidate\n",
    "    for i in range(0,len(orbit_trees)):\n",
    "        # this is the root of each pair\n",
    "        rc = orbit_trees[i].root\n",
    "        # assume it is a root\n",
    "        ISROOT = True\n",
    "        # loop through all the input pairs\n",
    "        for j in range(0,len(orbit_trees)):\n",
    "            # but not itself\n",
    "            if(i != j):\n",
    "                # if the root candidate is in the other tree\n",
    "                if(orbit_trees[j].contains(rc)):\n",
    "                    # and not the root of the other tree (the real root could have more than one child!)\n",
    "                    # if not the root, then the rc is some child, and therefore not the root \n",
    "                    if(orbit_trees[j].root != rc):\n",
    "                        ISROOT = False\n",
    "                        # and break out of the loop looking into other trees...no more searching needed\n",
    "                        break\n",
    "        # if it wasn't found to be not the root, then it is the root, no need to continue testing candidates\n",
    "        if(ISROOT):\n",
    "            break\n",
    "# save the root index for later\n",
    "rootindex = i"
   ]
  },
  {
   "cell_type": "code",
   "execution_count": 5,
   "metadata": {},
   "outputs": [],
   "source": [
    "# make a new tree for the solar system (ss), start with (copy) the root from above\n",
    "ss = Tree(orbit_trees[rootindex].subtree(orbit_trees[rootindex].root), deep=True)\n",
    "# remove the root from the input array\n",
    "del orbit_trees[i]"
   ]
  },
  {
   "cell_type": "code",
   "execution_count": 6,
   "metadata": {},
   "outputs": [],
   "source": [
    "# this will collect the input entries that have been put into the solar system tree\n",
    "# it starts empty\n",
    "assigned_list = []"
   ]
  },
  {
   "cell_type": "code",
   "execution_count": 11,
   "metadata": {},
   "outputs": [],
   "source": [
    "# keep going through the input array until all the inputs are assigned\n",
    "while(len(assigned_list) < len(orbit_trees)):\n",
    "    # take a pass through the input tree array, see if they can connect into the existing ss - only need to\n",
    "    # mess with the root of inputs to see if there is a place in the ss to hook it to\n",
    "    for i,o in enumerate(orbit_trees):\n",
    "        if(ss.contains(o.root) and i not in assigned_list):\n",
    "            # print(\"{} tree contains: {}\".format(ss, o.root))\n",
    "            # add this tree to assigned_list\n",
    "            assigned_list.append(i)\n",
    "            # copy / paste each child (tree) on to the host node in the 'solar system'\n",
    "            for c in o.children(o.root):\n",
    "                n = Tree(o.subtree(c.identifier), deep=True)\n",
    "                ss.paste(o.root, n, deep=True)\n",
    "\n",
    "# print the final tree\n",
    "# ss.show()"
   ]
  },
  {
   "cell_type": "code",
   "execution_count": 12,
   "metadata": {},
   "outputs": [],
   "source": [
    "# and this is the paths from the root to all the leaves\n",
    "paths = ss.paths_to_leaves()"
   ]
  },
  {
   "cell_type": "code",
   "execution_count": 13,
   "metadata": {},
   "outputs": [],
   "source": [
    "# create something to hold unique gravity pairs\n",
    "unique_gp = []\n",
    "# go up paths from all the leaves\n",
    "for i in paths:\n",
    "    # get all possible pairs by working left to right\n",
    "    for j in range(0,len(i)-1):\n",
    "        for k in range(j+1,len(i)):\n",
    "            # create a pair designation / string representation\n",
    "            gp = \"{}-{}\".format(i[j],i[k])\n",
    "            # if it isn't in the unique pair collection\n",
    "            if(gp not in unique_gp):\n",
    "                # then add it\n",
    "                unique_gp.append(gp)\n",
    "                # and print it\n",
    "                # print(gp)"
   ]
  },
  {
   "cell_type": "code",
   "execution_count": 14,
   "metadata": {},
   "outputs": [
    {
     "name": "stdout",
     "output_type": "stream",
     "text": [
      "the number of unique gravity pairs is: 42\n"
     ]
    }
   ],
   "source": [
    "# and print the answer for use\n",
    "print(\"the number of unique gravity pairs is: {}\".format(len(unique_gp)))"
   ]
  },
  {
   "cell_type": "code",
   "execution_count": null,
   "metadata": {},
   "outputs": [],
   "source": []
  }
 ],
 "metadata": {
  "kernelspec": {
   "display_name": "Python 3",
   "language": "python",
   "name": "python3"
  },
  "language_info": {
   "codemirror_mode": {
    "name": "ipython",
    "version": 3
   },
   "file_extension": ".py",
   "mimetype": "text/x-python",
   "name": "python",
   "nbconvert_exporter": "python",
   "pygments_lexer": "ipython3",
   "version": "3.6.4"
  }
 },
 "nbformat": 4,
 "nbformat_minor": 2
}
