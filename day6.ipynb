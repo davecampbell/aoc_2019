{
 "cells": [
  {
   "cell_type": "code",
   "execution_count": 79,
   "metadata": {},
   "outputs": [],
   "source": [
    "# AOC 2019(Advent Of Code)\n",
    "# Day6\n",
    "# https://adventofcode.com/2019/day/6"
   ]
  },
  {
   "cell_type": "code",
   "execution_count": 80,
   "metadata": {},
   "outputs": [],
   "source": [
    "# input map provided, looks like:\n",
    "# FGY)61Z\n",
    "# 2BN)LM7\n",
    "# QXY)TVB\n",
    "# 5M5)Y6C\n",
    "# can't easily read from source (authentication), so a local file will be the same as the input provided\n",
    "inputmapfilename = \"day6-inputmap-test.txt\"\n",
    "\n",
    "orbit_array = [line.rstrip('\\n') for line in open(inputmapfilename)]"
   ]
  },
  {
   "cell_type": "code",
   "execution_count": 81,
   "metadata": {},
   "outputs": [
    {
     "data": {
      "text/plain": [
       "['FGY)61Z', '2BN)LM7', 'QXY)TVB', '5M5)Y6C']"
      ]
     },
     "execution_count": 81,
     "metadata": {},
     "output_type": "execute_result"
    }
   ],
   "source": [
    "orbit_array"
   ]
  },
  {
   "cell_type": "code",
   "execution_count": 88,
   "metadata": {},
   "outputs": [],
   "source": [
    "class Orbit:\n",
    "    def __init__(self, host, guest):\n",
    "        self.host = host\n",
    "        self.guest = guest\n",
    "        \n",
    "class OrbitTree:\n",
    "    def __init__(self, size):\n",
    "        self.orbits = []\n",
    "\n",
    "    def orbit_counts(self):\n",
    "        return(len(self.orbits))\n",
    "\n",
    "class node:\n",
    "    def __init__(self, name):\n",
    "        self.name = name\n",
    "        self.satellite = None\n"
   ]
  },
  {
   "cell_type": "code",
   "execution_count": 89,
   "metadata": {},
   "outputs": [],
   "source": [
    "top = node(\"COM\")"
   ]
  },
  {
   "cell_type": "code",
   "execution_count": 90,
   "metadata": {},
   "outputs": [
    {
     "name": "stdout",
     "output_type": "stream",
     "text": [
      "None\n"
     ]
    }
   ],
   "source": [
    "print(top.satellite)"
   ]
  },
  {
   "cell_type": "code",
   "execution_count": 91,
   "metadata": {},
   "outputs": [],
   "source": [
    "top.satellite = \"FGY\""
   ]
  },
  {
   "cell_type": "code",
   "execution_count": 92,
   "metadata": {},
   "outputs": [
    {
     "data": {
      "text/plain": [
       "'FGY'"
      ]
     },
     "execution_count": 92,
     "metadata": {},
     "output_type": "execute_result"
    }
   ],
   "source": [
    "top.satellite"
   ]
  },
  {
   "cell_type": "code",
   "execution_count": null,
   "metadata": {
    "collapsed": true
   },
   "outputs": [],
   "source": [
    "o = []\n",
    "o.append(Orbit(\"Earth\", \"Moon\"))\n",
    "\n",
    "o[0].host\n",
    "\n",
    "ot = OrbitTree(20)\n",
    "\n",
    "ot\n",
    "\n",
    "ot.orbits.append(o[0])\n",
    "print(ot.orbits)\n",
    "\n",
    "ot.orbits[0].host\n",
    "\n",
    "ot.orbit_counts()"
   ]
  },
  {
   "cell_type": "code",
   "execution_count": null,
   "metadata": {},
   "outputs": [],
   "source": []
  }
 ],
 "metadata": {
  "kernelspec": {
   "display_name": "Python 3",
   "language": "python",
   "name": "python3"
  },
  "language_info": {
   "codemirror_mode": {
    "name": "ipython",
    "version": 3
   },
   "file_extension": ".py",
   "mimetype": "text/x-python",
   "name": "python",
   "nbconvert_exporter": "python",
   "pygments_lexer": "ipython3",
   "version": "3.6.4"
  }
 },
 "nbformat": 4,
 "nbformat_minor": 2
}
