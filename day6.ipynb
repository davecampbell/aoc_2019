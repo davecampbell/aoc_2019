{
 "cells": [
  {
   "cell_type": "code",
   "execution_count": 1,
   "metadata": {},
   "outputs": [],
   "source": [
    "# AOC - Day6\n",
    "# https://adventofcode.com/2019/day/6"
   ]
  },
  {
   "cell_type": "code",
   "execution_count": 2,
   "metadata": {},
   "outputs": [],
   "source": [
    "# this module will help with the orbit tree modeling and operations\n",
    "# https://treelib.readthedocs.io/en/latest/index.html\n",
    "from treelib import Node, Tree"
   ]
  },
  {
   "cell_type": "code",
   "execution_count": 3,
   "metadata": {},
   "outputs": [],
   "source": [
    "# input map.  read from file, store in an array of little trees.\n",
    "# each tree is just the single host and moon read in from the file\n",
    "orbit_trees = []\n",
    "inputmapfilename = \"day6-input.txt\"\n",
    "# for each line in the file\n",
    "for line in open(inputmapfilename):\n",
    "    # instantiate a tree\n",
    "    ot = Tree()\n",
    "    # parse the host and moon from the line (separated by an \"(\")\n",
    "    host, moon = line.strip(\"\\n\").split(\")\")\n",
    "    # make the node with the host - this automatically becomes the root of that tree\n",
    "    ot.create_node(host, host)\n",
    "    # make a node for the moon, assign the host as the parent\n",
    "    ot.create_node(moon, moon, host)\n",
    "    # append that tree to the array\n",
    "    orbit_trees.append(ot)"
   ]
  },
  {
   "cell_type": "code",
   "execution_count": 4,
   "metadata": {},
   "outputs": [
    {
     "name": "stdout",
     "output_type": "stream",
     "text": [
      "root: COM\n"
     ]
    }
   ],
   "source": [
    "# figure out which input line has the root\n",
    "ISROOT = False\n",
    "# loop through root candidates until the first root occurrence is detected (only one root per input map)\n",
    "while not ISROOT:\n",
    "    # each input pair is a candidate\n",
    "    for i in range(0,len(orbit_trees)):\n",
    "        # this is the root of each pair\n",
    "        rc = orbit_trees[i].root\n",
    "        # assume it is a root\n",
    "        ISROOT = True\n",
    "        # loop through all the input pairs\n",
    "        for j in range(0,len(orbit_trees)):\n",
    "            # but not itself\n",
    "            if(i != j):\n",
    "                # if the root candidate is in the other tree\n",
    "                if(orbit_trees[j].contains(rc)):\n",
    "                    # and not the root of the other tree (the real root could have more than one child!)\n",
    "                    # if not the root, then the rc is some child, and therefore not the root \n",
    "                    if(orbit_trees[j].root != rc):\n",
    "                        ISROOT = False\n",
    "                        # and break out of the loop looking into other trees...no more searching needed\n",
    "                        break\n",
    "        # if it wasn't found to be not the root, then it is the root, no need to continue testing candidates\n",
    "        if(ISROOT):\n",
    "            break\n",
    "# save the root index for later\n",
    "rootindex = i\n",
    "print(\"root: {}\".format(rc))"
   ]
  },
  {
   "cell_type": "code",
   "execution_count": 5,
   "metadata": {},
   "outputs": [],
   "source": [
    "# make a new tree for the solar system (ss), start with (copy) the root from above\n",
    "ss = Tree(orbit_trees[rootindex].subtree(orbit_trees[rootindex].root), deep=True)\n",
    "# remove the root from the input array\n",
    "del orbit_trees[i]"
   ]
  },
  {
   "cell_type": "code",
   "execution_count": 6,
   "metadata": {},
   "outputs": [],
   "source": [
    "# this will collect the input entries that have been put into the solar system tree\n",
    "# it starts empty\n",
    "assigned_list = []"
   ]
  },
  {
   "cell_type": "code",
   "execution_count": 7,
   "metadata": {},
   "outputs": [],
   "source": [
    "# keep going through the input array until all the inputs are assigned\n",
    "while(len(assigned_list) < len(orbit_trees)):\n",
    "    # take a pass through the input tree array, see if they can connect into the existing ss - only need to\n",
    "    # mess with the root of inputs to see if there is a place in the ss to hook it to\n",
    "    for i,o in enumerate(orbit_trees):\n",
    "        if(ss.contains(o.root) and i not in assigned_list):\n",
    "            # print(\"{} tree contains: {}\".format(ss, o.root))\n",
    "            # add this tree to assigned_list\n",
    "            assigned_list.append(i)\n",
    "            # copy / paste each child (tree) on to the host node in the 'solar system'\n",
    "            for c in o.children(o.root):\n",
    "                n = Tree(o.subtree(c.identifier), deep=True)\n",
    "                ss.paste(o.root, n, deep=True)\n",
    "\n",
    "# print the final tree\n",
    "# ss.show()"
   ]
  },
  {
   "cell_type": "code",
   "execution_count": 8,
   "metadata": {},
   "outputs": [
    {
     "name": "stdout",
     "output_type": "stream",
     "text": [
      "# of leaves: 94\n"
     ]
    }
   ],
   "source": [
    "# and this is the paths from the root to all the leaves\n",
    "paths = ss.paths_to_leaves()\n",
    "print(\"# of leaves: {}\".format(len(paths)))"
   ]
  },
  {
   "cell_type": "code",
   "execution_count": 9,
   "metadata": {},
   "outputs": [
    {
     "name": "stdout",
     "output_type": "stream",
     "text": [
      "path: 0\n",
      "path: 1\n",
      "path: 2\n",
      "path: 3\n",
      "path: 4\n",
      "path: 5\n",
      "path: 6\n",
      "path: 7\n",
      "path: 8\n",
      "path: 9\n",
      "path: 10\n",
      "path: 11\n",
      "path: 12\n",
      "path: 13\n",
      "path: 14\n",
      "path: 15\n",
      "path: 16\n",
      "path: 17\n",
      "path: 18\n",
      "path: 19\n",
      "path: 20\n",
      "path: 21\n",
      "path: 22\n",
      "path: 23\n",
      "path: 24\n",
      "path: 25\n",
      "path: 26\n",
      "path: 27\n",
      "path: 28\n",
      "path: 29\n",
      "path: 30\n",
      "path: 31\n",
      "path: 32\n",
      "path: 33\n",
      "path: 34\n",
      "path: 35\n",
      "path: 36\n",
      "path: 37\n",
      "path: 38\n",
      "path: 39\n",
      "path: 40\n",
      "path: 41\n",
      "path: 42\n",
      "path: 43\n",
      "path: 44\n",
      "path: 45\n",
      "path: 46\n",
      "path: 47\n",
      "path: 48\n",
      "path: 49\n",
      "path: 50\n",
      "path: 51\n",
      "path: 52\n",
      "path: 53\n",
      "path: 54\n",
      "path: 55\n",
      "path: 56\n",
      "path: 57\n",
      "path: 58\n",
      "path: 59\n",
      "path: 60\n",
      "path: 61\n",
      "path: 62\n",
      "path: 63\n",
      "path: 64\n",
      "path: 65\n",
      "path: 66\n",
      "path: 67\n",
      "path: 68\n",
      "path: 69\n",
      "path: 70\n",
      "path: 71\n",
      "path: 72\n",
      "path: 73\n",
      "path: 74\n",
      "path: 75\n",
      "path: 76\n",
      "path: 77\n",
      "path: 78\n",
      "path: 79\n",
      "path: 80\n",
      "path: 81\n",
      "path: 82\n",
      "path: 83\n",
      "path: 84\n",
      "path: 85\n",
      "path: 86\n",
      "path: 87\n",
      "path: 88\n",
      "path: 89\n",
      "path: 90\n",
      "path: 91\n",
      "path: 92\n",
      "path: 93\n"
     ]
    }
   ],
   "source": [
    "# create something to hold unique gravity pairs\n",
    "unique_gp = []\n",
    "# go up paths from all the leaves\n",
    "for idx, i in enumerate(paths):\n",
    "    print(\"path: {}\".format(idx))\n",
    "    # get all possible pairs by working left to right\n",
    "    for j in range(0,len(i)-1):\n",
    "        for k in range(j+1,len(i)):\n",
    "            # create a pair designation / string representation\n",
    "            gp = \"{}-{}\".format(i[j],i[k])\n",
    "            # if it isn't in the unique pair collection\n",
    "            if(gp not in unique_gp):\n",
    "                # then add it\n",
    "                unique_gp.append(gp)\n",
    "                # and print it\n",
    "                # print(gp)"
   ]
  },
  {
   "cell_type": "code",
   "execution_count": 10,
   "metadata": {},
   "outputs": [
    {
     "name": "stdout",
     "output_type": "stream",
     "text": [
      "the number of unique gravity pairs is: 162816\n"
     ]
    }
   ],
   "source": [
    "# and print the answer for use\n",
    "print(\"the number of unique gravity pairs is: {}\".format(len(unique_gp)))"
   ]
  },
  {
   "cell_type": "code",
   "execution_count": null,
   "metadata": {},
   "outputs": [],
   "source": []
  }
 ],
 "metadata": {
  "kernelspec": {
   "display_name": "Python 3",
   "language": "python",
   "name": "python3"
  },
  "language_info": {
   "codemirror_mode": {
    "name": "ipython",
    "version": 3
   },
   "file_extension": ".py",
   "mimetype": "text/x-python",
   "name": "python",
   "nbconvert_exporter": "python",
   "pygments_lexer": "ipython3",
   "version": "3.6.4"
  }
 },
 "nbformat": 4,
 "nbformat_minor": 2
}
