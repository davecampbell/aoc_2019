{
 "cells": [
  {
   "cell_type": "code",
   "execution_count": 1,
   "metadata": {},
   "outputs": [],
   "source": [
    "# Day 7 challenge for AOC2019\n",
    "# https://adventofcode.com/2019/day/7"
   ]
  },
  {
   "cell_type": "code",
   "execution_count": 2,
   "metadata": {},
   "outputs": [],
   "source": [
    "# this object is where the Intcode program lives and some useful methods\n",
    "# to fill it, clear it, read from it, write to it\n",
    "class Computer:\n",
    "    global set_trace\n",
    "    def __init__(self, size):\n",
    "        self.size = size  # must specify the memory size\n",
    "        self.storage = [None] * size  # initialize with None\n",
    "     \n",
    "    # dump out the contents between 2 positions (defaults all the memory)\n",
    "    def dump(self,start=0,end=-1):\n",
    "        if(end == -1):\n",
    "            end = self.size\n",
    "        for i in range(start, end):\n",
    "            print(\"{}: {}\".format(i,self.storage[i]))\n",
    "\n",
    "    # fill the memory with a sequence, starting at a certain position - which defaults to 0\n",
    "    def fill(self, codelist, start_pos = 0):\n",
    "        i = start_pos\n",
    "        for j in codelist:\n",
    "            self.storage[i] = j\n",
    "            i+=1\n",
    "    \n",
    "    # fill (write to) memory with a sequence, allowing direct or reference starting location\n",
    "    def mode_fill(self, s, mem_location, mode):\n",
    "        # mem_location: where to begin fill or to reference to begin\n",
    "        # mode (0 - position, 1 - immediate)\n",
    "        if(set_trace): import pdb; pdb.set_trace()\n",
    "        if(mode == '0'):\n",
    "            i = self.storage[mem_location]\n",
    "            for j in s:\n",
    "                self.storage[i] = j\n",
    "                i+=1\n",
    "        elif(mode == '1'):\n",
    "            i = mem_location\n",
    "            for j in s:\n",
    "                self.storage[i] = j\n",
    "                i+=1\n",
    "\n",
    "    # read the contents from just one position\n",
    "    def read(self, pos):\n",
    "        return self.storage[pos]\n",
    "   \n",
    "    # return the value based on parameter mode (position or immediate)\n",
    "    def mode_read(self, pos, mode):\n",
    "        if(set_trace): import pdb; pdb.set_trace()\n",
    "        # mode: 0 - position, 1 - immediate\n",
    "        if(mode == '0'):\n",
    "            return int(self.storage[self.storage[pos]])\n",
    "        elif(mode == '1'):\n",
    "            return int(self.storage[pos])\n",
    "\n",
    "    # clear the memory\n",
    "    def clear(self):\n",
    "        self.storage = [None] * self.size\n",
    "\n",
    "    # this function will execute a single sequence (operator + subsequent operands and output location)\n",
    "    def exec_seq(self, ctr):\n",
    "        global set_trace\n",
    "        # ctr - where to start\n",
    "        # m - the memory object to work from\n",
    "        # the first in the sequence is the 'enhnanced opcode' (includes 3 parameter modes in most significant position)\n",
    "        # zero-pad to 5 - most significant 0 is implied\n",
    "        enhanced_opcode = str(self.read(ctr)).zfill(5)\n",
    "        # first 3 characters are the parameter modes\n",
    "        pmodes = enhanced_opcode[:3]\n",
    "        # last 2 characters are the opcode\n",
    "        opcode = enhanced_opcode[3:]\n",
    "        if(set_trace): import pdb; pdb.set_trace()\n",
    "        # if it is 99, we're done\n",
    "        if(opcode == '99'):\n",
    "            return(\"STOP\")\n",
    "        # this is the \"add\" operator\n",
    "        elif(opcode == \"01\"):\n",
    "            if(set_trace): import pdb; pdb.set_trace()\n",
    "            operand1 = self.mode_read(ctr+1, pmodes[2])\n",
    "            operand2 = self.mode_read(ctr+2, pmodes[1])\n",
    "            if(set_trace): import pdb; pdb.set_trace()\n",
    "            calcval = operand1 + operand2\n",
    "        # this is the \"multiply\" operator\n",
    "        elif(opcode == \"02\"):\n",
    "            if(set_trace): import pdb; pdb.set_trace()\n",
    "            operand1 = self.mode_read(ctr+1, pmodes[2])\n",
    "            operand2 = self.mode_read(ctr+2, pmodes[1])\n",
    "            calcval = operand1 * operand2\n",
    "        # this is the 'store from input' operator\n",
    "        elif(opcode == \"03\"):\n",
    "            if(set_trace): import pdb; pdb.set_trace()\n",
    "            # get the input\n",
    "            val = getfrominput()\n",
    "            # store it in address provided by next code\n",
    "            self.mode_fill([val], ctr+1, pmodes[2])\n",
    "            # return next prog counter\n",
    "            return(ctr+2)\n",
    "        # this is the 'send to output' operator\n",
    "        elif(opcode == \"04\"):\n",
    "            if(set_trace): import pdb; pdb.set_trace()\n",
    "            # read the val (based on mode) specified from next code and send to output\n",
    "            sendtooutput(self.mode_read(ctr+1, pmodes[2]))\n",
    "            return(ctr+2)\n",
    "        # this is 'jump if true'\n",
    "        elif(opcode == \"05\"):\n",
    "            if(self.mode_read(ctr+1, pmodes[2])):\n",
    "                return(self.mode_read(ctr+2, pmodes[1]))\n",
    "            else:\n",
    "                return(ctr+3)\n",
    "        # this is 'jump if false'\n",
    "        elif(opcode == \"06\"):\n",
    "            if(self.mode_read(ctr+1, pmodes[2])):\n",
    "                return(ctr+3)\n",
    "            else:\n",
    "                return(self.mode_read(ctr+2, pmodes[1]))\n",
    "        # this is 'less than' operator\n",
    "        elif(opcode == \"07\"):\n",
    "            operand1 = self.mode_read(ctr+1, pmodes[2])\n",
    "            operand2 = self.mode_read(ctr+2, pmodes[1])\n",
    "            if(operand1 < operand2):\n",
    "                storeval = 1\n",
    "            else:\n",
    "                storeval = 0\n",
    "            self.mode_fill([storeval], ctr+3, pmodes[0])\n",
    "            return(ctr+4)\n",
    "        # this is the 'eqals to' operator\n",
    "        elif(opcode == \"08\"):\n",
    "            operand1 = self.mode_read(ctr+1, pmodes[2])\n",
    "            operand2 = self.mode_read(ctr+2, pmodes[1])\n",
    "            if(operand1 == operand2):\n",
    "                storeval = 1\n",
    "            else:\n",
    "                storeval = 0\n",
    "            self.mode_fill([storeval], ctr+3, pmodes[0])\n",
    "            return(ctr+4)        \n",
    "        # if here, then the opcode is not known\n",
    "        else:\n",
    "            return(\"BADOPCODE\")\n",
    "        # fill the output destination with value depending on mode\n",
    "        if(set_trace): import pdb; pdb.set_trace()\n",
    "        self.mode_fill([calcval], ctr+3, pmodes[0])\n",
    "        # and return the next postion in the memory\n",
    "        return(ctr+4)"
   ]
  },
  {
   "cell_type": "code",
   "execution_count": 3,
   "metadata": {},
   "outputs": [],
   "source": [
    "def sendtooutput(s):\n",
    "    print(\"OUTPUT: {}\".format(s))"
   ]
  },
  {
   "cell_type": "code",
   "execution_count": 4,
   "metadata": {},
   "outputs": [],
   "source": [
    "def getfrominput():\n",
    "    global inputstring\n",
    "    return(inputstring)"
   ]
  },
  {
   "cell_type": "code",
   "execution_count": null,
   "metadata": {},
   "outputs": [],
   "source": [
    "# this will turn on debugging and set breakpoints\n",
    "set_trace = False"
   ]
  },
  {
   "cell_type": "code",
   "execution_count": null,
   "metadata": {},
   "outputs": [],
   "source": [
    "class Amplifier:\n",
    "    def __init__(self, size):\n",
    "        self.phase_setting = None\n",
    "        self.computer\n",
    "        pass\n",
    "    def set_phase_setting(self, setting='0'):\n",
    "        self.phase_setting = setting"
   ]
  },
  {
   "cell_type": "code",
   "execution_count": null,
   "metadata": {},
   "outputs": [],
   "source": [
    "amp_settings = 5 * [None]\n",
    "amp_inputs = 5 * [None]\n",
    "amp_outputs = 5 * [None]\n",
    "\n",
    "amp_inputs[0] = 0\n",
    "\n",
    "amp_settings = [4,3,2,1,0]\n",
    "seq = [3,15,3,16,1002,16,10,16,1,16,15,15,4,15,99,0,0]"
   ]
  },
  {
   "cell_type": "code",
   "execution_count": null,
   "metadata": {},
   "outputs": [],
   "source": []
  },
  {
   "cell_type": "code",
   "execution_count": 5,
   "metadata": {},
   "outputs": [],
   "source": [
    "# the input provided:\n",
    "inputstring = \"5\"\n",
    "\n",
    "# get the full programming sequence (the program)\n",
    "seq = [3,225,1,225,6,6,1100,1,238,225,104,0,1102,57,23,224,101,-1311,224,224,4,224,1002,223,8,223,101,6,224,224,1,223,224,223,1102,57,67,225,102,67,150,224,1001,224,-2613,224,4,224,1002,223,8,223,101,5,224,224,1,224,223,223,2,179,213,224,1001,224,-469,224,4,224,102,8,223,223,101,7,224,224,1,223,224,223,1001,188,27,224,101,-119,224,224,4,224,1002,223,8,223,1001,224,7,224,1,223,224,223,1,184,218,224,1001,224,-155,224,4,224,1002,223,8,223,1001,224,7,224,1,224,223,223,1101,21,80,224,1001,224,-101,224,4,224,102,8,223,223,1001,224,1,224,1,224,223,223,1101,67,39,225,1101,89,68,225,101,69,35,224,1001,224,-126,224,4,224,1002,223,8,223,1001,224,1,224,1,224,223,223,1102,7,52,225,1102,18,90,225,1101,65,92,225,1002,153,78,224,101,-6942,224,224,4,224,102,8,223,223,101,6,224,224,1,223,224,223,1101,67,83,225,1102,31,65,225,4,223,99,0,0,0,677,0,0,0,0,0,0,0,0,0,0,0,1105,0,99999,1105,227,247,1105,1,99999,1005,227,99999,1005,0,256,1105,1,99999,1106,227,99999,1106,0,265,1105,1,99999,1006,0,99999,1006,227,274,1105,1,99999,1105,1,280,1105,1,99999,1,225,225,225,1101,294,0,0,105,1,0,1105,1,99999,1106,0,300,1105,1,99999,1,225,225,225,1101,314,0,0,106,0,0,1105,1,99999,1007,226,226,224,102,2,223,223,1005,224,329,1001,223,1,223,108,677,226,224,1002,223,2,223,1005,224,344,1001,223,1,223,1007,677,677,224,1002,223,2,223,1005,224,359,1001,223,1,223,1107,677,226,224,102,2,223,223,1006,224,374,1001,223,1,223,8,226,677,224,1002,223,2,223,1006,224,389,101,1,223,223,8,677,677,224,102,2,223,223,1006,224,404,1001,223,1,223,1008,226,226,224,102,2,223,223,1006,224,419,1001,223,1,223,107,677,226,224,102,2,223,223,1006,224,434,101,1,223,223,7,226,226,224,1002,223,2,223,1005,224,449,1001,223,1,223,1107,226,226,224,1002,223,2,223,1006,224,464,1001,223,1,223,1107,226,677,224,1002,223,2,223,1005,224,479,1001,223,1,223,8,677,226,224,1002,223,2,223,1006,224,494,1001,223,1,223,1108,226,677,224,1002,223,2,223,1006,224,509,101,1,223,223,1008,677,677,224,1002,223,2,223,1006,224,524,1001,223,1,223,1008,677,226,224,102,2,223,223,1006,224,539,1001,223,1,223,1108,677,677,224,102,2,223,223,1005,224,554,101,1,223,223,108,677,677,224,102,2,223,223,1006,224,569,101,1,223,223,1108,677,226,224,102,2,223,223,1005,224,584,1001,223,1,223,108,226,226,224,1002,223,2,223,1005,224,599,1001,223,1,223,1007,226,677,224,102,2,223,223,1005,224,614,1001,223,1,223,7,226,677,224,102,2,223,223,1006,224,629,1001,223,1,223,107,226,226,224,102,2,223,223,1005,224,644,101,1,223,223,7,677,226,224,102,2,223,223,1005,224,659,101,1,223,223,107,677,677,224,1002,223,2,223,1005,224,674,1001,223,1,223,4,223,99,226]\n",
    "# create a computer object with twice the memory of that sequence\n",
    "mycomp = Memory(len(seq) * 2)\n",
    "# load the program\n",
    "mycomp.fill(seq)"
   ]
  },
  {
   "cell_type": "code",
   "execution_count": 6,
   "metadata": {},
   "outputs": [
    {
     "name": "stdout",
     "output_type": "stream",
     "text": [
      "OUTPUT: 8684145\n",
      "FINAL STATE: STOP\n"
     ]
    }
   ],
   "source": [
    "# execute the program\n",
    "ctr = 0\n",
    "ret = mycomp.exec_seq(ctr)\n",
    "while(ret != \"STOP\" and ret != \"BADOPCODE\"):\n",
    "    ret = mycomp.exec_seq(ret)\n",
    "print(\"FINAL STATE: {}\".format(ret))\n",
    "if(set_trace): import pdb; pdb.set_trace()"
   ]
  },
  {
   "cell_type": "code",
   "execution_count": null,
   "metadata": {},
   "outputs": [],
   "source": []
  },
  {
   "cell_type": "code",
   "execution_count": null,
   "metadata": {},
   "outputs": [],
   "source": []
  }
 ],
 "metadata": {
  "kernelspec": {
   "display_name": "Python 3",
   "language": "python",
   "name": "python3"
  },
  "language_info": {
   "codemirror_mode": {
    "name": "ipython",
    "version": 3
   },
   "file_extension": ".py",
   "mimetype": "text/x-python",
   "name": "python",
   "nbconvert_exporter": "python",
   "pygments_lexer": "ipython3",
   "version": "3.6.4"
  }
 },
 "nbformat": 4,
 "nbformat_minor": 2
}
