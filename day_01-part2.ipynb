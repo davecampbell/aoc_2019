{
 "cells": [
  {
   "cell_type": "code",
   "execution_count": null,
   "metadata": {},
   "outputs": [],
   "source": [
    "# AOC 2019 DAY 01\n",
    "# formula for fuel required is shown\n",
    "# masses for each module can be read from:  https://adventofcode.com/2019/day/1/input\n",
    "#\n",
    "# had to resort to saving the input file locally as i was getting \"400\" errors when\n",
    "# accessing via urllib or requests modules\n",
    "#\n",
    "# part 2 added a requirement that the weight of the fuel also added a fuel requirement\n",
    "# this should be recursive, until negative, then consider it zero (or process done)"
   ]
  },
  {
   "cell_type": "code",
   "execution_count": 1,
   "metadata": {},
   "outputs": [],
   "source": [
    "def fuel_required(m):\n",
    "    return int(m/3) - 2    "
   ]
  },
  {
   "cell_type": "code",
   "execution_count": 2,
   "metadata": {},
   "outputs": [],
   "source": [
    "import pandas as pd"
   ]
  },
  {
   "cell_type": "code",
   "execution_count": 3,
   "metadata": {},
   "outputs": [],
   "source": [
    "# input data\n",
    "url = 'https://adventofcode.com/2019/day/1/input'\n",
    "local_file_name = \"input.txt\""
   ]
  },
  {
   "cell_type": "code",
   "execution_count": 4,
   "metadata": {},
   "outputs": [],
   "source": [
    "# read the data into a dataframe for processing ease\n",
    "df = pd.read_csv(local_file_name, header=None)"
   ]
  },
  {
   "cell_type": "code",
   "execution_count": 5,
   "metadata": {},
   "outputs": [],
   "source": [
    "# loop through the modue weights and calculate the fuel requirements, and accumlate total\n",
    "total_fuel_required = 0\n",
    "for i in range(df.size):\n",
    "    m = df.loc[i,0]\n",
    "    n = fuel_required(m)\n",
    "    while (fuel_required(n) > 0):\n",
    "        n += fuel_required(n)\n",
    "    \n",
    "    total_fuel_required += fuel_required(df.loc[i,0])"
   ]
  },
  {
   "cell_type": "code",
   "execution_count": 6,
   "metadata": {},
   "outputs": [
    {
     "name": "stdout",
     "output_type": "stream",
     "text": [
      "3152919\n"
     ]
    }
   ],
   "source": [
    "# output the total\n",
    "print(total_fuel_required)"
   ]
  },
  {
   "cell_type": "code",
   "execution_count": null,
   "metadata": {},
   "outputs": [],
   "source": []
  }
 ],
 "metadata": {
  "kernelspec": {
   "display_name": "Python 3",
   "language": "python",
   "name": "python3"
  },
  "language_info": {
   "codemirror_mode": {
    "name": "ipython",
    "version": 3
   },
   "file_extension": ".py",
   "mimetype": "text/x-python",
   "name": "python",
   "nbconvert_exporter": "python",
   "pygments_lexer": "ipython3",
   "version": "3.6.4"
  }
 },
 "nbformat": 4,
 "nbformat_minor": 2
}
