{
 "cells": [
  {
   "cell_type": "code",
   "execution_count": 1,
   "metadata": {},
   "outputs": [],
   "source": [
    "# Day 7 challenge for AOC2019\n",
    "# https://adventofcode.com/2019/day/7"
   ]
  },
  {
   "cell_type": "code",
   "execution_count": 2,
   "metadata": {},
   "outputs": [],
   "source": [
    "# this object is where the Intcode program lives and some useful methods\n",
    "# to fill it, clear it, read from it, write to it\n",
    "class Memory:\n",
    "    def __init__(self, size):\n",
    "        self.size = size  # must specify the memory size\n",
    "        self.storage = [None] * size  # initialize with None\n",
    "            \n",
    "    # dump out the contents between 2 positions (defaults all the memory)\n",
    "    def dump(self,start=0,end=-1):\n",
    "        if(end == -1):\n",
    "            end = self.size\n",
    "        for i in range(start, end):\n",
    "            print(\"{}: {}\".format(i,self.storage[i]))\n",
    "\n",
    "    # fill the memory with a sequence, starting at a certain position - which defaults to 0\n",
    "    def fill(self, codelist, start_pos = 0):\n",
    "        i = start_pos\n",
    "        for j in codelist:\n",
    "            self.storage[i] = j\n",
    "            i+=1\n",
    "\n",
    "    # read the contents from just one position\n",
    "    def read(self, pos):\n",
    "        return self.storage[pos]\n",
    "   \n",
    "    # clear the memory\n",
    "    def clear(self):\n",
    "        self.storage = [None] * self.size\n",
    "\n",
    "    # this function will execute a single sequence (operator + subsequent operands and output location)\n",
    "    def exec_seq(self, ctr):\n",
    "        # ctr - where to start\n",
    "        # the first in the sequence is the opcode\n",
    "        opcode = self.read(ctr)\n",
    "        # if it is 99, we're done\n",
    "        if(opcode == 99):\n",
    "            return(\"STOP\")\n",
    "        # this is the \"add\" operator\n",
    "        elif(opcode == 1):\n",
    "            calcval = self.read(self.read(ctr+1)) + self.read(self.read(ctr+2))\n",
    "        # this is the \"multiply\" operator\n",
    "        elif(opcode == 2):\n",
    "            calcval = self.read(self.read(ctr+1)) * self.read(self.read(ctr+2))\n",
    "        # if here, then the opcode is not known\n",
    "        else:\n",
    "            return(\"BADOPCODE\")\n",
    "        # fill the output destination address with the calculated value\n",
    "        self.fill([calcval], self.read(ctr+3))\n",
    "        # and return the next postion in the memory\n",
    "        return(ctr+4)"
   ]
  },
  {
   "cell_type": "code",
   "execution_count": 11,
   "metadata": {},
   "outputs": [
    {
     "data": {
      "text/plain": [
       "[None, None, None, None, None]"
      ]
     },
     "execution_count": 11,
     "metadata": {},
     "output_type": "execute_result"
    }
   ],
   "source": [
    "amp_settings = 5 * [None]\n",
    "amp_inputs = 5 * [None]\n",
    "amp_outputs = 5 * [None]\n",
    "\n",
    "amp_inputs[0] = 0\n",
    "\n",
    "amp_settings = [4,3,2,1,0]\n",
    "seq = [3,15,3,16,1002,16,10,16,1,16,15,15,4,15,99,0,0]\n",
    "\n"
   ]
  },
  {
   "cell_type": "code",
   "execution_count": 4,
   "metadata": {},
   "outputs": [],
   "source": [
    "# get the programming sequence\n",
    "seq = [1,0,0,3,1,1,2,3,1,3,4,3,1,5,0,3,2,10,1,19,2,19,6,23,2,13,23,27,1,9,27,31,2,31,9,35,1,6,35,39,2,10,39,43,1,5,43,47,1,5,47,51,2,51,6,55,2,10,55,59,1,59,9,63,2,13,63,67,1,10,67,71,1,71,5,75,1,75,6,79,1,10,79,83,1,5,83,87,1,5,87,91,2,91,6,95,2,6,95,99,2,10,99,103,1,103,5,107,1,2,107,111,1,6,111,0,99,2,14,0,0]\n",
    "# create a computer object with twice the memory of that sequence\n",
    "mycomp = Memory(len(seq) * 2)"
   ]
  },
  {
   "cell_type": "code",
   "execution_count": 5,
   "metadata": {},
   "outputs": [],
   "source": [
    "# will replace values at pos 1 (noun) and 2 (verb) with 0..99 until the desired answer is found at pos 0\n",
    "# reload Intcode program between each run\n",
    "answer = 0\n",
    "desired_answer = 19690720 "
   ]
  },
  {
   "cell_type": "code",
   "execution_count": 6,
   "metadata": {},
   "outputs": [],
   "source": [
    "for i in range(0,99):\n",
    "    for j in range(0,99):\n",
    "        # reload the Intcode program\n",
    "        mycomp.fill(seq)\n",
    "        # put in the current noun and verb guesses\n",
    "        mycomp.fill([i], 1)\n",
    "        mycomp.fill([j], 2)\n",
    "\n",
    "# primary loop\n",
    "# start at the beginning...\n",
    "        next_code = 0\n",
    "# and keep going as long as integers keep coming back as the next code location (badness will be a string)\n",
    "        while(isinstance(next_code, int)):\n",
    "            next_code = mycomp.exec_seq(next_code)\n",
    "\n",
    "# get the answer\n",
    "        answer = mycomp.read(0)\n",
    "        # check to see if it is the desired answer. if so, save the noun and verb.\n",
    "        if(answer == desired_answer):\n",
    "            noun = i\n",
    "            verb = j"
   ]
  },
  {
   "cell_type": "code",
   "execution_count": 7,
   "metadata": {},
   "outputs": [
    {
     "name": "stdout",
     "output_type": "stream",
     "text": [
      "noun: 64, verb: 29\n"
     ]
    }
   ],
   "source": [
    "print(\"noun: {}, verb: {}\".format(noun, verb))"
   ]
  },
  {
   "cell_type": "code",
   "execution_count": 8,
   "metadata": {},
   "outputs": [
    {
     "name": "stdout",
     "output_type": "stream",
     "text": [
      "submit_answer: 6429\n"
     ]
    }
   ],
   "source": [
    "# do the little math at the end of the challenge\n",
    "submit_answer = 100 * noun + verb\n",
    "print(\"submit_answer: {}\".format(submit_answer))"
   ]
  },
  {
   "cell_type": "code",
   "execution_count": null,
   "metadata": {},
   "outputs": [],
   "source": []
  }
 ],
 "metadata": {
  "kernelspec": {
   "display_name": "Python 3",
   "language": "python",
   "name": "python3"
  },
  "language_info": {
   "codemirror_mode": {
    "name": "ipython",
    "version": 3
   },
   "file_extension": ".py",
   "mimetype": "text/x-python",
   "name": "python",
   "nbconvert_exporter": "python",
   "pygments_lexer": "ipython3",
   "version": "3.6.4"
  }
 },
 "nbformat": 4,
 "nbformat_minor": 2
}
